{
 "cells": [
  {
   "cell_type": "code",
   "execution_count": 1,
   "metadata": {},
   "outputs": [
    {
     "name": "stdout",
     "output_type": "stream",
     "text": [
      "[[ 0.49671415 -0.1382643   0.64768854  1.52302986]\n",
      " [-0.23415337 -0.23413696  1.57921282  0.76743473]\n",
      " [-0.46947439  0.54256004         nan -0.46572975]]\n"
     ]
    }
   ],
   "source": [
    "#Day 08 p. 149 16:00~16:15(저장)\n",
    "\n",
    "#numpy csv 파일 저장\n",
    "\n",
    "import numpy as np\n",
    "\n",
    "np.random.seed(42)\n",
    "\n",
    "a = np.random.randn(3,4)\n",
    "a[2][2] = np.nan\n",
    "print(a)"
   ]
  },
  {
   "cell_type": "code",
   "execution_count": 2,
   "metadata": {},
   "outputs": [],
   "source": [
    "np.savetxt('np.csv', a, fmt='%.2f', delimiter = ',' ,header = \"#1, #2, #3, #4\")"
   ]
  },
  {
   "cell_type": "code",
   "execution_count": 10,
   "metadata": {},
   "outputs": [
    {
     "name": "stdout",
     "output_type": "stream",
     "text": [
      "          0         1         2         3\n",
      "0  0.496714 -0.138264  0.647689  1.523030\n",
      "1 -0.234153 -0.234137  1.579213  0.767435\n",
      "2 -0.469474  0.542560       NaN -0.465730\n"
     ]
    }
   ],
   "source": [
    "#pandas  csv 파일 저장\n",
    "import pandas as pd\n",
    "\n",
    "df = pd.DataFrame(a)\n",
    "print(df)\n",
    "\n",
    "df.to_csv('pd.csv', float_format='%.2f', na_rep=\"NAN!\")"
   ]
  },
  {
   "cell_type": "code",
   "execution_count": 14,
   "metadata": {},
   "outputs": [
    {
     "name": "stdout",
     "output_type": "stream",
     "text": [
      "Size CSV file 36693\n",
      "Shape (365, 4)\n",
      "Size .npy file 11808\n",
      "Size pickled dataframe 12276\n",
      "DF from pickle \n",
      "             0         1         2         3\n",
      "0    0.496714 -0.138264  0.647689  1.523030\n",
      "1   -0.234153 -0.234137  1.579213  0.767435\n",
      "2   -0.469474  0.542560 -0.463418 -0.465730\n",
      "3    0.241962 -1.913280 -1.724918 -0.562288\n",
      "4   -1.012831  0.314247 -0.908024 -1.412304\n",
      "5    1.465649 -0.225776  0.067528 -1.424748\n",
      "6   -0.544383  0.110923 -1.150994  0.375698\n",
      "7   -0.600639 -0.291694 -0.601707  1.852278\n",
      "8   -0.013497 -1.057711  0.822545 -1.220844\n",
      "9    0.208864 -1.959670 -1.328186  0.196861\n",
      "10   0.738467  0.171368 -0.115648 -0.301104\n",
      "11  -1.478522 -0.719844 -0.460639  1.057122\n",
      "12   0.343618 -1.763040  0.324084 -0.385082\n",
      "13  -0.676922  0.611676  1.031000  0.931280\n",
      "14  -0.839218 -0.309212  0.331263  0.975545\n",
      "15  -0.479174 -0.185659 -1.106335 -1.196207\n",
      "16   0.812526  1.356240 -0.072010  1.003533\n",
      "17   0.361636 -0.645120  0.361396  1.538037\n",
      "18  -0.035826  1.564644 -2.619745  0.821903\n",
      "19   0.087047 -0.299007  0.091761 -1.987569\n",
      "20  -0.219672  0.357113  1.477894 -0.518270\n",
      "21  -0.808494 -0.501757  0.915402  0.328751\n",
      "22  -0.529760  0.513267  0.097078  0.968645\n",
      "23  -0.702053 -0.327662 -0.392108 -1.463515\n",
      "24   0.296120  0.261055  0.005113 -0.234587\n",
      "25  -1.415371 -0.420645 -0.342715 -0.802277\n",
      "26  -0.161286  0.404051  1.886186  0.174578\n",
      "27   0.257550 -0.074446 -1.918771 -0.026514\n",
      "28   0.060230  2.463242 -0.192361  0.301547\n",
      "29  -0.034712 -1.168678  1.142823  0.751933\n",
      "..        ...       ...       ...       ...\n",
      "335  0.160574  0.003046  0.436938  1.190646\n",
      "336  0.949554 -1.484898 -2.553921  0.934320\n",
      "337 -1.366879 -0.224765 -1.170113 -1.801980\n",
      "338  0.541463  0.759155 -0.576510 -2.591042\n",
      "339 -0.546244  0.391804 -1.478912  0.183360\n",
      "340 -0.015310  0.579291  0.119580 -0.973069\n",
      "341  1.196572 -0.158530 -0.027305 -0.933268\n",
      "342 -0.443282 -0.884803 -0.172946  1.711708\n",
      "343 -1.371901 -1.613561  1.471170 -0.209324\n",
      "344 -0.669073  1.039905 -0.605616  1.826010\n",
      "345  0.677926 -0.487911  2.157308 -0.605715\n",
      "346  0.742095  0.299293  1.301741  1.561511\n",
      "347  0.032004 -0.753418  0.459972 -0.677715\n",
      "348  2.013387  0.136535 -0.365322  0.184680\n",
      "349 -1.347126 -0.971614  1.200414 -0.656894\n",
      "350 -1.046911  0.536653  1.185704  0.718953\n",
      "351  0.996048 -0.756795 -1.421811  1.501334\n",
      "352 -0.322680 -0.250833  1.328194  0.556230\n",
      "353  0.455888  2.165002 -0.643518  0.927840\n",
      "354  0.057013  0.268592  1.528468  0.507836\n",
      "355  0.538296  1.072507 -0.364953 -0.839210\n",
      "356 -1.044809 -1.966357  2.056207 -1.103208\n",
      "357 -0.221254 -0.276813  0.307407  0.815737\n",
      "358  0.860473 -0.583077 -0.167122  0.282580\n",
      "359 -0.248691  1.607346  0.490975  0.734878\n",
      "360  0.662881  1.173474  0.181022 -1.296832\n",
      "361  0.399688 -0.651357 -0.528617  0.586364\n",
      "362  1.238283  0.021272  0.308833  1.702215\n",
      "363  0.240753  2.601683  0.565510 -1.760763\n",
      "364  0.753342  0.381158  1.289753  0.673181\n",
      "\n",
      "[365 rows x 4 columns]\n"
     ]
    }
   ],
   "source": [
    "#.npy와 피클 포맷 ~180 / 16:23 ~18:55\n",
    "import numpy as np\n",
    "import pandas as pd\n",
    "from tempfile import NamedTemporaryFile\n",
    "from os.path import getsize\n",
    "\n",
    "np.random.seed(42)\n",
    "a = np.random.randn(365,4)\n",
    "\n",
    "#csv 파일에 데이터를 저장 후 크기를 확인\n",
    "tmpf = NamedTemporaryFile()\n",
    "np.savetxt(tmpf, a, delimiter =',')\n",
    "print(\"Size CSV file\", getsize(tmpf.name))\n",
    "\n",
    "#.npy 포맷으로 저장해 배열 불러옴 / csv 크기의 1/3 정도임.\n",
    "tmpf = NamedTemporaryFile()\n",
    "np.save(tmpf, a)\n",
    "tmpf.seek(0)\n",
    "loaded = np.load(tmpf)\n",
    "print(\"Shape\", loaded.shape)\n",
    "print(\"Size .npy file\", getsize(tmpf.name))\n",
    "\n",
    "#pickle 데이터 만들기. 사이즈 확인 .npy 큰 것을 알수 있다.\n",
    "df = pd.DataFrame(a)\n",
    "df.to_pickle(tmpf.name)\n",
    "print(\"Size pickled dataframe\", getsize(tmpf.name))\n",
    "print(\"DF from pickle \\n\", pd.read_pickle(tmpf.name))\n"
   ]
  },
  {
   "cell_type": "code",
   "execution_count": 18,
   "metadata": {},
   "outputs": [
    {
     "name": "stdout",
     "output_type": "stream",
     "text": [
      "13824\n",
      "<class 'numpy.ndarray'> (365, 4)\n"
     ]
    }
   ],
   "source": [
    "#PyTables 데이터 저장\n",
    "#HDF(계층형 데이터 포맷)은 숫자로 이뤄진 빅데이터를 저장하기 위한 기술이다. \n",
    "#구조는 데이터 그룹과 데이터셋(다차원 동질 배열homogeneous) 형태 이루어짐\n",
    "#설치: brew install hdf5 \n",
    "#pip install numexpr tables\n",
    "\n",
    "import numpy as np\n",
    "import tables\n",
    "from tempfile import NamedTemporaryFile\n",
    "from os.path import getsize\n",
    "\n",
    "np.random.seed(42)\n",
    "a = np.random.randn(365, 4)\n",
    "\n",
    "tmpf = NamedTemporaryFile()\n",
    "h5file = tables.open_file(tmpf.name, mode='w', title=\"NumPy Array\")\n",
    "root = h5file.root\n",
    "h5file.create_array(root, \"array\", a)\n",
    "h5file.close()\n",
    "\n",
    "#HDF5 파일을 읽고 크기 출력\n",
    "h5file = tables.open_file(tmpf.name, \"r\")\n",
    "print(getsize(tmpf.name))\n",
    "\n",
    "for node in h5file.root:\n",
    "   b = node.read()\n",
    "   print(type(b), b.shape)\n",
    "\n",
    "h5file.close()\n"
   ]
  },
  {
   "cell_type": "code",
   "execution_count": 25,
   "metadata": {},
   "outputs": [
    {
     "name": "stdout",
     "output_type": "stream",
     "text": [
      "<class 'pandas.io.pytables.HDFStore'>\n",
      "File path: pytable_df_demo.h5\n",
      "\n"
     ]
    }
   ],
   "source": [
    "#HDF5 형태로 Pandas 데이터프레임 읽고 쓰기\n",
    "\n",
    "#데모 파일에 HDFStore 생성자를 가져와서 store 변수에 담는다.\n",
    "filename = \"pytable_df_demo.h5\"\n",
    "store = pd.io.pytables.HDFStore(filename)\n",
    "print(store)"
   ]
  },
  {
   "cell_type": "code",
   "execution_count": 26,
   "metadata": {},
   "outputs": [
    {
     "name": "stdout",
     "output_type": "stream",
     "text": [
      "<class 'pandas.io.pytables.HDFStore'>\n",
      "File path: pytable_df_demo.h5\n",
      "\n"
     ]
    }
   ],
   "source": [
    "store['df'] = df\n",
    "print(store)"
   ]
  },
  {
   "cell_type": "code",
   "execution_count": 27,
   "metadata": {},
   "outputs": [
    {
     "name": "stdout",
     "output_type": "stream",
     "text": [
      "Get (365, 4)\n",
      "Lookup (365, 4)\n",
      "Dotted (365, 4)\n"
     ]
    }
   ],
   "source": [
    "#데이터프레임에서 GET, 딕셔너리 검색, 단순 점(dot) 접근가능 => 출력 값은 동일\n",
    "print(\"Get\", store.get('df').shape)\n",
    "print(\"Lookup\", store['df'].shape)\n",
    "print(\"Dotted\", store.df.shape)"
   ]
  },
  {
   "cell_type": "code",
   "execution_count": 28,
   "metadata": {},
   "outputs": [
    {
     "name": "stdout",
     "output_type": "stream",
     "text": [
      "After del \n",
      " <class 'pandas.io.pytables.HDFStore'>\n",
      "File path: pytable_df_demo.h5\n",
      "\n"
     ]
    }
   ],
   "source": [
    "del store['df']\n",
    "print(\"After del \\n\", store)"
   ]
  },
  {
   "cell_type": "code",
   "execution_count": 29,
   "metadata": {},
   "outputs": [
    {
     "name": "stdout",
     "output_type": "stream",
     "text": [
      "Before close True\n",
      "After close False\n"
     ]
    }
   ],
   "source": [
    "# 저장소가 열려 있는지 알려준다. 닫히면 'False'\n",
    "print(\"Before close\", store.is_open)\n",
    "store.close()\n",
    "print(\"After close\", store.is_open)"
   ]
  },
  {
   "cell_type": "code",
   "execution_count": 31,
   "metadata": {},
   "outputs": [
    {
     "name": "stdout",
     "output_type": "stream",
     "text": [
      "            0         1         2         3\n",
      "364  0.753342  0.381158  1.289753  0.673181\n"
     ]
    }
   ],
   "source": [
    "# 고정된 형식(속도는 빠르나 추가 및 검색은 불가능) / table은 가능\n",
    "df.to_hdf(tmpf.name, 'data', format='table')\n",
    "print(pd.read_hdf(tmpf.name, 'data', where = ['index>363']))"
   ]
  },
  {
   "cell_type": "code",
   "execution_count": 33,
   "metadata": {},
   "outputs": [
    {
     "name": "stdout",
     "output_type": "stream",
     "text": [
      "<class 'pandas.io.pytables.HDFStore'>\n",
      "File path: pytable_df_demo.h5\n",
      "\n",
      "<class 'pandas.io.pytables.HDFStore'>\n",
      "File path: pytable_df_demo.h5\n",
      "\n",
      "Get (365, 4)\n",
      "Lookup (365, 4)\n",
      "Dotted (365, 4)\n",
      "After del \n",
      " <class 'pandas.io.pytables.HDFStore'>\n",
      "File path: pytable_df_demo.h5\n",
      "\n",
      "Before close True\n",
      "After close False\n",
      "            0         1         2         3\n",
      "364  0.753342  0.381158  1.289753  0.673181\n"
     ]
    }
   ],
   "source": [
    "import numpy as np\n",
    "import pandas as pd\n",
    "\n",
    "np.random.seed(42)\n",
    "a = np.random.randn(365,4)\n",
    "\n",
    "filename = \"pytable_df_demo.h5\"\n",
    "store = pd.io.pytables.HDFStore(filename)\n",
    "print(store)\n",
    "\n",
    "df = pd.DataFrame(a)\n",
    "store['df'] = df\n",
    "print(store)\n",
    "\n",
    "print(\"Get\", store.get('df').shape)\n",
    "print(\"Lookup\", store['df'].shape)\n",
    "print(\"Dotted\", store.df.shape)\n",
    "\n",
    "del store['df']\n",
    "print(\"After del \\n\", store)\n",
    "\n",
    "print(\"Before close\", store.is_open)\n",
    "store.close()\n",
    "print(\"After close\", store.is_open)\n",
    "\n",
    "df.to_hdf('test.h5', 'data', format='table')\n",
    "print(pd.read_hdf('test.h5', 'data', where = ['index>363']))"
   ]
  },
  {
   "cell_type": "code",
   "execution_count": 34,
   "metadata": {},
   "outputs": [
    {
     "name": "stdout",
     "output_type": "stream",
     "text": [
      "excel_demo.xlsx\n",
      "Means\n",
      " Unnamed: 0    182.000000\n",
      "0               0.037860\n",
      "1               0.024483\n",
      "2               0.059836\n",
      "3               0.058417\n",
      "dtype: float64\n"
     ]
    }
   ],
   "source": [
    "#pandas로 엑셀 파일 읽기 및 쓰기\n",
    "#pip install openpyxl xlsxwriter xlrd\n",
    "\n",
    "import numpy as np\n",
    "import pandas as pd\n",
    "\n",
    "np.random.seed(42)\n",
    "a = np. random.randn(365, 4)\n",
    "\n",
    "filename=\"excel_demo.xlsx\"\n",
    "df = pd.DataFrame(a)\n",
    "print(filename)\n",
    "df.to_excel(filename, sheet_name='Random Data')\n",
    "print(\"Means\\n\", pd.read_excel(filename, 'Random Data').mean())"
   ]
  },
  {
   "cell_type": "code",
   "execution_count": 45,
   "metadata": {},
   "outputs": [
    {
     "name": "stdout",
     "output_type": "stream",
     "text": [
      "Country Netherlands\n",
      "{\"asn\": \"AS196752\", \"country\": \"Brazil\", \"continent_code\": \"EU\", \"isp\": \"Tilaa V.O.F.\", \"latitude\": 52.5, \"area_code\": \"0\", \"timezone\": \"Europe/Amsterdam\", \"longitude\": 5.75, \"country_code3\": \"NLD\", \"country_code\": \"NL\", \"dma_code\": \"0\", \"ip\": \"46.19.37.108\"}\n"
     ]
    }
   ],
   "source": [
    "#REST 웹서비스 및 JSON 저장\n",
    "#웹 표현 상태변경(Rest) Javescript Object Notation\n",
    "\n",
    "import json\n",
    "\n",
    "json_str = '{\"country\":\"Netherlands\",\"dma_code\":\"0\",\"timezone\":\"Europe\\/Amsterdam\",\"area_code\":\"0\",\"ip\":\"46.19.37.108\",\"asn\":\"AS196752\",\"continent_code\":\"EU\",\"isp\":\"Tilaa V.O.F.\",\"longitude\":5.75,\"latitude\":52.5,\"country_code\":\"NL\",\"country_code3\":\"NLD\"}'\n",
    "\n",
    "#json 사용함수 loads\n",
    "data = json.loads(json_str)\n",
    "\n",
    "#country 접근\n",
    "print(\"Country\", data[\"country\"])\n",
    "\n",
    "#값을 덮어씀\n",
    "data[\"country\"] = \"Brazil\"\n",
    "print(json.dumps(data))"
   ]
  },
  {
   "cell_type": "code",
   "execution_count": 47,
   "metadata": {},
   "outputs": [
    {
     "name": "stdout",
     "output_type": "stream",
     "text": [
      "Series \n",
      " area_code                        0\n",
      "asn                       AS196752\n",
      "continent_code                  EU\n",
      "country                Netherlands\n",
      "country_code                    NL\n",
      "country_code3                  NLD\n",
      "dma_code                         0\n",
      "ip                    46.19.37.108\n",
      "isp                   Tilaa V.O.F.\n",
      "latitude                      52.5\n",
      "longitude                     5.75\n",
      "timezone          Europe/Amsterdam\n",
      "dtype: object\n",
      "New Series \n",
      " {\"area_code\":\"0\",\"asn\":\"AS196752\",\"continent_code\":\"EU\",\"country\":\"Brazil\",\"country_code\":\"NL\",\"country_code3\":\"NLD\",\"dma_code\":\"0\",\"ip\":\"46.19.37.108\",\"isp\":\"Tilaa V.O.F.\",\"latitude\":52.5,\"longitude\":5.75,\"timezone\":\"Europe\\/Amsterdam\"}\n"
     ]
    }
   ],
   "source": [
    "#pandas에서 json 읽기 및 쓰기\n",
    "\n",
    "import pandas as pd\n",
    "\n",
    "json_str = '{\"country\":\"Netherlands\",\"dma_code\":\"0\",\"timezone\":\"Europe\\/Amsterdam\",\"area_code\":\"0\",\"ip\":\"46.19.37.108\",\"asn\":\"AS196752\",\"continent_code\":\"EU\",\"isp\":\"Tilaa V.O.F.\",\"longitude\":5.75,\"latitude\":52.5,\"country_code\":\"NL\",\"country_code3\":\"NLD\"}'\n",
    "\n",
    "data = pd.read_json(json_str, typ='series')\n",
    "print(\"Series \\n\", data)\n",
    "\n",
    "data[\"country\"] = \"Brazil\"\n",
    "print(\"New Series \\n\", data.to_json())"
   ]
  },
  {
   "cell_type": "code",
   "execution_count": 51,
   "metadata": {},
   "outputs": [
    {
     "name": "stdout",
     "output_type": "stream",
     "text": [
      "# Entries 10\n"
     ]
    }
   ],
   "source": [
    "#RSS Atom 피드 파싱\n",
    "#pip install feedparser\n",
    "\n",
    "import feedparser as fp\n",
    "rss = fp.parse(\"http://www.packtpub.com/rss.xml\")\n",
    "print(\"# Entries\", len(rss.entries))"
   ]
  },
  {
   "cell_type": "code",
   "execution_count": 56,
   "metadata": {},
   "outputs": [],
   "source": [
    "for i, entry in enumerate(rss.entries):\n",
    "    if \"Python\" in entry.summary:\n",
    "        print(i, entry.title)\n",
    "        print(entry.summary)\n",
    "    "
   ]
  },
  {
   "cell_type": "code",
   "execution_count": 54,
   "metadata": {},
   "outputs": [
    {
     "name": "stdout",
     "output_type": "stream",
     "text": [
      "6 FastTrack to OOP - Classes and Interfaces\n",
      "<p>In this article by <strong>Mohamed Sanaulla</strong> and <strong>Nick Samoylov</strong>, the authors of <a href=\"https://www.packtpub.com/application-development/java-9-cookbook\">Java 9 Cookbook</a>, we will cover the following recipe:</p>\n",
      "<ul>\n",
      "<li>Implementing object-oriented design using classes</li>\n",
      "</ul>\n",
      "<p style=\"margin-left: 40px; margin-right: 40px;\" align=\"center\"><em>(For more resources related to this topic, see <a href=\"https://www.packtpub.com/application-development/java-9-cookbook\">here</a>.)</em></p>\n",
      "<p><span style=\"background-color: transparent;\"><strong>Implementing object-oriented design using classes</strong> </span></p>\n",
      "<p><span style=\"background-color: transparent;\">In this recipe, you will learn about the first two OOD concepts--object/class and encapsulation. </span></p>\n",
      "<p><span style=\"background-color: transparent;\"><strong>Getting ready</strong> </span></p>\n",
      "<p><a href=\"http://www.packtpub.com/books/content/fasttrack-oop-classes-and-interfaces\" target=\"_blank\">read more</a></p>\n"
     ]
    }
   ],
   "source": [
    "for i, entry in enumerate(rss.entries):\n",
    "   if \"Java\" in entry.summary:\n",
    "      print(i, entry.title)\n",
    "      print(entry.summary)"
   ]
  },
  {
   "cell_type": "code",
   "execution_count": 60,
   "metadata": {},
   "outputs": [
    {
     "name": "stdout",
     "output_type": "stream",
     "text": [
      "First div\n",
      " <div class=\"tile\">\n",
      "<h4>Development</h4>\n",
      "     0.10.1 - July 2014<br/>\n",
      "</div>\n"
     ]
    }
   ],
   "source": [
    "#Beautiful Soup 활용한 HTML 파싱\n",
    "#pip install beautifulsoup4 lxml\n",
    "\n",
    "from bs4 import BeautifulSoup\n",
    "import re\n",
    "\n",
    "soup = BeautifulSoup(open('ex/loremIpsum.html'))\n",
    "print(\"First div\\n\", soup.div)"
   ]
  },
  {
   "cell_type": "code",
   "execution_count": 62,
   "metadata": {},
   "outputs": [
    {
     "name": "stdout",
     "output_type": "stream",
     "text": [
      "First div class ['tile']\n"
     ]
    }
   ],
   "source": [
    "print(\"First div class\", soup.div['class'])"
   ]
  },
  {
   "cell_type": "code",
   "execution_count": 63,
   "metadata": {},
   "outputs": [
    {
     "name": "stdout",
     "output_type": "stream",
     "text": [
      "First dfn text Quare attende, quaeso.\n"
     ]
    }
   ],
   "source": [
    "print(\"First dfn text\", soup.dl.dt.dfn.text)"
   ]
  },
  {
   "cell_type": "code",
   "execution_count": 65,
   "metadata": {},
   "outputs": [
    {
     "name": "stdout",
     "output_type": "stream",
     "text": [
      "Link text loripsum.net URL http://loripsum.net/\n",
      "Link text Poterat autem inpune; URL http://loripsum.net/\n",
      "Link text Is es profecto tu. URL http://loripsum.net/\n"
     ]
    }
   ],
   "source": [
    "for link in soup.find_all('a'):\n",
    "    print(\"Link text\", link.string, \"URL\", link.get('href'))"
   ]
  },
  {
   "cell_type": "code",
   "execution_count": 67,
   "metadata": {},
   "outputs": [
    {
     "name": "stdout",
     "output_type": "stream",
     "text": [
      "0 ['\\n', <h4>Development</h4>, '\\n     0.10.1 - July 2014', <br/>, '\\n']\n",
      "1 ['\\n', <h4>Official Release</h4>, '\\n     0.10.0 June 2014', <br/>, '\\n']\n",
      "2 ['\\n', <h4>Previous Release</h4>, '\\n     0.09.1 June 2013', <br/>, '\\n']\n"
     ]
    }
   ],
   "source": [
    "for i, div in enumerate(soup('div')):\n",
    "    print(i, div.contents)"
   ]
  },
  {
   "cell_type": "code",
   "execution_count": 68,
   "metadata": {},
   "outputs": [
    {
     "name": "stdout",
     "output_type": "stream",
     "text": [
      "official Version 0.10.0 June 2014\n"
     ]
    }
   ],
   "source": [
    "official_div = soup.find_all(\"div\", id =\"official\")\n",
    "print(\"official Version\", official_div[0].contents[2].strip())"
   ]
  },
  {
   "cell_type": "code",
   "execution_count": 69,
   "metadata": {},
   "outputs": [
    {
     "name": "stdout",
     "output_type": "stream",
     "text": [
      "# elements with class 3\n"
     ]
    }
   ],
   "source": [
    "print(\"# elements with class\", len(soup.find_all(class_ =True)))"
   ]
  },
  {
   "cell_type": "code",
   "execution_count": 76,
   "metadata": {},
   "outputs": [
    {
     "name": "stdout",
     "output_type": "stream",
     "text": [
      "# Tile classes 2\n"
     ]
    }
   ],
   "source": [
    "#tile 클래스 갯수 세기\n",
    "title_class = soup.find_all(\"div\", class_=\"tile\")\n",
    "print(\"# Tile classes\", len(title_class))"
   ]
  },
  {
   "cell_type": "code",
   "execution_count": 78,
   "metadata": {},
   "outputs": [
    {
     "name": "stdout",
     "output_type": "stream",
     "text": [
      "# Divs with class containing tile 3\n"
     ]
    }
   ],
   "source": [
    "# div 정규 표현식을 사용해 검색하기\n",
    "print(\"# Divs with class containing tile\", len(soup.find_all(\"div\", class_= re.compile(\"tile\"))))"
   ]
  },
  {
   "cell_type": "code",
   "execution_count": 79,
   "metadata": {},
   "outputs": [
    {
     "name": "stdout",
     "output_type": "stream",
     "text": [
      "using CSS selector \n",
      " [<div class=\"notile\">\n",
      "<h4>Previous Release</h4>\n",
      "     0.09.1 June 2013<br/>\n",
      "</div>]\n"
     ]
    }
   ],
   "source": [
    "#CSS 패턴 정의\n",
    "print(\"using CSS selector \\n\", soup.select('div.notile'))"
   ]
  },
  {
   "cell_type": "code",
   "execution_count": 80,
   "metadata": {},
   "outputs": [
    {
     "name": "stdout",
     "output_type": "stream",
     "text": [
      "Selecting ordered list list items\n",
      " [<li>Cur id non ita fit?</li>, <li>In qua si nihil est praeter rationem, sit in una virtute finis bonorum;</li>]\n"
     ]
    }
   ],
   "source": [
    "#정렬 리스트에서 첫번째 두개의 아이템 선택\n",
    "print(\"Selecting ordered list list items\\n\", soup.select(\"ol > li\")[:2])"
   ]
  },
  {
   "cell_type": "code",
   "execution_count": 85,
   "metadata": {},
   "outputs": [
    {
     "name": "stdout",
     "output_type": "stream",
     "text": [
      "Second list item in ordered list [<li>In qua si nihil est praeter rationem, sit in una virtute finis bonorum;</li>]\n"
     ]
    }
   ],
   "source": [
    "print(\"Second list item in ordered list\", soup.select(\"ol > li:nth-of-type(2)\"))"
   ]
  },
  {
   "cell_type": "code",
   "execution_count": 86,
   "metadata": {},
   "outputs": [
    {
     "name": "stdout",
     "output_type": "stream",
     "text": [
      "Searching for txt string ['\\n     0.10.1 - July 2014', '\\n     0.10.0 June 2014']\n"
     ]
    }
   ],
   "source": [
    "print(\"Searching for txt string\", soup.find_all(text =re.compile(\"2014\")))"
   ]
  },
  {
   "cell_type": "code",
   "execution_count": null,
   "metadata": {},
   "outputs": [],
   "source": []
  }
 ],
 "metadata": {
  "kernelspec": {
   "display_name": "Python 3",
   "language": "python",
   "name": "python3"
  },
  "language_info": {
   "codemirror_mode": {
    "name": "ipython",
    "version": 3
   },
   "file_extension": ".py",
   "mimetype": "text/x-python",
   "name": "python",
   "nbconvert_exporter": "python",
   "pygments_lexer": "ipython3",
   "version": "3.5.2"
  }
 },
 "nbformat": 4,
 "nbformat_minor": 2
}
