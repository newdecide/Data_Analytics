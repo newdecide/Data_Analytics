{
 "cells": [
  {
   "cell_type": "code",
   "execution_count": 8,
   "metadata": {},
   "outputs": [
    {
     "name": "stdout",
     "output_type": "stream",
     "text": [
      "Table sensors\n",
      "('2016-11-05', 'Utrecht', 'Red', 42.0, 15.14)\n",
      "# of tablaes 0\n"
     ]
    }
   ],
   "source": [
    "#Day11 p.233 ~ 데이터베이스로 작업하기\n",
    "\n",
    "#SQLite로 디비 설계\n",
    "\n",
    "import sqlite3\n",
    "\n",
    "#디비 연결\n",
    "with sqlite3.connect(\":memory:\") as con:\n",
    "    \n",
    "    #커서 생성\n",
    "    c = con.cursor()\n",
    "    \n",
    "    #테이블 생성\n",
    "    c.execute('''CREATE TABLE sensors(date text, city text, code text, sensor_id real, temperature real)''')\n",
    "        \n",
    "    #테이블 호출\n",
    "    for table in c.execute(\"SELECT name FROM sqlite_master WHERE type = 'table'\"):\n",
    "        print(\"Table\", table[0])\n",
    "    \n",
    "    #DB 추가\n",
    "    c.execute(\"INSERT INTO sensors VALUES('2016-11-05', 'Utrecht', 'Red', 42, 15.14)\")\n",
    "    c.execute(\"SELECT *FROM sensors\")\n",
    "    \n",
    "    #테이블 호출\n",
    "    print(c.fetchone())\n",
    "    \n",
    "    c.execute(\"DROP TABLE sensors\")\n",
    "    \n",
    "    print(\"# of tablaes\", c.execute(\"SELECT COUNT(*) FROM sqlite_master WHERE type = 'table'\").fetchone()[0])\n",
    "    \n",
    "    c.close()"
   ]
  },
  {
   "cell_type": "code",
   "execution_count": 6,
   "metadata": {},
   "outputs": [
    {
     "name": "stdout",
     "output_type": "stream",
     "text": [
      "(309,)\n",
      "Deleted 217 rows\n",
      "      year  sunactivity\n",
      "0   1700.0          5.0\n",
      "1   1701.0         11.0\n",
      "2   1702.0         16.0\n",
      "3   1707.0         20.0\n",
      "4   1708.0         10.0\n",
      "5   1709.0          8.0\n",
      "6   1710.0          3.0\n",
      "7   1711.0          0.0\n",
      "8   1712.0          0.0\n",
      "9   1713.0          2.0\n",
      "10  1714.0         11.0\n",
      "11  1723.0         11.0\n"
     ]
    }
   ],
   "source": [
    "#pandas 데이터 베이스 접근\n",
    "#데이터 프레임 형태로 나열됨.\n",
    "\n",
    "import statsmodels.api as sm\n",
    "from pandas.io.sql import read_sql\n",
    "import sqlite3\n",
    "\n",
    "with sqlite3.connect(\":memory:\") as con:\n",
    "    c = con.cursor()\n",
    "    \n",
    "    data_loader = sm.datasets.sunspots.load_pandas()\n",
    "    df = data_loader.data\n",
    "    rows = [tuple(x) for x in df.values]\n",
    "    \n",
    "    con.execute(\"CREATE TABLE sunspots(year, sunactivity)\")\n",
    "    con.executemany(\"INSERT INTO sunspots(year, sunactivity) VALUES (?, ?)\", rows)\n",
    "    c.execute(\"SELECT COUNT(*) FROM sunspots\")\n",
    "    print(c.fetchone())\n",
    "    print(\"Deleted\", con.execute(\"DELETE FROM sunspots where sunactivity > 20\").rowcount, \"rows\")\n",
    "    print(read_sql(\"SELECT * FROM sunspots where year < 1732\", con))\n",
    "    con.execute(\"DROP TABLE sunspots\")\n",
    "    c.close()    \n",
    "    "
   ]
  },
  {
   "cell_type": "code",
   "execution_count": 9,
   "metadata": {},
   "outputs": [
    {
     "name": "stdout",
     "output_type": "stream",
     "text": [
      "This script is used by code further down in this notebook.\n",
      "This script is used by code further down in this notebook\n",
      "Station Id=1 name=De Bilt\n",
      "Sensor Id=%d last=%d multiplier=%.1f station_id=%d\n",
      "Query 1 [Id=1 name=De Bilt, Id=2 name=Utrecht]\n",
      "Query 2 [Id=%d last=%d multiplier=%.1f station_id=%d]\n",
      "Query 3 Id=%d last=%d multiplier=%.1f station_id=%d\n",
      "   id     name\n",
      "0   1  De Bilt\n",
      "1   2  Utrecht\n",
      "Deleted demo.db\n"
     ]
    }
   ],
   "source": [
    "#SQLAlchemy\n",
    "#pip install sqlalchemy\n",
    "\n",
    "from sqlalchemy import Column, ForeignKey, Integer, String, Float\n",
    "from sqlalchemy.ext.declarative import declarative_base\n",
    "from sqlalchemy.orm import relationship\n",
    "from sqlalchemy import create_engine\n",
    "from sqlalchemy import UniqueConstraint\n",
    "\n",
    "Base = declarative_base()\n",
    "class Station(Base):\n",
    "    __tablename__ = 'station'\n",
    "    id = Column(Integer, primary_key=True)\n",
    "    name = Column(String(14), nullable=False, unique=True)\n",
    "\n",
    "    def __repr__(self):\n",
    "        return \"Id=%d name=%s\" %(self.id, self.name)\n",
    "\n",
    "class Sensor(Base):\n",
    "    __tablename__ = 'sensor'\n",
    "    id = Column(Integer, primary_key=True)\n",
    "    last = Column(Integer)\n",
    "    multiplier = Column(Float)\n",
    "    station_id = Column(Integer, ForeignKey('station.id'))\n",
    "    station = relationship(Station)\n",
    "\n",
    "    def __repr__(self):\n",
    "        return \"Id=%d last=%d multiplier=%.1f station_id=%d\" \n",
    "# %(self.id, self.last, self.multiplier, self.station_id)\n",
    "\n",
    "if __name__ == \"__main__\":\n",
    "    print(\"This script is used by code further down in this notebook.\")\n",
    "\n",
    "from sqlalchemy import create_engine\n",
    "from sqlalchemy.orm import sessionmaker\n",
    "\n",
    "#from alchemy_entities import Base, Sensor, Station\n",
    "\n",
    "def populate(engine):\n",
    "    Base.metadata.bind = engine\n",
    "\n",
    "    DBSession = sessionmaker(bind=engine)\n",
    "    session = DBSession()\n",
    "\n",
    "    de_bilt = Station(name='De Bilt')\n",
    "    session.add(de_bilt)\n",
    "    session.add(Station(name='Utrecht'))\n",
    "    session.commit()\n",
    "    print(\"Station\", de_bilt)\n",
    "\n",
    "    temp_sensor = Sensor(last=20, multiplier=.1, station=de_bilt)\n",
    "    session.add(temp_sensor)\n",
    "    session.commit()\n",
    "    print(\"Sensor\", temp_sensor)\n",
    "\n",
    "if __name__ == \"__main__\":\n",
    "    print(\"This script is used by code further down in this notebook\")\n",
    "\n",
    "#데이터 처리하기\n",
    "\n",
    "#from alchemy_entities import Base, Sensor, Station\n",
    "#from populate_db import populate\n",
    "from sqlalchemy import create_engine\n",
    "from sqlalchemy.orm import sessionmaker\n",
    "import os\n",
    "from pandas.io.sql import read_sql\n",
    "\n",
    "\n",
    "engine = create_engine('sqlite:///demo.db')\n",
    "Base.metadata.create_all(engine)\n",
    "populate(engine)\n",
    "Base.metadata.bind = engine\n",
    "DBSession = sessionmaker()\n",
    "DBSession.bind = engine\n",
    "session = DBSession()\n",
    "\n",
    "station = session.query(Station).first()\n",
    "\n",
    "print(\"Query 1\", session.query(Station).all())\n",
    "print(\"Query 2\", session.query(Sensor).all())\n",
    "print(\"Query 3\", session.query(Sensor).filter(Sensor.station == station).one())\n",
    "print(read_sql(\"SELECT * FROM station\", engine.raw_connection()))\n",
    "\n",
    "try:\n",
    "    os.remove('demo.db')\n",
    "    print(\"Deleted demo.db\")\n",
    "except OSError:\n",
    "    pass    "
   ]
  },
  {
   "cell_type": "code",
   "execution_count": 10,
   "metadata": {},
   "outputs": [
    {
     "name": "stdout",
     "output_type": "stream",
     "text": [
      "[309]\n"
     ]
    }
   ],
   "source": [
    "#Pony ORM\n",
    "#pip install pony\n",
    "\n",
    "from pony.orm import Database, db_session\n",
    "import statsmodels.api as sm\n",
    "\n",
    "#메모리상의 sqlite 생성\n",
    "db = Database('sqlite', ':memory:')\n",
    "\n",
    "#테이블의 행의 개수를 출력\n",
    "with db_session:\n",
    "    data_loader = sm.datasets.sunspots.load_pandas()\n",
    "    df = data_loader.data\n",
    "    df.to_sql(\"sunspots\", db.get_connection())\n",
    "    print(db.select(\"count(*) FROM sunspots\"))\n"
   ]
  },
  {
   "cell_type": "code",
   "execution_count": 12,
   "metadata": {},
   "outputs": [
    {
     "name": "stdout",
     "output_type": "stream",
     "text": [
      "OrderedDict([('id', 1), ('author', 'Ivan Idris'), ('title', \"NumPy Beginner's Guide\")])\n",
      "OrderedDict([('id', 2), ('author', 'Ivan Idris'), ('title', 'NumPy Cookbook')])\n",
      "OrderedDict([('id', 3), ('author', 'Ivan Idris'), ('title', 'Learning NumPy')])\n",
      "Tables ['books']\n"
     ]
    }
   ],
   "source": [
    "#dataset DB\n",
    "#pip install dataset\n",
    "\n",
    "import dataset\n",
    "from pandas.io.sql import read_sql\n",
    "from pandas.io.sql import to_sql\n",
    "import statsmodels.api as sm\n",
    "\n",
    "#연결\n",
    "db = dataset.connect('sqlite:///:memory:')\n",
    "\n",
    "#테이블 생성\n",
    "table = db[\"books\"]\n",
    "table.insert(dict(title=\"NumPy Beginner's Guide\", author='Ivan Idris'))\n",
    "table.insert(dict(title=\"NumPy Cookbook\", author='Ivan Idris'))\n",
    "table.insert(dict(title=\"Learning NumPy\", author='Ivan Idris'))\n",
    "\n",
    "for row in db['books']:\n",
    "    print(row)\n",
    "    \n",
    "\n",
    "print(\"Tables\", db.tables)"
   ]
  },
  {
   "cell_type": "code",
   "execution_count": null,
   "metadata": {},
   "outputs": [],
   "source": [
    "#Mongo DB\n",
    "#pip install pymongo"
   ]
  },
  {
   "cell_type": "code",
   "execution_count": 19,
   "metadata": {},
   "outputs": [
    {
     "name": "stdout",
     "output_type": "stream",
     "text": [
      "      SUNACTIVITY    YEAR                       _id\n",
      "0            26.2  1897.0  5c626a3a8486280270bd0579\n",
      "1            41.0  1794.0  5c626a3a8486280270bd057a\n",
      "2            64.6  1840.0  5c626a3a8486280270bd057b\n",
      "3           104.0  2002.0  5c626a3a8486280270bd057c\n",
      "4           121.5  1836.0  5c626a3a8486280270bd057d\n",
      "5            30.6  1774.0  5c626a3a8486280270bd057e\n",
      "6             4.0  1822.0  5c626a3a8486280270bd057f\n",
      "7            83.4  1750.0  5c626a3a8486280270bd0580\n",
      "8             5.0  1733.0  5c626a3a8486280270bd0581\n",
      "9            23.0  1703.0  5c626a3a8486280270bd0582\n",
      "10           15.2  2006.0  5c626a3a8486280270bd0583\n",
      "11           80.9  1749.0  5c626a3a8486280270bd0584\n",
      "12          125.9  1779.0  5c626a3a8486280270bd0585\n",
      "13           63.5  1905.0  5c626a3a8486280270bd0586\n",
      "14          136.3  1948.0  5c626a3a8486280270bd0587\n",
      "15           79.7  1936.0  5c626a3a8486280270bd0588\n",
      "16            4.4  1954.0  5c626a3a8486280270bd0589\n",
      "17           66.2  1873.0  5c626a3a8486280270bd058a\n",
      "18           37.6  1962.0  5c626a3a8486280270bd058b\n",
      "19           98.5  1847.0  5c626a3a8486280270bd058c\n",
      "20          109.6  1938.0  5c626a3a8486280270bd058d\n",
      "21           49.6  1827.0  5c626a3a8486280270bd058e\n",
      "22            5.7  1933.0  5c626a3a8486280270bd058f\n",
      "23           21.2  1931.0  5c626a3a8486280270bd0590\n",
      "24           63.9  1926.0  5c626a3a8486280270bd0591\n",
      "25          124.7  1848.0  5c626a3a8486280270bd0592\n",
      "26            5.0  1902.0  5c626a3a8486280270bd0593\n",
      "27           13.9  1814.0  5c626a3a8486280270bd0594\n",
      "28           25.4  1886.0  5c626a3a8486280270bd0595\n",
      "29           26.0  1721.0  5c626a3a8486280270bd0596\n",
      "...           ...     ...                       ...\n",
      "1206         27.5  1832.0  5c626ad58486280270bd0a32\n",
      "1207         66.6  1971.0  5c626ad58486280270bd0a33\n",
      "1208        111.2  1871.0  5c626ad58486280270bd0a34\n",
      "1209         40.0  1747.0  5c626ad58486280270bd0a35\n",
      "1210        154.4  1778.0  5c626ad58486280270bd0a36\n",
      "1211         82.9  1786.0  5c626ad58486280270bd0a37\n",
      "1212         84.8  1780.0  5c626ad58486280270bd0a38\n",
      "1213         45.0  1802.0  5c626ad58486280270bd0a39\n",
      "1214          7.1  1890.0  5c626ad58486280270bd0a3a\n",
      "1215        111.0  1738.0  5c626ad58486280270bd0a3b\n",
      "1216        141.7  1956.0  5c626ad58486280270bd0a3c\n",
      "1217         47.4  1915.0  5c626ad58486280270bd0a3d\n",
      "1218         81.0  1737.0  5c626ad58486280270bd0a3e\n",
      "1219         35.0  1731.0  5c626ad58486280270bd0a3f\n",
      "1220         54.8  1858.0  5c626ad58486280270bd0a40\n",
      "1221          8.0  1709.0  5c626ad58486280270bd0a41\n",
      "1222         63.0  1717.0  5c626ad58486280270bd0a42\n",
      "1223         40.1  1845.0  5c626ad58486280270bd0a43\n",
      "1224         40.4  2004.0  5c626ad58486280270bd0a44\n",
      "1225         40.0  1741.0  5c626ad58486280270bd0a45\n",
      "1226         22.0  1722.0  5c626ad58486280270bd0a46\n",
      "1227         64.3  1998.0  5c626ad58486280270bd0a47\n",
      "1228        101.0  1739.0  5c626ad58486280270bd0a48\n",
      "1229         62.0  1907.0  5c626ad58486280270bd0a49\n",
      "1230         24.4  1903.0  5c626ad58486280270bd0a4a\n",
      "1231         16.3  1866.0  5c626ad58486280270bd0a4b\n",
      "1232        140.4  1981.0  5c626ad58486280270bd0a4c\n",
      "1233        115.9  1982.0  5c626ad58486280270bd0a4d\n",
      "1234         11.0  1732.0  5c626ad58486280270bd0a4e\n",
      "1235        139.0  1870.0  5c626ad58486280270bd0a4f\n",
      "\n",
      "[1236 rows x 3 columns]\n"
     ]
    },
    {
     "name": "stderr",
     "output_type": "stream",
     "text": [
      "/Users/siyeon/.pyenv/versions/3.5.2/lib/python3.5/site-packages/ipykernel_launcher.py:13: DeprecationWarning: insert is deprecated. Use insert_one or insert_many instead.\n",
      "  del sys.path[0]\n"
     ]
    },
    {
     "data": {
      "text/plain": [
       "{'nIndexesWas': 1, 'ns': 'test_database.sunspots', 'ok': 1.0}"
      ]
     },
     "execution_count": 19,
     "metadata": {},
     "output_type": "execute_result"
    }
   ],
   "source": [
    "from pymongo import MongoClient\n",
    "import statsmodels.api as sm\n",
    "import json\n",
    "import pandas as pd\n",
    "\n",
    "client= MongoClient()\n",
    "db = client.test_database\n",
    "\n",
    "#데이터 프레임을 json 만들기\n",
    "data_loader = sm.datasets.sunspots.load_pandas()\n",
    "df = data_loader.data\n",
    "rows = json.loads(df.T.to_json()).values()\n",
    "db.sunspots.insert(rows)\n",
    "\n",
    "#json 도큐먼트 처리함.\n",
    "cursor = db['sunspots'].find({})\n",
    "df = pd.DataFrame(list(cursor))\n",
    "print(df)\n",
    "\n",
    "db.drop_collection('sunspots')\n"
   ]
  },
  {
   "cell_type": "code",
   "execution_count": 22,
   "metadata": {},
   "outputs": [
    {
     "name": "stdout",
     "output_type": "stream",
     "text": [
      "              0     1     10      100   101   102     103     104     105  \\\n",
      "SUNACTIVITY     5    11     3    14.5    34    45    43.1    47.5    42.2   \n",
      "YEAR         1700  1701  1710  1800.0  1801  1802  1803.0  1804.0  1805.0   \n",
      "\n",
      "                106  ...     90      91    92      93    94      95    96   \\\n",
      "SUNACTIVITY    28.1  ...    89.9    66.6    60    46.9    41    21.3    16   \n",
      "YEAR         1806.0  ...  1790.0  1791.0  1792  1793.0  1794  1795.0  1796   \n",
      "\n",
      "                97      98      99   \n",
      "SUNACTIVITY     6.4     4.1     6.8  \n",
      "YEAR         1797.0  1798.0  1799.0  \n",
      "\n",
      "[2 rows x 309 columns]\n"
     ]
    }
   ],
   "source": [
    "#Redis 데이터 저장 \n",
    "#pip install redis\n",
    "\n",
    "import redis\n",
    "import statsmodels.api as sm\n",
    "import pandas as pd\n",
    "import json\n",
    "\n",
    "r = redis.StrictRedis()\n",
    "data_loader = sm.datasets.sunspots.load_pandas()\n",
    "df = data_loader.data\n",
    "data = df.T.to_json()\n",
    "r.set('sunspots', data)\n",
    "blob = r.get('sunspots')\n",
    "#데이터 검색\n",
    "print(pd.read_json(blob))"
   ]
  },
  {
   "cell_type": "code",
   "execution_count": 23,
   "metadata": {},
   "outputs": [
    {
     "ename": "ImportError",
     "evalue": "No module named 'memcache'",
     "output_type": "error",
     "traceback": [
      "\u001b[0;31m---------------------------------------------------------------------------\u001b[0m",
      "\u001b[0;31mImportError\u001b[0m                               Traceback (most recent call last)",
      "\u001b[0;32m<ipython-input-23-ccc585f2eaa7>\u001b[0m in \u001b[0;36m<module>\u001b[0;34m\u001b[0m\n\u001b[0;32m----> 1\u001b[0;31m \u001b[0;32mimport\u001b[0m \u001b[0mmemcache\u001b[0m\u001b[0;34m\u001b[0m\u001b[0m\n\u001b[0m\u001b[1;32m      2\u001b[0m \u001b[0;32mimport\u001b[0m \u001b[0mstatsmodels\u001b[0m\u001b[0;34m.\u001b[0m\u001b[0mapi\u001b[0m \u001b[0;32mas\u001b[0m \u001b[0msm\u001b[0m\u001b[0;34m\u001b[0m\u001b[0m\n\u001b[1;32m      3\u001b[0m \u001b[0;32mimport\u001b[0m \u001b[0mpandas\u001b[0m \u001b[0;32mas\u001b[0m \u001b[0mpd\u001b[0m\u001b[0;34m\u001b[0m\u001b[0m\n\u001b[1;32m      4\u001b[0m \u001b[0;34m\u001b[0m\u001b[0m\n\u001b[1;32m      5\u001b[0m \u001b[0mclient\u001b[0m \u001b[0;34m=\u001b[0m \u001b[0mmemcache\u001b[0m\u001b[0;34m.\u001b[0m\u001b[0mClient\u001b[0m\u001b[0;34m(\u001b[0m\u001b[0;34m[\u001b[0m\u001b[0;34m(\u001b[0m\u001b[0;34m'127.0.0.1'\u001b[0m\u001b[0;34m,\u001b[0m \u001b[0;36m11211\u001b[0m\u001b[0;34m)\u001b[0m\u001b[0;34m]\u001b[0m\u001b[0;34m)\u001b[0m\u001b[0;34m\u001b[0m\u001b[0m\n",
      "\u001b[0;31mImportError\u001b[0m: No module named 'memcache'"
     ]
    }
   ],
   "source": [
    "import memcache\n",
    "import statsmodels.api as sm\n",
    "import pandas as pd\n",
    "\n",
    "client = memcache.Client([('127.0.0.1', 11211)])\n",
    "data_loader = sm.datasets.sunspots.load_pandas()\n",
    "df = data_loader.data\n",
    "data = df.T.to_json()\n",
    "client.set('sunspots', data, time=600)\n",
    "print(\"Stored data to memcached, auto-expire after 600 seconds\")\n",
    "blob = client.get('sunspots')\n",
    "print(pd.read_json(blob))"
   ]
  },
  {
   "cell_type": "code",
   "execution_count": null,
   "metadata": {},
   "outputs": [],
   "source": [
    "from cassandra import ConsistencyLevel\n",
    "from cassandra.cluster import Cluster\n",
    "from cassandra.query import SimpleStatement\n",
    "import statsmodels.api as sm\n",
    "\n",
    "cluster = Cluster()\n",
    "session = cluster.connect()\n",
    "session.execute(\"CREATE KEYSPACE IF NOT EXISTS mykeyspace WITH REPLICATION = { 'class' : 'SimpleStrategy', 'replication_factor' : 1 };\")\n",
    "session.set_keyspace('mykeyspace')\n",
    "session.execute(\"CREATE TABLE IF NOT EXISTS sunspots (year decimal PRIMARY KEY, sunactivity decimal);\")\n",
    "\n",
    "query = SimpleStatement(\n",
    "    \"INSERT INTO sunspots (year, sunactivity) VALUES (%s, %s)\",\n",
    "    consistency_level=ConsistencyLevel.QUORUM)\n",
    "\n",
    "data_loader = sm.datasets.sunspots.load_pandas()\n",
    "df = data_loader.data\n",
    "rows = [tuple(x) for x in df.values]\n",
    "for row in rows:\n",
    "    session.execute(query, row)\n",
    "\n",
    "rows=session.execute(\"SELECT COUNT(*) FROM sunspots\")\n",
    "for row in rows:\n",
    "    print(row)\n",
    "\n",
    "session.execute('DROP KEYSPACE mykeyspace') \n",
    "cluster.shutdown()"
   ]
  }
 ],
 "metadata": {
  "kernelspec": {
   "display_name": "Python 3",
   "language": "python",
   "name": "python3"
  },
  "language_info": {
   "codemirror_mode": {
    "name": "ipython",
    "version": 3
   },
   "file_extension": ".py",
   "mimetype": "text/x-python",
   "name": "python",
   "nbconvert_exporter": "python",
   "pygments_lexer": "ipython3",
   "version": "3.5.2"
  }
 },
 "nbformat": 4,
 "nbformat_minor": 2
}
