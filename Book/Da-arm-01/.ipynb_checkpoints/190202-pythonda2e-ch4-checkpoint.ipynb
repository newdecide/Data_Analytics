{
 "cells": [
  {
   "cell_type": "code",
   "execution_count": 7,
   "metadata": {},
   "outputs": [
    {
     "name": "stdout",
     "output_type": "stream",
     "text": [
      "The statistical values for amounts of co2 in atmosphere: \n",
      "\n",
      "Max method 366.84\n",
      "Max Function 366.84\n",
      "Min method 313.18\n",
      "Min Function 313.18\n",
      "Mean method 337.0535256410256\n",
      "Mean Function 337.0535256410256\n",
      "Std method 14.950221626197369\n",
      "Std Function 14.950221626197369\n",
      "Median 335.17\n",
      "Score at percentile 50 335.17\n"
     ]
    }
   ],
   "source": [
    "#통계학 및 선형대수 p.123 19:55~ 20:30\n",
    "import numpy as np\n",
    "from scipy.stats import scoreatpercentile\n",
    "import pandas as pd\n",
    "\n",
    "data = pd.read_csv(\"ex/co2.csv\", index_col= 0, parse_dates =True)\n",
    "co2 = np.array(data.co2)\n",
    "\n",
    "print(\"The statistical values for amounts of co2 in atmosphere: \\n\")\n",
    "\n",
    "print(\"Max method\", co2.max())\n",
    "print(\"Max Function\", np.max(co2))\n",
    "\n",
    "print(\"Min method\", co2.min())\n",
    "print(\"Min Function\", np.min(co2))\n",
    "\n",
    "print(\"Mean method\", co2.mean())\n",
    "print(\"Mean Function\", np.mean(co2))\n",
    "\n",
    "print(\"Std method\", co2.std())\n",
    "print(\"Std Function\", np.std(co2))\n",
    "\n",
    "print(\"Median\", np.median(co2))\n",
    "print(\"Score at percentile 50\", scoreatpercentile(co2, 50))"
   ]
  },
  {
   "cell_type": "code",
   "execution_count": 8,
   "metadata": {},
   "outputs": [
    {
     "data": {
      "text/html": [
       "<div>\n",
       "<style scoped>\n",
       "    .dataframe tbody tr th:only-of-type {\n",
       "        vertical-align: middle;\n",
       "    }\n",
       "\n",
       "    .dataframe tbody tr th {\n",
       "        vertical-align: top;\n",
       "    }\n",
       "\n",
       "    .dataframe thead th {\n",
       "        text-align: right;\n",
       "    }\n",
       "</style>\n",
       "<table border=\"1\" class=\"dataframe\">\n",
       "  <thead>\n",
       "    <tr style=\"text-align: right;\">\n",
       "      <th></th>\n",
       "      <th>co2</th>\n",
       "    </tr>\n",
       "    <tr>\n",
       "      <th>date</th>\n",
       "      <th></th>\n",
       "    </tr>\n",
       "  </thead>\n",
       "  <tbody>\n",
       "    <tr>\n",
       "      <th>1959-01-01</th>\n",
       "      <td>315.42</td>\n",
       "    </tr>\n",
       "    <tr>\n",
       "      <th>1959-02-01</th>\n",
       "      <td>316.31</td>\n",
       "    </tr>\n",
       "    <tr>\n",
       "      <th>1959-03-01</th>\n",
       "      <td>316.50</td>\n",
       "    </tr>\n",
       "    <tr>\n",
       "      <th>1959-04-01</th>\n",
       "      <td>317.56</td>\n",
       "    </tr>\n",
       "    <tr>\n",
       "      <th>1959-05-01</th>\n",
       "      <td>318.13</td>\n",
       "    </tr>\n",
       "    <tr>\n",
       "      <th>1959-06-01</th>\n",
       "      <td>318.00</td>\n",
       "    </tr>\n",
       "    <tr>\n",
       "      <th>1959-07-01</th>\n",
       "      <td>316.39</td>\n",
       "    </tr>\n",
       "    <tr>\n",
       "      <th>1959-08-01</th>\n",
       "      <td>314.65</td>\n",
       "    </tr>\n",
       "    <tr>\n",
       "      <th>1959-09-01</th>\n",
       "      <td>313.68</td>\n",
       "    </tr>\n",
       "    <tr>\n",
       "      <th>1959-10-01</th>\n",
       "      <td>313.18</td>\n",
       "    </tr>\n",
       "    <tr>\n",
       "      <th>1959-11-01</th>\n",
       "      <td>314.66</td>\n",
       "    </tr>\n",
       "    <tr>\n",
       "      <th>1959-12-01</th>\n",
       "      <td>315.43</td>\n",
       "    </tr>\n",
       "    <tr>\n",
       "      <th>1960-01-01</th>\n",
       "      <td>316.27</td>\n",
       "    </tr>\n",
       "    <tr>\n",
       "      <th>1960-02-01</th>\n",
       "      <td>316.81</td>\n",
       "    </tr>\n",
       "    <tr>\n",
       "      <th>1960-03-01</th>\n",
       "      <td>317.42</td>\n",
       "    </tr>\n",
       "    <tr>\n",
       "      <th>1960-04-01</th>\n",
       "      <td>318.87</td>\n",
       "    </tr>\n",
       "    <tr>\n",
       "      <th>1960-05-01</th>\n",
       "      <td>319.87</td>\n",
       "    </tr>\n",
       "    <tr>\n",
       "      <th>1960-06-01</th>\n",
       "      <td>319.43</td>\n",
       "    </tr>\n",
       "    <tr>\n",
       "      <th>1960-07-01</th>\n",
       "      <td>318.01</td>\n",
       "    </tr>\n",
       "    <tr>\n",
       "      <th>1960-08-01</th>\n",
       "      <td>315.74</td>\n",
       "    </tr>\n",
       "    <tr>\n",
       "      <th>1960-09-01</th>\n",
       "      <td>314.00</td>\n",
       "    </tr>\n",
       "    <tr>\n",
       "      <th>1960-10-01</th>\n",
       "      <td>313.68</td>\n",
       "    </tr>\n",
       "    <tr>\n",
       "      <th>1960-11-01</th>\n",
       "      <td>314.84</td>\n",
       "    </tr>\n",
       "    <tr>\n",
       "      <th>1960-12-01</th>\n",
       "      <td>316.03</td>\n",
       "    </tr>\n",
       "    <tr>\n",
       "      <th>1961-01-01</th>\n",
       "      <td>316.73</td>\n",
       "    </tr>\n",
       "    <tr>\n",
       "      <th>1961-02-01</th>\n",
       "      <td>317.54</td>\n",
       "    </tr>\n",
       "    <tr>\n",
       "      <th>1961-03-01</th>\n",
       "      <td>318.38</td>\n",
       "    </tr>\n",
       "    <tr>\n",
       "      <th>1961-04-01</th>\n",
       "      <td>319.31</td>\n",
       "    </tr>\n",
       "    <tr>\n",
       "      <th>1961-05-01</th>\n",
       "      <td>320.42</td>\n",
       "    </tr>\n",
       "    <tr>\n",
       "      <th>1961-06-01</th>\n",
       "      <td>319.61</td>\n",
       "    </tr>\n",
       "    <tr>\n",
       "      <th>...</th>\n",
       "      <td>...</td>\n",
       "    </tr>\n",
       "    <tr>\n",
       "      <th>1995-07-01</th>\n",
       "      <td>361.94</td>\n",
       "    </tr>\n",
       "    <tr>\n",
       "      <th>1995-08-01</th>\n",
       "      <td>359.50</td>\n",
       "    </tr>\n",
       "    <tr>\n",
       "      <th>1995-09-01</th>\n",
       "      <td>358.11</td>\n",
       "    </tr>\n",
       "    <tr>\n",
       "      <th>1995-10-01</th>\n",
       "      <td>357.80</td>\n",
       "    </tr>\n",
       "    <tr>\n",
       "      <th>1995-11-01</th>\n",
       "      <td>359.61</td>\n",
       "    </tr>\n",
       "    <tr>\n",
       "      <th>1995-12-01</th>\n",
       "      <td>360.74</td>\n",
       "    </tr>\n",
       "    <tr>\n",
       "      <th>1996-01-01</th>\n",
       "      <td>362.09</td>\n",
       "    </tr>\n",
       "    <tr>\n",
       "      <th>1996-02-01</th>\n",
       "      <td>363.29</td>\n",
       "    </tr>\n",
       "    <tr>\n",
       "      <th>1996-03-01</th>\n",
       "      <td>364.06</td>\n",
       "    </tr>\n",
       "    <tr>\n",
       "      <th>1996-04-01</th>\n",
       "      <td>364.76</td>\n",
       "    </tr>\n",
       "    <tr>\n",
       "      <th>1996-05-01</th>\n",
       "      <td>365.45</td>\n",
       "    </tr>\n",
       "    <tr>\n",
       "      <th>1996-06-01</th>\n",
       "      <td>365.01</td>\n",
       "    </tr>\n",
       "    <tr>\n",
       "      <th>1996-07-01</th>\n",
       "      <td>363.70</td>\n",
       "    </tr>\n",
       "    <tr>\n",
       "      <th>1996-08-01</th>\n",
       "      <td>361.54</td>\n",
       "    </tr>\n",
       "    <tr>\n",
       "      <th>1996-09-01</th>\n",
       "      <td>359.51</td>\n",
       "    </tr>\n",
       "    <tr>\n",
       "      <th>1996-10-01</th>\n",
       "      <td>359.65</td>\n",
       "    </tr>\n",
       "    <tr>\n",
       "      <th>1996-11-01</th>\n",
       "      <td>360.80</td>\n",
       "    </tr>\n",
       "    <tr>\n",
       "      <th>1996-12-01</th>\n",
       "      <td>362.38</td>\n",
       "    </tr>\n",
       "    <tr>\n",
       "      <th>1997-01-01</th>\n",
       "      <td>363.23</td>\n",
       "    </tr>\n",
       "    <tr>\n",
       "      <th>1997-02-01</th>\n",
       "      <td>364.06</td>\n",
       "    </tr>\n",
       "    <tr>\n",
       "      <th>1997-03-01</th>\n",
       "      <td>364.61</td>\n",
       "    </tr>\n",
       "    <tr>\n",
       "      <th>1997-04-01</th>\n",
       "      <td>366.40</td>\n",
       "    </tr>\n",
       "    <tr>\n",
       "      <th>1997-05-01</th>\n",
       "      <td>366.84</td>\n",
       "    </tr>\n",
       "    <tr>\n",
       "      <th>1997-06-01</th>\n",
       "      <td>365.68</td>\n",
       "    </tr>\n",
       "    <tr>\n",
       "      <th>1997-07-01</th>\n",
       "      <td>364.52</td>\n",
       "    </tr>\n",
       "    <tr>\n",
       "      <th>1997-08-01</th>\n",
       "      <td>362.57</td>\n",
       "    </tr>\n",
       "    <tr>\n",
       "      <th>1997-09-01</th>\n",
       "      <td>360.24</td>\n",
       "    </tr>\n",
       "    <tr>\n",
       "      <th>1997-10-01</th>\n",
       "      <td>360.83</td>\n",
       "    </tr>\n",
       "    <tr>\n",
       "      <th>1997-11-01</th>\n",
       "      <td>362.49</td>\n",
       "    </tr>\n",
       "    <tr>\n",
       "      <th>1997-12-01</th>\n",
       "      <td>364.34</td>\n",
       "    </tr>\n",
       "  </tbody>\n",
       "</table>\n",
       "<p>468 rows × 1 columns</p>\n",
       "</div>"
      ],
      "text/plain": [
       "               co2\n",
       "date              \n",
       "1959-01-01  315.42\n",
       "1959-02-01  316.31\n",
       "1959-03-01  316.50\n",
       "1959-04-01  317.56\n",
       "1959-05-01  318.13\n",
       "1959-06-01  318.00\n",
       "1959-07-01  316.39\n",
       "1959-08-01  314.65\n",
       "1959-09-01  313.68\n",
       "1959-10-01  313.18\n",
       "1959-11-01  314.66\n",
       "1959-12-01  315.43\n",
       "1960-01-01  316.27\n",
       "1960-02-01  316.81\n",
       "1960-03-01  317.42\n",
       "1960-04-01  318.87\n",
       "1960-05-01  319.87\n",
       "1960-06-01  319.43\n",
       "1960-07-01  318.01\n",
       "1960-08-01  315.74\n",
       "1960-09-01  314.00\n",
       "1960-10-01  313.68\n",
       "1960-11-01  314.84\n",
       "1960-12-01  316.03\n",
       "1961-01-01  316.73\n",
       "1961-02-01  317.54\n",
       "1961-03-01  318.38\n",
       "1961-04-01  319.31\n",
       "1961-05-01  320.42\n",
       "1961-06-01  319.61\n",
       "...            ...\n",
       "1995-07-01  361.94\n",
       "1995-08-01  359.50\n",
       "1995-09-01  358.11\n",
       "1995-10-01  357.80\n",
       "1995-11-01  359.61\n",
       "1995-12-01  360.74\n",
       "1996-01-01  362.09\n",
       "1996-02-01  363.29\n",
       "1996-03-01  364.06\n",
       "1996-04-01  364.76\n",
       "1996-05-01  365.45\n",
       "1996-06-01  365.01\n",
       "1996-07-01  363.70\n",
       "1996-08-01  361.54\n",
       "1996-09-01  359.51\n",
       "1996-10-01  359.65\n",
       "1996-11-01  360.80\n",
       "1996-12-01  362.38\n",
       "1997-01-01  363.23\n",
       "1997-02-01  364.06\n",
       "1997-03-01  364.61\n",
       "1997-04-01  366.40\n",
       "1997-05-01  366.84\n",
       "1997-06-01  365.68\n",
       "1997-07-01  364.52\n",
       "1997-08-01  362.57\n",
       "1997-09-01  360.24\n",
       "1997-10-01  360.83\n",
       "1997-11-01  362.49\n",
       "1997-12-01  364.34\n",
       "\n",
       "[468 rows x 1 columns]"
      ]
     },
     "execution_count": 8,
     "metadata": {},
     "output_type": "execute_result"
    }
   ],
   "source": [
    "data"
   ]
  },
  {
   "cell_type": "code",
   "execution_count": 13,
   "metadata": {},
   "outputs": [
    {
     "name": "stdout",
     "output_type": "stream",
     "text": [
      "a\n",
      " [[ 2  4  6]\n",
      " [ 4  2  6]\n",
      " [10 -4 18]]\n",
      "inverse of a\n",
      " [[-0.41666667  0.66666667 -0.08333333]\n",
      " [ 0.08333333  0.16666667 -0.08333333]\n",
      " [ 0.25       -0.33333333  0.08333333]]\n"
     ]
    }
   ],
   "source": [
    "#numpy와 선형대수학\n",
    "#선형회귀 분석을 할 때 선형대수가 이용 됨. \n",
    "\n",
    "#mat 함수 생성\n",
    "A = np.mat(\"2 4 6;4 2 6;10 -4 18\")\n",
    "print(\"a\\n\", A)\n",
    "\n",
    "#역 행렬\n",
    "inverse = np.linalg.inv(A)\n",
    "print(\"inverse of a\\n\", inverse)"
   ]
  },
  {
   "cell_type": "code",
   "execution_count": 14,
   "metadata": {},
   "outputs": [
    {
     "name": "stdout",
     "output_type": "stream",
     "text": [
      "Check \n",
      " [[ 1.00000000e+00  0.00000000e+00  0.00000000e+00]\n",
      " [-2.22044605e-16  1.00000000e+00  0.00000000e+00]\n",
      " [-8.88178420e-16  8.88178420e-16  1.00000000e+00]]\n"
     ]
    }
   ],
   "source": [
    "print(\"Check \\n\", A * inverse)\n"
   ]
  },
  {
   "cell_type": "code",
   "execution_count": 15,
   "metadata": {},
   "outputs": [
    {
     "name": "stdout",
     "output_type": "stream",
     "text": [
      "Error \n",
      " [[-1.11022302e-16  0.00000000e+00  0.00000000e+00]\n",
      " [-2.22044605e-16  4.44089210e-16  0.00000000e+00]\n",
      " [-8.88178420e-16  8.88178420e-16 -1.11022302e-16]]\n"
     ]
    }
   ],
   "source": [
    "print(\"Error \\n\", A* inverse -np.eye(3))"
   ]
  },
  {
   "cell_type": "code",
   "execution_count": 24,
   "metadata": {},
   "outputs": [
    {
     "name": "stdout",
     "output_type": "stream",
     "text": [
      "A\n",
      " [[ 1 -2  1]\n",
      " [ 0  2 -8]\n",
      " [-4  5  9]]\n",
      "B\n",
      " [ 0  8 -9]\n"
     ]
    }
   ],
   "source": [
    "#Numpy로 선형 시스템 해석하기\n",
    "#직선형의 한 벡터를 다른 벡터로 옮기는 것을 '선형시스템'이라고 함\n",
    "#Ax =b\n",
    "\n",
    "A = np.mat(\"1 -2 1; 0 2 -8; -4 5 9\")\n",
    "print(\"A\\n\", A)\n",
    "b = np.array([0, 8, -9])\n",
    "print(\"B\\n\", b)\n"
   ]
  },
  {
   "cell_type": "code",
   "execution_count": 25,
   "metadata": {},
   "outputs": [
    {
     "name": "stdout",
     "output_type": "stream",
     "text": [
      "Solution [29. 16.  3.]\n"
     ]
    }
   ],
   "source": [
    "# solve 함수\n",
    "x = np.linalg.solve(A,b)\n",
    "print(\"Solution\", x)"
   ]
  },
  {
   "cell_type": "code",
   "execution_count": 26,
   "metadata": {},
   "outputs": [
    {
     "name": "stdout",
     "output_type": "stream",
     "text": [
      "Check \n",
      " [[ 0.  8. -9.]]\n"
     ]
    }
   ],
   "source": [
    "#dot 함수를 활용해 B를 찾는다. \n",
    "print(\"Check \\n\", np.dot(A, x))"
   ]
  },
  {
   "cell_type": "code",
   "execution_count": 37,
   "metadata": {},
   "outputs": [
    {
     "name": "stdout",
     "output_type": "stream",
     "text": [
      "A \n",
      " [[ 3 -2]\n",
      " [ 1  0]]\n",
      "Eigenvalues [2. 1.]\n",
      "\n",
      "[2. 1.]\n",
      "[[0.89442719 0.70710678]\n",
      " [0.4472136  0.70710678]]\n",
      "Left [[1.78885438]\n",
      " [0.89442719]]\n",
      "Right [[1.78885438]\n",
      " [0.89442719]]\n",
      "Left [[0.70710678]\n",
      " [0.70710678]]\n",
      "Right [[0.70710678]\n",
      " [0.70710678]]\n"
     ]
    }
   ],
   "source": [
    "#Numpy와 고유값 및 고유벡터\n",
    "#고유값(eigenvalue) Ax =ax \n",
    "#고유벡터(eigenvector)\n",
    "#주성분분석(PCA)에 사용됨 => 많은 데이터 셋의 차원을 줄이는 방법 중 하나임\n",
    "\n",
    "A = np.mat(\"3 -2; 1 0\")\n",
    "print(\"A \\n\", A)\n",
    "\n",
    "print(\"Eigenvalues\", np.linalg.eigvals(A))\n",
    "\n",
    "#튜플 형태로 고유값, 고유벡터 반환\n",
    "eigenvalues, eigenvectors = np.linalg.eig(A)\n",
    "print(\"\")\n",
    "print(eigenvalues)\n",
    "print(eigenvectors)\n",
    "\n",
    "for i in range(len(eigenvalues)):\n",
    "    print(\"Left\", np.dot(A, eigenvectors[:,i]))\n",
    "    print(\"Right\", eigenvalues[i] * eigenvectors[:,i])"
   ]
  },
  {
   "cell_type": "code",
   "execution_count": 38,
   "metadata": {},
   "outputs": [
    {
     "name": "stdout",
     "output_type": "stream",
     "text": [
      "0 9\n"
     ]
    }
   ],
   "source": [
    "#Numpy와 난수 21:45 ~ 22:15\n",
    "#난수는 몬케카를로 방법(Monte carlo method)이나 확률 미적학분(Stochastic Calculus)등에서 사용됨.\n",
    "#슈도난수(pseudo)\n",
    "\n",
    "#겜블링 이항 분포\n",
    "#만번 동전 뒤집기\n",
    "import numpy as np\n",
    "from matplotlib.pyplot import plot, show\n",
    "cash = np.zeros(10000)\n",
    "cash[0] = 1000\n",
    "outcome = np.random.binomial(9, 0.5, size = len(cash))\n",
    "\n",
    "for i in range(1, len(cash)):\n",
    "    if outcome[i] < 5:\n",
    "        cash[i] = cash[i- 1] -1\n",
    "    elif outcome[i] <10:\n",
    "        cash[i] = cash[i-1] +1\n",
    "    else:\n",
    "        raise AssertionError(\"Unexpected outcome\" + outcome)\n",
    "print(outcome.min(), outcome.max())\n",
    "show()"
   ]
  },
  {
   "cell_type": "code",
   "execution_count": 39,
   "metadata": {},
   "outputs": [
    {
     "data": {
      "image/png": "[encoded data removed]",
      "text/plain": [
       "<Figure size 432x288 with 1 Axes>"
      ]
     },
     "metadata": {
      "needs_background": "light"
     },
     "output_type": "display_data"
    }
   ],
   "source": [
    "plot(np.arange(len(cash)), cash)\n",
    "show()"
   ]
  },
  {
   "cell_type": "code",
   "execution_count": 44,
   "metadata": {},
   "outputs": [
    {
     "data": {
      "text/plain": [
       "<function matplotlib.pyplot.show(*args, **kw)>"
      ]
     },
     "execution_count": 44,
     "metadata": {},
     "output_type": "execute_result"
    },
    {
     "data": {
      "image/png": "[encoded data removed]",
      "text/plain": [
       "<Figure size 432x288 with 1 Axes>"
      ]
     },
     "metadata": {
      "needs_background": "light"
     },
     "output_type": "display_data"
    }
   ],
   "source": [
    "#정규 분포 샘플링\n",
    "#연속분포는 확률 밀도 함수(probability density function)\n",
    "#normal 함수를 사용해 커브와 모양의 무작위 발생 하는 히스토그램을 생성\n",
    "\n",
    "import numpy as np\n",
    "import matplotlib.pyplot as plt\n",
    "\n",
    "N=10000\n",
    "\n",
    "normal_values = np.random.normal(size=N)\n",
    "dummy, bins, dummy = plt.hist(normal_values, int(np.sqrt(N)), normed=True, lw=1)\n",
    "sigma = 1\n",
    "mu = 0\n",
    "\n",
    "plt.plot(bins, 1/(sigma * np.sqrt(2 * np.pi)) * np.exp( - (bins - mu)**2 / (2 *sigma**2)  ), lw=2)\n",
    "plt.show\n"
   ]
  },
  {
   "cell_type": "code",
   "execution_count": 50,
   "metadata": {},
   "outputs": [
    {
     "name": "stdout",
     "output_type": "stream",
     "text": [
      "Normal Values Shapiro\n",
      " (0.9964984655380249, 0.22078634798526764)\n",
      "Flu Shapiro\n",
      " (0.9351990818977356, 2.2945883254311397e-15)\n",
      "Normal Values Anderson \n",
      " AndersonResult(statistic=0.5948575343136326, critical_values=array([0.572, 0.652, 0.782, 0.912, 1.085]), significance_level=array([15. , 10. ,  5. ,  2.5,  1. ]))\n",
      "Flu normaltest\n",
      " AndersonResult(statistic=8.258614154768793, critical_values=array([0.572, 0.652, 0.782, 0.912, 1.085]), significance_level=array([15. , 10. ,  5. ,  2.5,  1. ]))\n",
      "Normal Values Anderson \n",
      " NormaltestResult(statistic=1.8732784609492006, pvalue=0.3919428539828898)\n",
      "Flu normaltest\n",
      " NormaltestResult(statistic=99.64373336356954, pvalue=2.304826411536872e-22)\n"
     ]
    }
   ],
   "source": [
    "# Scipy와 정규성 점검\n",
    "#중심극한정리(Central Limit Theorem)\n",
    "#정규성(normality)\n",
    "#황금표준(golden standard)\n",
    "\n",
    "import numpy as np\n",
    "from scipy.stats import shapiro\n",
    "from scipy.stats import anderson\n",
    "from scipy.stats import normaltest\n",
    "\n",
    "flutrends = np.loadtxt(\"ex/goog_flutrends.csv\", \n",
    "                       delimiter = ',', usecols=(1,), skiprows=1, \n",
    "                       converters = {1: lambda s: float(s or 0)}, unpack=True)\n",
    "N = len(flutrends)\n",
    "normal_values = np.random.normal(size=N)\n",
    "\n",
    "print(\"Normal Values Shapiro\\n\", shapiro(normal_values))\n",
    "print(\"Flu Shapiro\\n\", shapiro(flutrends))\n",
    "\n",
    "print(\"Normal Values Anderson \\n\", anderson(normal_values))\n",
    "print(\"Flu normaltest\\n\", anderson(flutrends))\n",
    "\n",
    "print(\"Normal Values normaltest \\n\", normaltest(normal_values))\n",
    "print(\"Flu normaltest\\n\", normaltest(flutrends))\n"
   ]
  },
  {
   "cell_type": "code",
   "execution_count": null,
   "metadata": {},
   "outputs": [],
   "source": [
    "\n",
    "\n"
   ]
  }
 ],
 "metadata": {
  "kernelspec": {
   "display_name": "Python 3",
   "language": "python",
   "name": "python3"
  },
  "language_info": {
   "codemirror_mode": {
    "name": "ipython",
    "version": 3
   },
   "file_extension": ".py",
   "mimetype": "text/x-python",
   "name": "python",
   "nbconvert_exporter": "python",
   "pygments_lexer": "ipython3",
   "version": "3.5.2"
  }
 },
 "nbformat": 4,
 "nbformat_minor": 2
}
