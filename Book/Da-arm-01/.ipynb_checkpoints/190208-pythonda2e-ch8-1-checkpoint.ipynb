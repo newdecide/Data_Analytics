{
 "cells": [
  {
   "cell_type": "code",
   "execution_count": 8,
   "metadata": {},
   "outputs": [
    {
     "name": "stdout",
     "output_type": "stream",
     "text": [
      "Table sensors\n",
      "('2016-11-05', 'Utrecht', 'Red', 42.0, 15.14)\n",
      "# of tablaes 0\n"
     ]
    }
   ],
   "source": [
    "#Day11 p.233 ~ 데이터베이스로 작업하기\n",
    "\n",
    "#SQLite로 디비 설계\n",
    "\n",
    "import sqlite3\n",
    "\n",
    "#디비 연결\n",
    "with sqlite3.connect(\":memory:\") as con:\n",
    "    \n",
    "    #커서 생성\n",
    "    c = con.cursor()\n",
    "    \n",
    "    #테이블 생성\n",
    "    c.execute('''CREATE TABLE sensors(date text, city text, code text, sensor_id real, temperature real)''')\n",
    "        \n",
    "    #테이블 호출\n",
    "    for table in c.execute(\"SELECT name FROM sqlite_master WHERE type = 'table'\"):\n",
    "        print(\"Table\", table[0])\n",
    "    \n",
    "    #DB 추가\n",
    "    c.execute(\"INSERT INTO sensors VALUES('2016-11-05', 'Utrecht', 'Red', 42, 15.14)\")\n",
    "    c.execute(\"SELECT *FROM sensors\")\n",
    "    \n",
    "    #테이블 호출\n",
    "    print(c.fetchone())\n",
    "    \n",
    "    c.execute(\"DROP TABLE sensors\")\n",
    "    \n",
    "    print(\"# of tablaes\", c.execute(\"SELECT COUNT(*) FROM sqlite_master WHERE type = 'table'\").fetchone()[0])\n",
    "    \n",
    "    c.close()"
   ]
  },
  {
   "cell_type": "code",
   "execution_count": 12,
   "metadata": {},
   "outputs": [
    {
     "ename": "AttributeError",
     "evalue": "module 'statsmodels.api' has no attribute 'dataset'",
     "output_type": "error",
     "traceback": [
      "\u001b[0;31m-------------------------------------------------------------\u001b[0m",
      "\u001b[0;31mAttributeError\u001b[0m              Traceback (most recent call last)",
      "\u001b[0;32m<ipython-input-12-3516960f4759>\u001b[0m in \u001b[0;36m<module>\u001b[0;34m\u001b[0m\n\u001b[1;32m      8\u001b[0m     \u001b[0mc\u001b[0m \u001b[0;34m=\u001b[0m \u001b[0mcon\u001b[0m\u001b[0;34m.\u001b[0m\u001b[0mcursor\u001b[0m\u001b[0;34m(\u001b[0m\u001b[0;34m)\u001b[0m\u001b[0;34m\u001b[0m\u001b[0m\n\u001b[1;32m      9\u001b[0m \u001b[0;34m\u001b[0m\u001b[0m\n\u001b[0;32m---> 10\u001b[0;31m     \u001b[0mdata_loader\u001b[0m \u001b[0;34m=\u001b[0m \u001b[0msm\u001b[0m\u001b[0;34m.\u001b[0m\u001b[0mdataset\u001b[0m\u001b[0;34m.\u001b[0m\u001b[0msunspots\u001b[0m\u001b[0;34m.\u001b[0m\u001b[0mload_pandas\u001b[0m\u001b[0;34m(\u001b[0m\u001b[0;34m)\u001b[0m\u001b[0;34m\u001b[0m\u001b[0m\n\u001b[0m\u001b[1;32m     11\u001b[0m     \u001b[0mdf\u001b[0m \u001b[0;34m=\u001b[0m \u001b[0mdata_loader\u001b[0m\u001b[0;34m.\u001b[0m\u001b[0mdata\u001b[0m\u001b[0;34m\u001b[0m\u001b[0m\n\u001b[1;32m     12\u001b[0m     \u001b[0mrows\u001b[0m \u001b[0;34m=\u001b[0m \u001b[0;34m[\u001b[0m\u001b[0mtuple\u001b[0m\u001b[0;34m(\u001b[0m\u001b[0mx\u001b[0m\u001b[0;34m)\u001b[0m \u001b[0;32mfor\u001b[0m \u001b[0mx\u001b[0m \u001b[0;32min\u001b[0m \u001b[0mdf\u001b[0m\u001b[0;34m.\u001b[0m\u001b[0mvalues\u001b[0m\u001b[0;34m]\u001b[0m\u001b[0;34m\u001b[0m\u001b[0m\n",
      "\u001b[0;31mAttributeError\u001b[0m: module 'statsmodels.api' has no attribute 'dataset'"
     ]
    }
   ],
   "source": [
    "#pandas 데이터 베이스 접근\n",
    "\n",
    "import statsmodels.api as sm\n",
    "from pandas.io.sql import read_sql\n",
    "import sqlite3\n",
    "\n",
    "with sqlite3.connect(\":memory:\") as con:\n",
    "    c = con.cursor()\n",
    "    \n",
    "    data_loader = sm.dataset.sunspots.load_pandas()\n",
    "    df = data_loader.data\n",
    "    rows = [tuple(x) for x in df.values]\n",
    "    \n",
    "    con.execute(\"CREATE TABLE sunspots(year, sunactivity)\")\n",
    "    con.execitemany(\"INSERT INTO sunspots(year, sunactivity) VALUES (?, ?)\", rows)\n",
    "    c.execute(\"SELECT COUNT(*) FROM sunspots\")\n",
    "    print(c.fetchone())\n",
    "    print(\"Deleted\", con.execute(\"DELETE FORM sunpots where sunactivity > 20\"), rowcount, \"rows\")\n",
    "    print(read_sql(\"SELECT * FROM susspots where year < 1732\", con))\n",
    "    con.execute(\"DROP TABLE sunspots\")\n",
    "    c.close()"
   ]
  },
  {
   "cell_type": "code",
   "execution_count": null,
   "metadata": {},
   "outputs": [],
   "source": []
  }
 ],
 "metadata": {
  "kernelspec": {
   "display_name": "Python 3",
   "language": "python",
   "name": "python3"
  },
  "language_info": {
   "codemirror_mode": {
    "name": "ipython",
    "version": 3
   },
   "file_extension": ".py",
   "mimetype": "text/x-python",
   "name": "python",
   "nbconvert_exporter": "python",
   "pygments_lexer": "ipython3",
   "version": "3.5.2"
  }
 },
 "nbformat": 4,
 "nbformat_minor": 2
}
