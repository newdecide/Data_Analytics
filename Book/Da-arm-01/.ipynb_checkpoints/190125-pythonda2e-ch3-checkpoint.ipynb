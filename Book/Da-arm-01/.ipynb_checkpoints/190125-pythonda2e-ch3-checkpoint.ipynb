{
 "cells": [
  {
   "cell_type": "code",
   "execution_count": 3,
   "metadata": {},
   "outputs": [
    {
     "name": "stdout",
     "output_type": "stream",
     "text": [
      "Dateframe                                         <!DOCTYPE html>\n",
      "0                                      <html lang=\"en\">\n",
      "1                                                <head>\n",
      "2                                <meta charset=\"utf-8\">\n",
      "3       <link rel=\"dns-prefetch\" href=\"https://githu...\n",
      "4       <link rel=\"dns-prefetch\" href=\"https://avata...\n",
      "5       <link rel=\"dns-prefetch\" href=\"https://avata...\n",
      "6       <link rel=\"dns-prefetch\" href=\"https://avata...\n",
      "7       <link rel=\"dns-prefetch\" href=\"https://avata...\n",
      "8       <link rel=\"dns-prefetch\" href=\"https://githu...\n",
      "9       <link rel=\"dns-prefetch\" href=\"https://user-...\n",
      "10      <link crossorigin=\"anonymous\" media=\"all\" in...\n",
      "11      <link crossorigin=\"anonymous\" media=\"all\" in...\n",
      "12      <link crossorigin=\"anonymous\" media=\"all\" in...\n",
      "13      <meta name=\"viewport\" content=\"width=device-...\n",
      "14      <title>Python-Data-Analysis-Second-Edition/W...\n",
      "15        <meta name=\"description\" content=\"Python D...\n",
      "16        <link rel=\"search\" type=\"application/opens...\n",
      "17      <link rel=\"fluid-icon\" href=\"https://github....\n",
      "18      <meta property=\"fb:app_id\" content=\"14014886...\n",
      "19        <meta property=\"og:image\" content=\"https:/...\n",
      "20      <link rel=\"assets\" href=\"https://github.gith...\n",
      "21            <meta name=\"pjax-timeout\" content=\"1000\">\n",
      "22      <meta name=\"request-id\" content=\"C9F8:9EFB:B...\n",
      "23      <meta name=\"selected-link\" value=\"repo_sourc...\n",
      "24          <meta name=\"google-site-verification\" co...\n",
      "25        <meta name=\"google-site-verification\" cont...\n",
      "26        <meta name=\"google-site-verification\" cont...\n",
      "27      <meta name=\"octolytics-host\" content=\"collec...\n",
      "28    <meta name=\"analytics-location\" content=\"/&lt;...\n",
      "29        <meta name=\"google-analytics\" content=\"UA-...\n",
      "...                                                 ...\n",
      "1103                                             </div>\n",
      "1104      <script crossorigin=\"anonymous\" integrity=...\n",
      "1105      <script crossorigin=\"anonymous\" integrity=...\n",
      "1106      <script crossorigin=\"anonymous\" async=\"asy...\n",
      "1107    <div class=\"js-stale-session-flash stale-ses...\n",
      "1108      <svg class=\"octicon octicon-alert\" viewBox...\n",
      "1109      <span class=\"signed-in-tab-flash\">You sign...\n",
      "1110      <span class=\"signed-out-tab-flash\">You sig...\n",
      "1111                                             </div>\n",
      "1112                <template id=\"site-details-dialog\">\n",
      "1113    <details class=\"details-reset details-overla...\n",
      "1114      <summary aria-haspopup=\"dialog\" aria-label...\n",
      "1115      <details-dialog class=\"Box Box--overlay d-...\n",
      "1116        <button class=\"Box-btn-octicon m-0 btn-o...\n",
      "1117          <svg class=\"octicon octicon-x\" viewBox...\n",
      "1118                                          </button>\n",
      "1119        <div class=\"octocat-spinner my-6 js-deta...\n",
      "1120                                  </details-dialog>\n",
      "1121                                         </details>\n",
      "1122                                        </template>\n",
      "1123    <div class=\"Popover js-hovercard-content pos...\n",
      "1124    <div class=\"Popover-message Popover-message-...\n",
      "1125                                             </div>\n",
      "1126                                             </div>\n",
      "1127  <div id=\"hovercard-aria-description\" class=\"sr...\n",
      "1128     Press h to open a hovercard with more details.\n",
      "1129                                             </div>\n",
      "1130    <div aria-live=\"polite\" class=\"js-global-scr...\n",
      "1131                                            </body>\n",
      "1132                                            </html>\n",
      "\n",
      "[1133 rows x 1 columns]\n"
     ]
    },
    {
     "name": "stderr",
     "output_type": "stream",
     "text": [
      "b'Skipping line 75: expected 1 fields, saw 2\\nSkipping line 123: expected 1 fields, saw 3\\nSkipping line 142: expected 1 fields, saw 4\\nSkipping line 146: expected 1 fields, saw 2\\nSkipping line 148: expected 1 fields, saw 2\\nSkipping line 149: expected 1 fields, saw 2\\nSkipping line 150: expected 1 fields, saw 2\\nSkipping line 151: expected 1 fields, saw 2\\nSkipping line 152: expected 1 fields, saw 2\\nSkipping line 153: expected 1 fields, saw 2\\nSkipping line 154: expected 1 fields, saw 2\\nSkipping line 155: expected 1 fields, saw 2\\nSkipping line 159: expected 1 fields, saw 2\\nSkipping line 160: expected 1 fields, saw 2\\nSkipping line 166: expected 1 fields, saw 3\\nSkipping line 174: expected 1 fields, saw 4\\nSkipping line 180: expected 1 fields, saw 2\\nSkipping line 185: expected 1 fields, saw 2\\nSkipping line 186: expected 1 fields, saw 2\\nSkipping line 187: expected 1 fields, saw 2\\nSkipping line 188: expected 1 fields, saw 2\\nSkipping line 189: expected 1 fields, saw 2\\nSkipping line 194: expected 1 fields, saw 2\\nSkipping line 195: expected 1 fields, saw 2\\nSkipping line 196: expected 1 fields, saw 2\\nSkipping line 203: expected 1 fields, saw 2\\nSkipping line 211: expected 1 fields, saw 4\\nSkipping line 216: expected 1 fields, saw 2\\nSkipping line 219: expected 1 fields, saw 2\\nSkipping line 220: expected 1 fields, saw 2\\nSkipping line 224: expected 1 fields, saw 2\\nSkipping line 225: expected 1 fields, saw 2\\nSkipping line 247: expected 1 fields, saw 2\\nSkipping line 382: expected 1 fields, saw 3\\nSkipping line 383: expected 1 fields, saw 3\\nSkipping line 535: expected 1 fields, saw 3\\nSkipping line 539: expected 1 fields, saw 3\\nSkipping line 540: expected 1 fields, saw 3\\nSkipping line 590: expected 1 fields, saw 2\\nSkipping line 668: expected 1 fields, saw 2\\nSkipping line 676: expected 1 fields, saw 9\\nSkipping line 680: expected 1 fields, saw 9\\nSkipping line 684: expected 1 fields, saw 9\\nSkipping line 688: expected 1 fields, saw 9\\nSkipping line 692: expected 1 fields, saw 9\\nSkipping line 696: expected 1 fields, saw 9\\nSkipping line 700: expected 1 fields, saw 9\\nSkipping line 704: expected 1 fields, saw 9\\nSkipping line 708: expected 1 fields, saw 9\\nSkipping line 712: expected 1 fields, saw 9\\nSkipping line 716: expected 1 fields, saw 9\\nSkipping line 720: expected 1 fields, saw 9\\nSkipping line 724: expected 1 fields, saw 9\\nSkipping line 728: expected 1 fields, saw 9\\nSkipping line 732: expected 1 fields, saw 9\\nSkipping line 736: expected 1 fields, saw 9\\nSkipping line 740: expected 1 fields, saw 9\\nSkipping line 744: expected 1 fields, saw 9\\nSkipping line 748: expected 1 fields, saw 9\\nSkipping line 752: expected 1 fields, saw 9\\nSkipping line 756: expected 1 fields, saw 9\\nSkipping line 760: expected 1 fields, saw 9\\nSkipping line 764: expected 1 fields, saw 9\\nSkipping line 768: expected 1 fields, saw 9\\nSkipping line 772: expected 1 fields, saw 9\\nSkipping line 776: expected 1 fields, saw 9\\nSkipping line 780: expected 1 fields, saw 9\\nSkipping line 784: expected 1 fields, saw 9\\nSkipping line 788: expected 1 fields, saw 9\\nSkipping line 792: expected 1 fields, saw 9\\nSkipping line 796: expected 1 fields, saw 9\\nSkipping line 800: expected 1 fields, saw 9\\nSkipping line 804: expected 1 fields, saw 9\\nSkipping line 808: expected 1 fields, saw 9\\nSkipping line 812: expected 1 fields, saw 9\\nSkipping line 816: expected 1 fields, saw 9\\nSkipping line 820: expected 1 fields, saw 9\\nSkipping line 824: expected 1 fields, saw 9\\nSkipping line 828: expected 1 fields, saw 9\\nSkipping line 832: expected 1 fields, saw 9\\nSkipping line 836: expected 1 fields, saw 9\\nSkipping line 840: expected 1 fields, saw 9\\nSkipping line 844: expected 1 fields, saw 9\\nSkipping line 848: expected 1 fields, saw 9\\nSkipping line 852: expected 1 fields, saw 9\\nSkipping line 856: expected 1 fields, saw 9\\nSkipping line 860: expected 1 fields, saw 9\\nSkipping line 864: expected 1 fields, saw 9\\nSkipping line 868: expected 1 fields, saw 9\\nSkipping line 872: expected 1 fields, saw 9\\nSkipping line 876: expected 1 fields, saw 9\\nSkipping line 880: expected 1 fields, saw 9\\nSkipping line 884: expected 1 fields, saw 9\\nSkipping line 888: expected 1 fields, saw 9\\nSkipping line 892: expected 1 fields, saw 9\\nSkipping line 896: expected 1 fields, saw 9\\nSkipping line 900: expected 1 fields, saw 9\\nSkipping line 904: expected 1 fields, saw 9\\nSkipping line 908: expected 1 fields, saw 9\\nSkipping line 912: expected 1 fields, saw 9\\nSkipping line 916: expected 1 fields, saw 9\\nSkipping line 920: expected 1 fields, saw 9\\nSkipping line 924: expected 1 fields, saw 9\\nSkipping line 928: expected 1 fields, saw 9\\nSkipping line 932: expected 1 fields, saw 9\\nSkipping line 936: expected 1 fields, saw 9\\nSkipping line 940: expected 1 fields, saw 9\\nSkipping line 944: expected 1 fields, saw 9\\nSkipping line 948: expected 1 fields, saw 9\\nSkipping line 952: expected 1 fields, saw 9\\nSkipping line 956: expected 1 fields, saw 9\\nSkipping line 960: expected 1 fields, saw 9\\nSkipping line 964: expected 1 fields, saw 9\\nSkipping line 968: expected 1 fields, saw 9\\nSkipping line 972: expected 1 fields, saw 9\\nSkipping line 976: expected 1 fields, saw 9\\nSkipping line 980: expected 1 fields, saw 9\\nSkipping line 984: expected 1 fields, saw 9\\nSkipping line 988: expected 1 fields, saw 9\\nSkipping line 992: expected 1 fields, saw 9\\nSkipping line 996: expected 1 fields, saw 9\\nSkipping line 1000: expected 1 fields, saw 9\\nSkipping line 1004: expected 1 fields, saw 9\\nSkipping line 1008: expected 1 fields, saw 9\\nSkipping line 1012: expected 1 fields, saw 9\\nSkipping line 1016: expected 1 fields, saw 9\\nSkipping line 1020: expected 1 fields, saw 9\\nSkipping line 1024: expected 1 fields, saw 9\\nSkipping line 1028: expected 1 fields, saw 9\\nSkipping line 1032: expected 1 fields, saw 9\\nSkipping line 1036: expected 1 fields, saw 9\\nSkipping line 1040: expected 1 fields, saw 9\\nSkipping line 1044: expected 1 fields, saw 9\\nSkipping line 1048: expected 1 fields, saw 9\\nSkipping line 1052: expected 1 fields, saw 9\\nSkipping line 1056: expected 1 fields, saw 9\\nSkipping line 1060: expected 1 fields, saw 9\\nSkipping line 1064: expected 1 fields, saw 9\\nSkipping line 1068: expected 1 fields, saw 9\\nSkipping line 1072: expected 1 fields, saw 9\\nSkipping line 1076: expected 1 fields, saw 9\\nSkipping line 1080: expected 1 fields, saw 9\\nSkipping line 1084: expected 1 fields, saw 9\\nSkipping line 1088: expected 1 fields, saw 9\\nSkipping line 1092: expected 1 fields, saw 9\\nSkipping line 1096: expected 1 fields, saw 9\\nSkipping line 1100: expected 1 fields, saw 9\\nSkipping line 1104: expected 1 fields, saw 9\\nSkipping line 1108: expected 1 fields, saw 9\\nSkipping line 1112: expected 1 fields, saw 9\\nSkipping line 1116: expected 1 fields, saw 9\\nSkipping line 1120: expected 1 fields, saw 9\\nSkipping line 1124: expected 1 fields, saw 9\\nSkipping line 1128: expected 1 fields, saw 9\\nSkipping line 1132: expected 1 fields, saw 9\\nSkipping line 1136: expected 1 fields, saw 9\\nSkipping line 1140: expected 1 fields, saw 9\\nSkipping line 1144: expected 1 fields, saw 9\\nSkipping line 1148: expected 1 fields, saw 9\\nSkipping line 1152: expected 1 fields, saw 9\\nSkipping line 1156: expected 1 fields, saw 9\\nSkipping line 1160: expected 1 fields, saw 9\\nSkipping line 1164: expected 1 fields, saw 9\\nSkipping line 1168: expected 1 fields, saw 9\\nSkipping line 1172: expected 1 fields, saw 9\\nSkipping line 1176: expected 1 fields, saw 9\\nSkipping line 1180: expected 1 fields, saw 9\\nSkipping line 1184: expected 1 fields, saw 9\\nSkipping line 1188: expected 1 fields, saw 9\\nSkipping line 1192: expected 1 fields, saw 9\\nSkipping line 1196: expected 1 fields, saw 9\\nSkipping line 1200: expected 1 fields, saw 9\\nSkipping line 1204: expected 1 fields, saw 9\\nSkipping line 1208: expected 1 fields, saw 9\\nSkipping line 1212: expected 1 fields, saw 9\\nSkipping line 1216: expected 1 fields, saw 9\\nSkipping line 1220: expected 1 fields, saw 9\\nSkipping line 1224: expected 1 fields, saw 9\\nSkipping line 1228: expected 1 fields, saw 9\\nSkipping line 1232: expected 1 fields, saw 9\\nSkipping line 1236: expected 1 fields, saw 9\\nSkipping line 1240: expected 1 fields, saw 9\\nSkipping line 1244: expected 1 fields, saw 9\\nSkipping line 1248: expected 1 fields, saw 9\\nSkipping line 1252: expected 1 fields, saw 9\\nSkipping line 1256: expected 1 fields, saw 9\\nSkipping line 1260: expected 1 fields, saw 9\\nSkipping line 1264: expected 1 fields, saw 9\\nSkipping line 1268: expected 1 fields, saw 9\\nSkipping line 1272: expected 1 fields, saw 9\\nSkipping line 1276: expected 1 fields, saw 9\\nSkipping line 1280: expected 1 fields, saw 9\\nSkipping line 1284: expected 1 fields, saw 9\\nSkipping line 1288: expected 1 fields, saw 9\\nSkipping line 1292: expected 1 fields, saw 9\\nSkipping line 1296: expected 1 fields, saw 9\\nSkipping line 1300: expected 1 fields, saw 9\\nSkipping line 1304: expected 1 fields, saw 9\\nSkipping line 1308: expected 1 fields, saw 9\\nSkipping line 1312: expected 1 fields, saw 9\\nSkipping line 1316: expected 1 fields, saw 9\\nSkipping line 1320: expected 1 fields, saw 9\\nSkipping line 1324: expected 1 fields, saw 9\\nSkipping line 1328: expected 1 fields, saw 9\\nSkipping line 1332: expected 1 fields, saw 9\\nSkipping line 1336: expected 1 fields, saw 9\\nSkipping line 1340: expected 1 fields, saw 9\\nSkipping line 1344: expected 1 fields, saw 9\\nSkipping line 1348: expected 1 fields, saw 9\\nSkipping line 1352: expected 1 fields, saw 9\\nSkipping line 1356: expected 1 fields, saw 9\\nSkipping line 1360: expected 1 fields, saw 9\\nSkipping line 1364: expected 1 fields, saw 9\\nSkipping line 1368: expected 1 fields, saw 9\\nSkipping line 1372: expected 1 fields, saw 9\\nSkipping line 1376: expected 1 fields, saw 9\\nSkipping line 1380: expected 1 fields, saw 9\\nSkipping line 1384: expected 1 fields, saw 9\\nSkipping line 1388: expected 1 fields, saw 9\\nSkipping line 1392: expected 1 fields, saw 9\\nSkipping line 1396: expected 1 fields, saw 9\\nSkipping line 1400: expected 1 fields, saw 9\\nSkipping line 1404: expected 1 fields, saw 9\\nSkipping line 1408: expected 1 fields, saw 9\\nSkipping line 1412: expected 1 fields, saw 9\\nSkipping line 1416: expected 1 fields, saw 9\\nSkipping line 1420: expected 1 fields, saw 9\\nSkipping line 1424: expected 1 fields, saw 9\\nSkipping line 1428: expected 1 fields, saw 9\\nSkipping line 1432: expected 1 fields, saw 9\\nSkipping line 1436: expected 1 fields, saw 9\\nSkipping line 1440: expected 1 fields, saw 9\\nSkipping line 1444: expected 1 fields, saw 9\\nSkipping line 1448: expected 1 fields, saw 9\\nSkipping line 1452: expected 1 fields, saw 9\\nSkipping line 1456: expected 1 fields, saw 9\\nSkipping line 1460: expected 1 fields, saw 9\\nSkipping line 1464: expected 1 fields, saw 9\\nSkipping line 1468: expected 1 fields, saw 9\\nSkipping line 1472: expected 1 fields, saw 9\\nSkipping line 1476: expected 1 fields, saw 9\\nSkipping line 1480: expected 1 fields, saw 9\\nSkipping line 1484: expected 1 fields, saw 9\\nSkipping line 1532: expected 1 fields, saw 2\\nSkipping line 1533: expected 1 fields, saw 3\\nSkipping line 1534: expected 1 fields, saw 3\\nSkipping line 1535: expected 1 fields, saw 3\\nSkipping line 1536: expected 1 fields, saw 3\\nSkipping line 1537: expected 1 fields, saw 3\\nSkipping line 1544: expected 1 fields, saw 3\\nSkipping line 1545: expected 1 fields, saw 3\\nSkipping line 1546: expected 1 fields, saw 3\\nSkipping line 1547: expected 1 fields, saw 3\\nSkipping line 1548: expected 1 fields, saw 3\\nSkipping line 1549: expected 1 fields, saw 3\\n'\n"
     ]
    }
   ],
   "source": [
    "#Day04 p.87 22:48~\n",
    "\n",
    "from pandas.io.parsers import read_csv\n",
    "df = read_csv(\"WHO_first9cols.csv\", error_bad_lines=False)\n",
    "print(\"Dateframe\", df)"
   ]
  },
  {
   "cell_type": "code",
   "execution_count": null,
   "metadata": {},
   "outputs": [],
   "source": []
  }
 ],
 "metadata": {
  "kernelspec": {
   "display_name": "Python 3",
   "language": "python",
   "name": "python3"
  },
  "language_info": {
   "codemirror_mode": {
    "name": "ipython",
    "version": 3
   },
   "file_extension": ".py",
   "mimetype": "text/x-python",
   "name": "python",
   "nbconvert_exporter": "python",
   "pygments_lexer": "ipython3",
   "version": "3.5.2"
  }
 },
 "nbformat": 4,
 "nbformat_minor": 2
}
