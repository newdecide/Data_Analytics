{
 "cells": [
  {
   "cell_type": "code",
   "execution_count": 7,
   "metadata": {},
   "outputs": [],
   "source": [
    "import pandas as pd\n",
    "from numpy.random import seed\n",
    "from numpy.random import rand\n",
    "from numpy.random import randint\n",
    "import numpy as np\n",
    "\n",
    "seed(42)"
   ]
  },
  {
   "cell_type": "code",
   "execution_count": 5,
   "metadata": {},
   "outputs": [
    {
     "name": "stdout",
     "output_type": "stream",
     "text": [
      "        Food  Number     Price Weather\n",
      "0       soup       4  3.337086    cold\n",
      "1       soup       4  1.428668     hot\n",
      "2   icecream       4  6.508885    cold\n",
      "3  chocolate       4  0.564116     hot\n",
      "4   icecream       4  7.219988    cold\n",
      "5   icecream       4  9.385527     hot\n",
      "6       soup       4  0.007788    cold\n"
     ]
    }
   ],
   "source": [
    "#날씨와, 시장가격에 관련된 고객 구매 연구 결과\n",
    "\n",
    "df = pd.DataFrame({'Weather':['cold','hot', 'cold', 'hot', 'cold', 'hot', 'cold'], \n",
    "                   'Food' : ['soup', 'soup', 'icecream', 'chocolate', 'icecream', 'icecream', 'soup'], \n",
    "                   'Price' : 10 * rand(7), \n",
    "                   'Number' : randint(1, 9,)})\n",
    "print(df)"
   ]
  },
  {
   "cell_type": "code",
   "execution_count": 20,
   "metadata": {},
   "outputs": [
    {
     "name": "stdout",
     "output_type": "stream",
     "text": [
      "Group 1 cold\n",
      "       Food  Number     Price Weather\n",
      "0      soup       4  3.337086    cold\n",
      "2  icecream       4  6.508885    cold\n",
      "4  icecream       4  7.219988    cold\n",
      "6      soup       4  0.007788    cold\n",
      "Group 2 hot\n",
      "        Food  Number     Price Weather\n",
      "1       soup       4  1.428668     hot\n",
      "3  chocolate       4  0.564116     hot\n",
      "5   icecream       4  9.385527     hot\n"
     ]
    }
   ],
   "source": [
    "# weather 데이터 그룹화 및 반복문\n",
    "weather_group = df.groupby('Weather')\n",
    "i = 0\n",
    "for name, group in weather_group:\n",
    "    i = i+1\n",
    "    print(\"Group\", i, name)\n",
    "    print(group)\n"
   ]
  },
  {
   "cell_type": "code",
   "execution_count": 11,
   "metadata": {},
   "outputs": [
    {
     "name": "stdout",
     "output_type": "stream",
     "text": [
      "Weather group first\n",
      "          Food  Number     Price\n",
      "Weather                        \n",
      "cold     soup       4  3.337086\n",
      "hot      soup       4  1.428668\n"
     ]
    }
   ],
   "source": [
    "# 그룹 평균값\n",
    "print(\"Weather group first\\n\", weather_group.first())"
   ]
  },
  {
   "cell_type": "code",
   "execution_count": 23,
   "metadata": {},
   "outputs": [
    {
     "name": "stdout",
     "output_type": "stream",
     "text": [
      "             Food  Number     Price\n",
      "Weather                            \n",
      "cold         soup       4  0.007788\n",
      "hot      icecream       4  9.385527\n",
      "         Number     Price\n",
      "Weather                  \n",
      "cold          4  4.268437\n",
      "hot           4  3.792770\n"
     ]
    }
   ],
   "source": [
    "print(weather_group.last())\n",
    "\n",
    "print(weather_group.mean())"
   ]
  },
  {
   "cell_type": "code",
   "execution_count": null,
   "metadata": {},
   "outputs": [],
   "source": []
  }
 ],
 "metadata": {
  "kernelspec": {
   "display_name": "Python 3",
   "language": "python",
   "name": "python3"
  },
  "language_info": {
   "codemirror_mode": {
    "name": "ipython",
    "version": 3
   },
   "file_extension": ".py",
   "mimetype": "text/x-python",
   "name": "python",
   "nbconvert_exporter": "python",
   "pygments_lexer": "ipython3",
   "version": "3.5.2"
  }
 },
 "nbformat": 4,
 "nbformat_minor": 2
}
