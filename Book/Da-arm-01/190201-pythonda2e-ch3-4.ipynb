{
 "cells": [
  {
   "cell_type": "code",
   "execution_count": 1,
   "metadata": {},
   "outputs": [
    {
     "name": "stdout",
     "output_type": "stream",
     "text": [
      "        Food  Number     Price Weather\n",
      "0       soup       8  3.745401    cold\n",
      "1       soup       8  9.507143     hot\n",
      "2   icecream       8  7.319939    cold\n",
      "3  chocolate       8  5.986585     hot\n",
      "4   icecream       8  1.560186    cold\n",
      "5   icecream       8  1.559945     hot\n",
      "6       soup       8  0.580836    cold\n"
     ]
    }
   ],
   "source": [
    "#Day06 p.108~ 19:45 ~\n",
    "\n",
    "import pandas as pd\n",
    "from numpy.random import seed\n",
    "from numpy.random import rand\n",
    "from numpy.random import randint\n",
    "import numpy as np\n",
    "\n",
    "seed(42)\n",
    "\n",
    "df = pd.DataFrame({'Weather':['cold','hot', 'cold', 'hot', 'cold', 'hot', 'cold'], \n",
    "                   'Food' : ['soup', 'soup', 'icecream', 'chocolate', 'icecream', 'icecream', 'soup'], \n",
    "                   'Price' : 10 * rand(7), \n",
    "                   'Number' : randint(1, 9,)})\n",
    "print(df)\n"
   ]
  },
  {
   "cell_type": "code",
   "execution_count": 2,
   "metadata": {},
   "outputs": [
    {
     "name": "stdout",
     "output_type": "stream",
     "text": [
      "df : 3\n",
      "        Food  Number     Price Weather\n",
      "0      soup       8  3.745401    cold\n",
      "1      soup       8  9.507143     hot\n",
      "2  icecream       8  7.319939    cold\n"
     ]
    }
   ],
   "source": [
    "#첫번째 부터 3번째가 나오게 하기\n",
    "print(\"df : 3\\n\", df[:3])"
   ]
  },
  {
   "cell_type": "code",
   "execution_count": 4,
   "metadata": {},
   "outputs": [
    {
     "name": "stdout",
     "output_type": "stream",
     "text": [
      "Concat Back together\n",
      "         Food  Number     Price Weather\n",
      "0       soup       8  3.745401    cold\n",
      "1       soup       8  9.507143     hot\n",
      "2   icecream       8  7.319939    cold\n",
      "3  chocolate       8  5.986585     hot\n",
      "4   icecream       8  1.560186    cold\n",
      "5   icecream       8  1.559945     hot\n",
      "6       soup       8  0.580836    cold\n"
     ]
    }
   ],
   "source": [
    "#데이터 프레임 합치기\n",
    "print(\"Concat Back together\\n\", pd.concat([df[:3], df[3:]]))"
   ]
  },
  {
   "cell_type": "code",
   "execution_count": 5,
   "metadata": {},
   "outputs": [
    {
     "name": "stdout",
     "output_type": "stream",
     "text": [
      "Appending rows\n",
      "        Food  Number     Price Weather\n",
      "0      soup       8  3.745401    cold\n",
      "1      soup       8  9.507143     hot\n",
      "2  icecream       8  7.319939    cold\n",
      "5  icecream       8  1.559945     hot\n",
      "6      soup       8  0.580836    cold\n"
     ]
    }
   ],
   "source": [
    "#데이터 프레임 추가하기\n",
    "print(\"Appending rows\\n\", df[:3].append(df[5:]))"
   ]
  },
  {
   "cell_type": "code",
   "execution_count": 6,
   "metadata": {},
   "outputs": [
    {
     "data": {
      "text/html": [
       "<div>\n",
       "<style scoped>\n",
       "    .dataframe tbody tr th:only-of-type {\n",
       "        vertical-align: middle;\n",
       "    }\n",
       "\n",
       "    .dataframe tbody tr th {\n",
       "        vertical-align: top;\n",
       "    }\n",
       "\n",
       "    .dataframe thead th {\n",
       "        text-align: right;\n",
       "    }\n",
       "</style>\n",
       "<table border=\"1\" class=\"dataframe\">\n",
       "  <thead>\n",
       "    <tr style=\"text-align: right;\">\n",
       "      <th></th>\n",
       "      <th>Food</th>\n",
       "      <th>Number</th>\n",
       "      <th>Price</th>\n",
       "      <th>Weather</th>\n",
       "    </tr>\n",
       "  </thead>\n",
       "  <tbody>\n",
       "    <tr>\n",
       "      <th>0</th>\n",
       "      <td>soup</td>\n",
       "      <td>8</td>\n",
       "      <td>3.745401</td>\n",
       "      <td>cold</td>\n",
       "    </tr>\n",
       "    <tr>\n",
       "      <th>1</th>\n",
       "      <td>soup</td>\n",
       "      <td>8</td>\n",
       "      <td>9.507143</td>\n",
       "      <td>hot</td>\n",
       "    </tr>\n",
       "    <tr>\n",
       "      <th>2</th>\n",
       "      <td>icecream</td>\n",
       "      <td>8</td>\n",
       "      <td>7.319939</td>\n",
       "      <td>cold</td>\n",
       "    </tr>\n",
       "    <tr>\n",
       "      <th>3</th>\n",
       "      <td>chocolate</td>\n",
       "      <td>8</td>\n",
       "      <td>5.986585</td>\n",
       "      <td>hot</td>\n",
       "    </tr>\n",
       "    <tr>\n",
       "      <th>4</th>\n",
       "      <td>icecream</td>\n",
       "      <td>8</td>\n",
       "      <td>1.560186</td>\n",
       "      <td>cold</td>\n",
       "    </tr>\n",
       "    <tr>\n",
       "      <th>5</th>\n",
       "      <td>icecream</td>\n",
       "      <td>8</td>\n",
       "      <td>1.559945</td>\n",
       "      <td>hot</td>\n",
       "    </tr>\n",
       "    <tr>\n",
       "      <th>6</th>\n",
       "      <td>soup</td>\n",
       "      <td>8</td>\n",
       "      <td>0.580836</td>\n",
       "      <td>cold</td>\n",
       "    </tr>\n",
       "  </tbody>\n",
       "</table>\n",
       "</div>"
      ],
      "text/plain": [
       "        Food  Number     Price Weather\n",
       "0       soup       8  3.745401    cold\n",
       "1       soup       8  9.507143     hot\n",
       "2   icecream       8  7.319939    cold\n",
       "3  chocolate       8  5.986585     hot\n",
       "4   icecream       8  1.560186    cold\n",
       "5   icecream       8  1.559945     hot\n",
       "6       soup       8  0.580836    cold"
      ]
     },
     "execution_count": 6,
     "metadata": {},
     "output_type": "execute_result"
    }
   ],
   "source": [
    "#데이터 프레임 조인\n"
   ]
  },
  {
   "cell_type": "code",
   "execution_count": null,
   "metadata": {},
   "outputs": [],
   "source": []
  }
 ],
 "metadata": {
  "kernelspec": {
   "display_name": "Python 3",
   "language": "python",
   "name": "python3"
  },
  "language_info": {
   "codemirror_mode": {
    "name": "ipython",
    "version": 3
   },
   "file_extension": ".py",
   "mimetype": "text/x-python",
   "name": "python",
   "nbconvert_exporter": "python",
   "pygments_lexer": "ipython3",
   "version": "3.5.2"
  }
 },
 "nbformat": 4,
 "nbformat_minor": 2
}
