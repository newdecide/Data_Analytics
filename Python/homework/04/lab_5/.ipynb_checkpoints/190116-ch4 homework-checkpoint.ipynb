{
 "cells": [
  {
   "cell_type": "code",
   "execution_count": 21,
   "metadata": {},
   "outputs": [],
   "source": [
    "def delete_a_list_element(list_data, element_value):\n",
    "    try: \n",
    "        del list_data[element_value]\n",
    "    except IndexError:\n",
    "        return 0\n",
    "    \n",
    "    return list_data\n"
   ]
  },
  {
   "cell_type": "code",
   "execution_count": 26,
   "metadata": {},
   "outputs": [
    {
     "data": {
      "text/plain": [
       "0"
      ]
     },
     "execution_count": 26,
     "metadata": {},
     "output_type": "execute_result"
    }
   ],
   "source": [
    "delete_a_list_element([1,2,3,4], 5)"
   ]
  },
  {
   "cell_type": "code",
   "execution_count": 45,
   "metadata": {},
   "outputs": [
    {
     "data": {
      "text/plain": [
       "<function list.count>"
      ]
     },
     "execution_count": 45,
     "metadata": {},
     "output_type": "execute_result"
    }
   ],
   "source": [
    "own = [1,2,3, 8]\n",
    "two = [4,5,6]\n",
    "\n",
    "three = own + two\n",
    "threes = three.sort()\n",
    "\n"
   ]
  },
  {
   "cell_type": "code",
   "execution_count": 50,
   "metadata": {},
   "outputs": [],
   "source": [
    "def comparison_list_size(list_data_a, list_data_b):\n",
    "    if len(list_data_a) >= len(list_data_b):\n",
    "        return list_data_a\n",
    "    else: \n",
    "        return list_data_b"
   ]
  },
  {
   "cell_type": "code",
   "execution_count": 55,
   "metadata": {},
   "outputs": [
    {
     "data": {
      "text/plain": [
       "[1, 2, 3, 4, 5, 6, 8]"
      ]
     },
     "execution_count": 55,
     "metadata": {},
     "output_type": "execute_result"
    }
   ],
   "source": [
    "comparison_list_size(two, three)"
   ]
  },
  {
   "cell_type": "code",
   "execution_count": 58,
   "metadata": {},
   "outputs": [],
   "source": [
    "def odd_even_check(a, b):\n",
    "    c = a+b\n",
    "    if(c%2==1):\n",
    "        result = \"Odd\"\n",
    "        return result    \n",
    "    else:\n",
    "        result = \"Even\"\n",
    "        return result"
   ]
  },
  {
   "cell_type": "code",
   "execution_count": 60,
   "metadata": {},
   "outputs": [
    {
     "data": {
      "text/plain": [
       "'Odd'"
      ]
     },
     "execution_count": 60,
     "metadata": {},
     "output_type": "execute_result"
    }
   ],
   "source": [
    "odd_even_check(2, 3)"
   ]
  },
  {
   "cell_type": "code",
   "execution_count": 86,
   "metadata": {},
   "outputs": [],
   "source": [
    "def discount_price(price):\n",
    "    if price > 100000:\n",
    "        result = price - (price / 5)\n",
    "        return result\n",
    "    else: \n",
    "        result = price - (price / 10)\n",
    "        return result"
   ]
  },
  {
   "cell_type": "code",
   "execution_count": 88,
   "metadata": {},
   "outputs": [
    {
     "data": {
      "text/plain": [
       "96000.0"
      ]
     },
     "execution_count": 88,
     "metadata": {},
     "output_type": "execute_result"
    }
   ],
   "source": [
    "discount_price(120000)"
   ]
  },
  {
   "cell_type": "code",
   "execution_count": 1,
   "metadata": {},
   "outputs": [],
   "source": [
    "def find_smallest_value(list_data):\n",
    "    result = min(list_data)\n",
    "    return result"
   ]
  },
  {
   "cell_type": "code",
   "execution_count": 4,
   "metadata": {},
   "outputs": [
    {
     "data": {
      "text/plain": [
       "1"
      ]
     },
     "execution_count": 4,
     "metadata": {},
     "output_type": "execute_result"
    }
   ],
   "source": [
    "find_smallest_value([2,3,4,1,5,6])"
   ]
  },
  {
   "cell_type": "code",
   "execution_count": 10,
   "metadata": {},
   "outputs": [
    {
     "data": {
      "text/plain": [
       "'0b111000'"
      ]
     },
     "execution_count": 10,
     "metadata": {},
     "output_type": "execute_result"
    }
   ],
   "source": [
    "bin(56)\n"
   ]
  },
  {
   "cell_type": "code",
   "execution_count": 32,
   "metadata": {},
   "outputs": [],
   "source": [
    "bi = [1,2,3,4]\n",
    "results = []"
   ]
  },
  {
   "cell_type": "code",
   "execution_count": 33,
   "metadata": {},
   "outputs": [
    {
     "ename": "IndexError",
     "evalue": "list index out of range",
     "output_type": "error",
     "traceback": [
      "\u001b[0;31m---------------------------------------------------------------------------\u001b[0m",
      "\u001b[0;31mIndexError\u001b[0m                                Traceback (most recent call last)",
      "\u001b[0;32m<ipython-input-33-dcb6ed952158>\u001b[0m in \u001b[0;36m<module>\u001b[0;34m\u001b[0m\n\u001b[1;32m      1\u001b[0m \u001b[0;32mfor\u001b[0m \u001b[0mi\u001b[0m \u001b[0;32min\u001b[0m \u001b[0mbi\u001b[0m\u001b[0;34m:\u001b[0m\u001b[0;34m\u001b[0m\u001b[0m\n\u001b[0;32m----> 2\u001b[0;31m     \u001b[0mresults\u001b[0m\u001b[0;34m[\u001b[0m\u001b[0mi\u001b[0m\u001b[0;34m]\u001b[0m\u001b[0;34m\u001b[0m\u001b[0m\n\u001b[0m\u001b[1;32m      3\u001b[0m     \u001b[0mprint\u001b[0m\u001b[0;34m(\u001b[0m\u001b[0mresults\u001b[0m\u001b[0;34m)\u001b[0m\u001b[0;34m\u001b[0m\u001b[0m\n",
      "\u001b[0;31mIndexError\u001b[0m: list index out of range"
     ]
    }
   ],
   "source": [
    "for i in bi:\n",
    "    results[i]\n",
    "    print(results)"
   ]
  },
  {
   "cell_type": "code",
   "execution_count": 28,
   "metadata": {},
   "outputs": [
    {
     "data": {
      "text/plain": [
       "4"
      ]
     },
     "execution_count": 28,
     "metadata": {},
     "output_type": "execute_result"
    }
   ],
   "source": [
    "results"
   ]
  },
  {
   "cell_type": "code",
   "execution_count": 4,
   "metadata": {},
   "outputs": [
    {
     "name": "stdout",
     "output_type": "stream",
     "text": [
      "(1, 2, 3, 'a')\n",
      "(1, 2, 'a', 3)\n",
      "(1, 3, 2, 'a')\n",
      "(1, 3, 'a', 2)\n",
      "(1, 'a', 2, 3)\n",
      "(1, 'a', 3, 2)\n",
      "(2, 1, 3, 'a')\n",
      "(2, 1, 'a', 3)\n",
      "(2, 3, 1, 'a')\n",
      "(2, 3, 'a', 1)\n",
      "(2, 'a', 1, 3)\n",
      "(2, 'a', 3, 1)\n",
      "(3, 1, 2, 'a')\n",
      "(3, 1, 'a', 2)\n",
      "(3, 2, 1, 'a')\n",
      "(3, 2, 'a', 1)\n",
      "(3, 'a', 1, 2)\n",
      "(3, 'a', 2, 1)\n",
      "('a', 1, 2, 3)\n",
      "('a', 1, 3, 2)\n",
      "('a', 2, 1, 3)\n",
      "('a', 2, 3, 1)\n",
      "('a', 3, 1, 2)\n",
      "('a', 3, 2, 1)\n"
     ]
    }
   ],
   "source": [
    "import itertools\n",
    "for perm in itertools.permutations([1, 2, 3, 'a']):\n",
    "    print(perm)\n",
    "    "
   ]
  },
  {
   "cell_type": "code",
   "execution_count": 31,
   "metadata": {},
   "outputs": [],
   "source": [
    "import itertools\n",
    "def number_of_cases(list_data):\n",
    "    a = ['1','2','3','4']\n",
    "    result = []\n",
    "    for shape,color in (a,list_data):\n",
    "        sums = shape + color\n",
    "        result += sums\n",
    "\n",
    "    # ==================================\n",
    "    return result\n"
   ]
  },
  {
   "cell_type": "code",
   "execution_count": 68,
   "metadata": {},
   "outputs": [],
   "source": [
    "import itertools\n",
    "list1=['square','circle','triangle'] \n",
    "list2=['red','green']\n",
    "result = []\n",
    "for shape,color in itertools.product(list1,list2):\n",
    "    sums = shape+color\n",
    "    result.append(sums)"
   ]
  },
  {
   "cell_type": "code",
   "execution_count": 51,
   "metadata": {},
   "outputs": [
    {
     "name": "stdout",
     "output_type": "stream",
     "text": [
      "['squarered', 'squaregreen', 'circlered', 'circlegreen', 'trianglered', 'trianglegreen']\n"
     ]
    }
   ],
   "source": [
    "print(resultt)"
   ]
  },
  {
   "cell_type": "code",
   "execution_count": 73,
   "metadata": {},
   "outputs": [],
   "source": [
    "\n",
    "def number_of_cases(list_data):\n",
    "    list1 = ['1','2','3']\n",
    "    list2= [str(list_data)]\n",
    "    result = []\n",
    "    for shape,color in itertools.product(list1,list2):\n",
    "        sums = shape+color\n",
    "        result.append(sums)\n",
    "\n",
    "    # ==================================\n",
    "    return result\n"
   ]
  },
  {
   "cell_type": "code",
   "execution_count": 76,
   "metadata": {},
   "outputs": [
    {
     "ename": "NameError",
     "evalue": "name 'a2' is not defined",
     "output_type": "error",
     "traceback": [
      "\u001b[0;31m---------------------------------------------------------------------------\u001b[0m",
      "\u001b[0;31mNameError\u001b[0m                                 Traceback (most recent call last)",
      "\u001b[0;32m<ipython-input-76-af84df15b525>\u001b[0m in \u001b[0;36m<module>\u001b[0;34m\u001b[0m\n\u001b[0;32m----> 1\u001b[0;31m \u001b[0mnumber_of_cases\u001b[0m\u001b[0;34m(\u001b[0m\u001b[0ma2\u001b[0m\u001b[0;34m)\u001b[0m\u001b[0;34m\u001b[0m\u001b[0m\n\u001b[0m",
      "\u001b[0;31mNameError\u001b[0m: name 'a2' is not defined"
     ]
    }
   ],
   "source": [
    "number_of_cases()"
   ]
  },
  {
   "cell_type": "code",
   "execution_count": null,
   "metadata": {},
   "outputs": [],
   "source": []
  }
 ],
 "metadata": {
  "kernelspec": {
   "display_name": "Python 3",
   "language": "python",
   "name": "python3"
  },
  "language_info": {
   "codemirror_mode": {
    "name": "ipython",
    "version": 3
   },
   "file_extension": ".py",
   "mimetype": "text/x-python",
   "name": "python",
   "nbconvert_exporter": "python",
   "pygments_lexer": "ipython3",
   "version": "3.5.2"
  }
 },
 "nbformat": 4,
 "nbformat_minor": 2
}
