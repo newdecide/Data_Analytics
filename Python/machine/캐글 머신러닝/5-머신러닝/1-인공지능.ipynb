{
 "cells": [
  {
   "cell_type": "markdown",
   "metadata": {},
   "source": [
    "# 인공지능\n",
    "시간: 13:00 ~\n",
    "        \n",
    "사람이 지능적으로 수행해야하는 기능을 수행하는 기계의 제작을 위한 기술\n",
    "인지와 추론\n",
    "\n",
    "영화: 엑스 마키나(로봇이 사람처럼 행동을 함)\n",
    "=> 결말은 어이없지만, 과정은 좋은 영화이다. "
   ]
  },
  {
   "cell_type": "markdown",
   "metadata": {},
   "source": [
    "합리적 행위\n",
    "이상적인 결론"
   ]
  },
  {
   "cell_type": "markdown",
   "metadata": {},
   "source": [
    "## 인공지능의 역사\n",
    "1942년 최초의 인공지능이 연구됨\n",
    "앨런 튜링은 성인모델로 구현 보다는 아이에 초점을 맞춤\n",
    "\n",
    "### 1956년 최초의 인공지능\n",
    "추론 프로그램을 만들고 비수적으로 사고할 수 있는 컴퓨터를 만들었다고 주장함.\n",
    "제한적인 성공이 많음\n",
    "존 매카시는 \"엄마 나 이거 할 줄 알아\" => 증명을 함\n"
   ]
  },
  {
   "cell_type": "code",
   "execution_count": null,
   "metadata": {},
   "outputs": [],
   "source": []
  }
 ],
 "metadata": {
  "kernelspec": {
   "display_name": "Python 3",
   "language": "python",
   "name": "python3"
  },
  "language_info": {
   "codemirror_mode": {
    "name": "ipython",
    "version": 3
   },
   "file_extension": ".py",
   "mimetype": "text/x-python",
   "name": "python",
   "nbconvert_exporter": "python",
   "pygments_lexer": "ipython3",
   "version": "3.7.2"
  }
 },
 "nbformat": 4,
 "nbformat_minor": 2
}
