{
 "cells": [
  {
   "cell_type": "code",
   "execution_count": 5,
   "metadata": {},
   "outputs": [
    {
     "name": "stderr",
     "output_type": "stream",
     "text": [
      "Some characters could not be decoded, and were replaced with REPLACEMENT CHARACTER.\n"
     ]
    }
   ],
   "source": [
    "from bs4 import BeautifulSoup\n",
    "from urllib.request import urlopen\n",
    "\n",
    "html = urlopen(\"https://www.ytn.co.kr/_ln/0103_201905310926278259\")\n",
    "ytn = BeautifulSoup(html.read(), \"html.parser\")\n"
   ]
  },
  {
   "cell_type": "code",
   "execution_count": 12,
   "metadata": {},
   "outputs": [
    {
     "data": {
      "text/plain": [
       "\"서울 신림동의 한 빌라.\\n\\r\\n20대 여성이 집 안으로 들어갑니다.\\n\\r\\n곧이어 모자를 눌러쓴 남자가 나타나더니 문을 닫지 못하도록 손을 뻗습니다.\\n\\r\\n찰나의 순간, 여성은 극적으로 범죄 피해를 모면합니다.\\n\\r\\n닫힌 문을 열어보려고 애쓰는 남자, 한동안 현장을 떠나지 않은 채 서성거립니다.\\n\\r\\n'신림동 주거 침입 사건'으로 알려진 CCTV 영상입니다.\\n\\r\\n영상이 공개되자 공포심이 뒤섞인 분노가 인터넷을 달궜습니다.\\n\\r\\n강력한 처벌을 요구하는 의견도 잇따랐습니다.\\n\\r\\n범행 다음 날, 30살 조 모 씨를 주거 침입 혐의로 붙잡은 경찰은 고심 끝에 주거 침입 성폭행 미수 혐의로 구속영장을 신청했습니다.\\n\\r\\n피해 여성 집 앞에 상당 시간 머물며 출입문을 열려고 여러 차례 시도한 걸 고려했을 때 성폭행 의도가 있었다고 판단한 겁니다.\\n\\r\\n조 씨는 경찰 조사에서 술에 취해 기억나지 않는다고 주장했습니다.\\n\\r\\n하지만 경찰은 조 씨의 죄질이 나쁘고 진술 내용도 믿기 힘들다고 밝혔습니다.\\n\\r\\n경찰은 영장 심사 결과가 나오면 수사 방향을 구체적으로 결정할 방침입니다.\\n\\r\\n취재기자 : 이종구\\r\\n영상편집 : 주혜민\\r\\n자막뉴스 : 육지혜\""
      ]
     },
     "execution_count": 12,
     "metadata": {},
     "output_type": "execute_result"
    }
   ],
   "source": [
    "ytn.find('div', {\"class\": \"article_paragraph\", \"id\": \"CmAdContent\"}).span.text\n"
   ]
  },
  {
   "cell_type": "code",
   "execution_count": null,
   "metadata": {},
   "outputs": [],
   "source": []
  }
 ],
 "metadata": {
  "kernelspec": {
   "display_name": "Python 3",
   "language": "python",
   "name": "python3"
  },
  "language_info": {
   "codemirror_mode": {
    "name": "ipython",
    "version": 3
   },
   "file_extension": ".py",
   "mimetype": "text/x-python",
   "name": "python",
   "nbconvert_exporter": "python",
   "pygments_lexer": "ipython3",
   "version": "3.7.2"
  }
 },
 "nbformat": 4,
 "nbformat_minor": 2
}
