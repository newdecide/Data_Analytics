{
 "cells": [
  {
   "cell_type": "code",
   "execution_count": 2,
   "metadata": {},
   "outputs": [],
   "source": [
    "from bs4 import BeautifulSoup\n",
    "from urllib.request import urlopen\n",
    "\n",
    "html = urlopen(\"https://www.naver.com\")\n",
    "bsObj = BeautifulSoup(html.read(), \"html.parser\")"
   ]
  },
  {
   "cell_type": "code",
   "execution_count": 6,
   "metadata": {},
   "outputs": [
    {
     "data": {
      "text/plain": [
       "<a href=\"#news_cast\" onclick=\"document.getElementById('news_cast2').tabIndex = -1;document.getElementById('news_cast2').focus();return false;\"><span>연합뉴스 바로가기</span></a>"
      ]
     },
     "execution_count": 6,
     "metadata": {},
     "output_type": "execute_result"
    }
   ],
   "source": [
    "bsObj.div.a"
   ]
  },
  {
   "cell_type": "code",
   "execution_count": 7,
   "metadata": {},
   "outputs": [
    {
     "data": {
      "text/plain": [
       "'NAVER'"
      ]
     },
     "execution_count": 7,
     "metadata": {},
     "output_type": "execute_result"
    }
   ],
   "source": [
    "bsObj.head.title.text"
   ]
  },
  {
   "cell_type": "code",
   "execution_count": 8,
   "metadata": {},
   "outputs": [
    {
     "data": {
      "text/plain": [
       "<div class=\"u_skip\">\n",
       "<a href=\"#news_cast\" onclick=\"document.getElementById('news_cast2').tabIndex = -1;document.getElementById('news_cast2').focus();return false;\"><span>연합뉴스 바로가기</span></a>\n",
       "<a href=\"#themecast\" onclick=\"document.getElementById('themecast').tabIndex = -1;document.getElementById('themecast').focus();return false;\"><span>주제별캐스트 바로가기</span></a>\n",
       "<a href=\"#time_square\" onclick=\"document.getElementById('time_square').tabIndex = -1;document.getElementById('time_square').focus();return false;\"><span>타임스퀘어 바로가기</span></a>\n",
       "<a href=\"#shp_cst\" onclick=\"document.getElementById('shp_cst').tabIndex = -1;document.getElementById('shp_cst').focus();return false;\"><span>쇼핑캐스트 바로가기</span></a>\n",
       "<a href=\"#account\" onclick=\"document.getElementById('account').tabIndex = -1;document.getElementById('account').focus();return false;\"><span>로그인 바로가기</span></a>\n",
       "</div>"
      ]
     },
     "execution_count": 8,
     "metadata": {},
     "output_type": "execute_result"
    }
   ],
   "source": [
    "#검색결과는 1개만 나온다. \n",
    "bsObj.find('div')"
   ]
  },
  {
   "cell_type": "code",
   "execution_count": 12,
   "metadata": {},
   "outputs": [
    {
     "data": {
      "text/plain": [
       "251"
      ]
     },
     "execution_count": 12,
     "metadata": {},
     "output_type": "execute_result"
    }
   ],
   "source": [
    "#길이확인 \n",
    "list1 = bsObj.find_all('div')\n",
    "len(list1)"
   ]
  },
  {
   "cell_type": "code",
   "execution_count": 14,
   "metadata": {},
   "outputs": [
    {
     "name": "stdout",
     "output_type": "stream",
     "text": [
      "[<div class=\"area_logo\">\n",
      "<h1>\n",
      "<a data-clk=\"top.logo\" href=\"/\"><span class=\"naver_logo\">네이버</span></a>\n",
      "</h1>\n",
      "</div>]\n"
     ]
    }
   ],
   "source": [
    "list1 = bsObj.find_all('div', {\"class\" :\"area_logo\"})\n",
    "print(list1)\n"
   ]
  },
  {
   "cell_type": "code",
   "execution_count": 17,
   "metadata": {},
   "outputs": [
    {
     "name": "stdout",
     "output_type": "stream",
     "text": [
      "[<div class=\"search\" id=\"search\">\n",
      "<!--자동완성 입력창-->\n",
      "<form action=\"https://search.naver.com/search.naver\" id=\"sform\" method=\"get\" name=\"sform\">\n",
      "<fieldset>\n",
      "<legend class=\"blind\">검색</legend>\n",
      "<input id=\"sm\" name=\"sm\" type=\"hidden\" value=\"top_hty\"/>\n",
      "<input id=\"fbm\" name=\"fbm\" type=\"hidden\" value=\"0\"/>\n",
      "<input disabled=\"disabled\" id=\"acr\" name=\"acr\" type=\"hidden\" value=\"\"/>\n",
      "<input disabled=\"disabled\" id=\"acq\" name=\"acq\" type=\"hidden\" value=\"\"/>\n",
      "<input disabled=\"disabled\" id=\"qdt\" name=\"qdt\" type=\"hidden\" value=\"\"/>\n",
      "<input id=\"ie\" name=\"ie\" type=\"hidden\" value=\"utf8\"/>\n",
      "<input disabled=\"disabled\" id=\"acir\" name=\"acir\" type=\"hidden\" value=\"\"/>\n",
      "<input disabled=\"disabled\" id=\"os\" name=\"os\" type=\"hidden\" value=\"\"/>\n",
      "<input disabled=\"disabled\" id=\"bid\" name=\"bid\" type=\"hidden\" value=\"\"/>\n",
      "<input disabled=\"disabled\" id=\"pkid\" name=\"pkid\" type=\"hidden\" value=\"\"/>\n",
      "<input disabled=\"disabled\" id=\"eid\" name=\"eid\" type=\"hidden\" value=\"\"/>\n",
      "<input disabled=\"disabled\" id=\"mra\" name=\"mra\" type=\"hidden\" value=\"\"/>\n",
      "<span class=\"green_window\">\n",
      "<input accesskey=\"s\" autocomplete=\"off\" class=\"input_text\" id=\"query\" maxlength=\"255\" name=\"query\" onclick=\"document.getElementById('fbm').value=1;\" style=\"ime-mode:active;\" tabindex=\"1\" title=\"검색어 입력\" type=\"text\" value=\"\"/>\n",
      "</span>\n",
      "<div class=\"autocomplete\" id=\"nautocomplete\">\n",
      "<!-- 자동완성 열린 경우 fold 클래스 추가, 딤드인 경우 dim 추가 -->\n",
      "<a class=\"btn_arw _btn_arw fold\" href=\"javascript:;\" role=\"button\" tabindex=\"2\"><span class=\"blind _text\">자동완성 펼치기</span><span class=\"ico_arr\"></span></a>\n",
      "</div>\n",
      "<button class=\"sch_smit\" id=\"search_btn\" onclick=\"clickcr(this,'sch.action','','',event);\" onmousedown=\"this.className='sch_smit down'\" onmouseout=\"this.className='sch_smit'\" onmouseover=\"this.className='sch_smit over'\" tabindex=\"3\" title=\"검색\" type=\"submit\"><span class=\"blind\">검색</span><span class=\"ico_search_submit\"></span></button>\n",
      "</fieldset>\n",
      "</form>\n",
      "<!--자동완성 입력창-->\n",
      "<!--한글입력기 -->\n",
      "<a class=\"btn_keyboard\" data-clk=\"sch.ime\" href=\"javascript:;\" id=\"ke_kbd_btn\" onclick=\"nx_ime_load(this)\" role=\"button\"><span class=\"blind\">한글 입력기</span><span class=\"ico_keyboard\"></span></a>\n",
      "<style id=\"_nx_kbd_style\" type=\"text/css\"></style>\n",
      "<div id=\"_nx_kbd\" style=\"display:none;\"></div>\n",
      "<!--한글입력기 -->\n",
      "<!--자동완성 레이어 -->\n",
      "<div class=\"reatcmp\" id=\"autoFrame\" style=\"background-color:rgb(255, 255, 255);display:none;\">\n",
      "<div class=\"api_atcmp_wrap _atcmp\" style=\"display:none;\">\n",
      "<div class=\"words _words\">\n",
      "<div class=\"_atcmp_result_wrap\">\n",
      "<ul class=\"_resultBox\"></ul>\n",
      "<ul class=\"_resultBox\"></ul>\n",
      "<ul class=\"_resultBox\"></ul>\n",
      "<ul class=\"_resultBox\"></ul>\n",
      "</div>\n",
      "<!-- 우측 정답형 영역 -->\n",
      "<div class=\"add_group _atcmp_answer_wrap\"></div>\n",
      "</div>\n",
      "<!-- 컨텍스트 자동완성 플러스 -->\n",
      "<!-- [AU] _plus -->\n",
      "<div class=\"atcmp_plus _plus\">\n",
      "<span class=\"desc\">\n",
      "<span class=\"plus_txt _plusTxt\">시간대와 관심사에 맞춘 <em class=\"txt\">컨텍스트 자동완성</em></span>\n",
      "<a class=\"spat ico_info _plusHelp\" href=\"https://help.naver.com/support/contents/contents.nhn?serviceNo=606&amp;categoryNo=16658\" onclick=\"__atcmpCR(event, this, 'plus.help', '','','');\" target=\"_blank\"><span class=\"blind\">도움말 보기</span></a>\n",
      "</span>\n",
      "<!-- [AU] _plus_btn -->\n",
      "<span class=\"switch _plus_btn\">\n",
      "<a class=\"btn_turnon active\" href=\"#\" onclick=\"__atcmpCR(event, this, 'plus.use', '','','');\">ON<span class=\"blind\">선택됨</span></a>\n",
      "<a class=\"btn_turnoff\" href=\"#\" onclick=\"__atcmpCR(event, this, 'plus.unuse', '','','');\">OFF</a>\n",
      "</span>\n",
      "<div class=\"layer_plus _plusAlert\">\n",
      "<strong class=\"tit\">컨텍스트 자동완성</strong>\n",
      "<div class=\"_logout\" style=\"display:block;\">\n",
      "<p class=\"dsc\"><em class=\"txt\">동일한 시간대/연령/남녀별</em> 사용자 그룹의<br/>관심사에 맞춰 자동완성을 제공합니다.</p>\n",
      "<div class=\"btn_area\">\n",
      "<a class=\"btn btn_login\" href=\"https://nid.naver.com/nidlogin.login\" onclick=\"__atcmpCR(event, this, 'plus.login', '','','');\">로그인</a>\n",
      "<a class=\"btn btn_view\" href=\"https://help.naver.com/support/alias/search/word/word_16.naver\" onclick=\"__atcmpCR(event, this, 'plus.detail', '','','');\" target=\"_blank\">자세히</a>\n",
      "</div>\n",
      "</div>\n",
      "<div class=\"_login\" style=\"display:none;\">\n",
      "<p class=\"dsc\">ON/OFF설정은<br/>해당 기기(브라우저)에 저장됩니다.</p>\n",
      "<div class=\"btn_area\">\n",
      "<a class=\"btn btn_view\" href=\"https://help.naver.com/support/contents/contents.nhn?serviceNo=606&amp;categoryNo=16659\" onclick=\"__atcmpCR(event, this, 'plus.detail', '','','');\" target=\"_blank\">자세히</a>\n",
      "</div>\n",
      "</div>\n",
      "<button class=\"btn_close _close\" onclick=\"__atcmpCR(event, this, 'plus.close', '','','');\" type=\"button\"><i class=\"spat ico_close\">컨텍스트 자동완성 레이어 닫기</i></button>\n",
      "</div>\n",
      "</div>\n",
      "<!-- //컨텍스트 자동완성 플러스 -->\n",
      "<p class=\"func _atcmpBtnGroup\"><span class=\"fl\"><a class=\"_help\" href=\"https://help.naver.com/support/service/main.nhn?serviceNo=606&amp;categoryNo=1987\" onclick=\"__atcmpCR(event, this, 'help', '','','');\" target=\"_blank\">도움말</a><span class=\"atcmp_bar\"></span><a href=\"https://help.naver.com/support/contents/contents.nhn?serviceNo=605&amp;categoryNo=18215\" onclick=\"__atcmpCR(event, this, 'report', '','','');\" target=\"_blank\">신고</a></span><span><em><a class=\"hisoff\" href=\"javascript:;\">검색어저장 켜기</a><span class=\"atcmp_bar\"></span></em><a class=\"funoff\" href=\"javascript:;\">자동완성 끄기</a></span></p>\n",
      "<span class=\"atcmp_helper _help_tooltip1\">기능을 다시 켤 때는 <em class=\"ico_search spat\">자동완성 펼치기</em>을 클릭하세요</span>\n",
      "</div>\n",
      "<div class=\"api_atcmp_wrap _atcmpIng\" style=\"display:none;\">\n",
      "<div class=\"words\"><p class=\"info_words\">현재 자동완성 기능을 사용하고 계십니다.</p></div>\n",
      "<p class=\"func _atcmpBtnGroup\"><span class=\"fl\"><a class=\"_help\" href=\"https://help.naver.com/support/service/main.nhn?serviceNo=606&amp;categoryNo=1987\" onclick=\"__atcmpCR(event, this, 'help', '','','');\" target=\"_blank\">도움말</a><span class=\"atcmp_bar\"></span><a href=\"https://help.naver.com/support/contents/contents.nhn?serviceNo=605&amp;categoryNo=18215\" onclick=\"__atcmpCR(event, this, 'report', '','','');\" target=\"_blank\">신고</a></span><span><em><a class=\"hisoff\" href=\"javascript:;\">검색어저장 켜기</a><span class=\"atcmp_bar\"></span></em><a class=\"funoff\" href=\"javascript:;\">자동완성 끄기</a></span></p>\n",
      "<span class=\"atcmp_helper _help_tooltip2\">기능을 다시 켤 때는 <em class=\"ico_search spat\">자동완성 펼치기</em>을 클릭하세요</span>\n",
      "</div>\n",
      "<div class=\"api_atcmp_wrap _atcmpStart\" style=\"display:none;\">\n",
      "<div class=\"words\"><p class=\"info_words\">자동완성 기능이 활성화되었습니다.</p></div>\n",
      "<p class=\"func _atcmpBtnGroup\"><span class=\"fl\"><a class=\"_help\" href=\"https://help.naver.com/support/service/main.nhn?serviceNo=606&amp;categoryNo=1987\" onclick=\"__atcmpCR(event, this, 'help', '','','');\" target=\"_blank\">도움말</a><span class=\"atcmp_bar\"></span><a href=\"https://help.naver.com/support/contents/contents.nhn?serviceNo=605&amp;categoryNo=18215\" onclick=\"__atcmpCR(event, this, 'report', '','','');\" target=\"_blank\">신고</a></span><span><em><a class=\"hisoff\" href=\"javascript:;\">검색어저장 켜기</a><span class=\"atcmp_bar\"></span></em><a class=\"funoff\" href=\"javascript:;\">자동완성 끄기</a></span></p>\n",
      "<span class=\"atcmp_helper _help_tooltip3\">기능을 다시 켤 때는 <em class=\"ico_search spat\">자동완성 펼치기</em>을 클릭하세요</span>\n",
      "</div>\n",
      "<div class=\"api_atcmp_wrap _atcmpOff\" style=\"display:none;\">\n",
      "<div class=\"words\"><p class=\"info_words\">자동완성 기능이 꺼져 있습니다.</p></div>\n",
      "<p class=\"func _atcmpBtnGroup\"><span class=\"fl\"><a class=\"_help\" href=\"https://help.naver.com/support/service/main.nhn?serviceNo=606&amp;categoryNo=1987\" onclick=\"__atcmpCR(event, this, 'help', '','','');\" target=\"_blank\">도움말</a><span class=\"atcmp_bar\"></span><a href=\"https://help.naver.com/support/contents/contents.nhn?serviceNo=605&amp;categoryNo=18215\" onclick=\"__atcmpCR(event, this, 'report', '','','');\" target=\"_blank\">신고</a></span><span><em><a class=\"hisoff\" href=\"javascript:;\">검색어저장 켜기</a><span class=\"atcmp_bar\"></span></em><a class=\"funoff\" href=\"javascript:;\">자동완성 켜기</a></span></p>\n",
      "</div>\n",
      "<!-- 최근검색어 & 내검색어 -->\n",
      "<div class=\"api_atcmp_wrap _keywords\" style=\"display:none;\">\n",
      "<div class=\"my_words\">\n",
      "<div class=\"lst_tab\">\n",
      "<ul><li class=\"on _recentTab\"><a href=\"javascript:;\">최근검색어</a></li><li class=\"_myTab\"><a href=\"javascript:;\">내 검색어</a></li></ul>\n",
      "</div>\n",
      "<div class=\"words _recent\">\n",
      "<ul><li data-rank=\"@rank@\"><a class=\"t@my@ _star _myBtn\" href=\"javascript:;\" title=\"내 검색어 등록\"><em class=\"spat\">내 검색어 등록</em></a><a class=\"keyword\" href=\"javascript:;\">@txt@</a><em class=\"keyword_date\">@date@.</em><a class=\"btn_delete spat _del\" href=\"javascript:;\" title=\"검색어삭제\">삭제</a><span style=\"display:none\">@in_txt@</span></li></ul>\n",
      "<div class=\"info_words _recentNone\" style=\"display:none\">최근검색어 내역이 없습니다.</div>\n",
      "<p class=\"info_words _offMsg\" style=\"display:none\">검색어 저장 기능이 꺼져 있습니다.</p>\n",
      "</div>\n",
      "<div class=\"words _my\" style=\"display:none\">\n",
      "<ul><li data-rank=\"@rank@\"><a class=\"ton _star _myBtn\" href=\"javascript:;\" title=\"내 검색어 해제\"><em class=\"spat\">내 검색어 해제</em></a><a class=\"keyword\" href=\"javascript:;\">@txt@</a></li></ul>\n",
      "<div class=\"info_words _myNone\" style=\"display:none\">설정된 내 검색어가 없습니다.<br>최근검색어에서 <span class=\"star spat\">내 검색어 등록</span>를 선택하여 자주 찾는 검색어를<br>내 검색어로 저장해 보세요.</br></br></div>\n",
      "<p class=\"info_words _offMsg\" style=\"display:none\">검색어 저장 기능이 꺼져 있습니다.</p>\n",
      "</div>\n",
      "<p class=\"noti _noti\" style=\"display:none\"><em class=\"ico_noti spat\"><span class=\"blind\">알림</span></em>공용 PC에서는 개인정보 보호를 위하여 반드시 로그아웃을 해 주세요.</p>\n",
      "<p class=\"func _recentBtnGroup\"><span class=\"fl\"><a class=\"_delMode\" href=\"javascript:;\">기록 삭제</a></span><span><a class=\"_keywordOff\" href=\"javascript:;\">검색어저장 끄기</a><span class=\"atcmp_bar\"></span><a class=\"_acOff\" href=\"javascript:;\">자동완성 끄기</a></span></p>\n",
      "<p class=\"func _recentDelBtnGroup\" style=\"display:none\"><span class=\"fl\"><a class=\"_delAll\" href=\"javascript:;\" title=\"최근 검색어 기록을 모두 삭제합니다.\">기록 전체 삭제</a></span><span><a class=\"_delDone\" href=\"javascript:;\">완료</a></span></p>\n",
      "<p class=\"func _myBtnGroup\" style=\"display:none\"><span class=\"fl\"><a class=\"_delAll\" href=\"javascript:;\" title=\"설정된 내 검색어를 모두 삭제합니다.\">기록 전체 삭제</a></span><span><a class=\"_keywordOff\" href=\"javascript:;\">검색어저장 끄기</a><span class=\"atcmp_bar\"></span><a class=\"_acOff\" href=\"javascript:;\">자동완성 끄기</a></span></p>\n",
      "<span class=\"atcmp_helper _help2\">기능을 다시 켤 때는 <em class=\"ico_search spat\">자동완성 펼치기</em>을 클릭하세요</span>\n",
      "<div class=\"ly_noti _maxLayer\" style=\"display:none\">\n",
      "<span class=\"mask\"></span>\n",
      "<p><span class=\"ico_alert spat\"></span>내 검색어는 <em>최대 10</em>개 까지 저장할 수 있습니다.<br/>추가하시려면 기존 내 검색어를 지워주세요. <a class=\"btn_close _close\" href=\"javascript:;\"><i class=\"spat ico_close\">닫기</i></a></p>\n",
      "</div>\n",
      "</div>\n",
      "</div>\n",
      "<!-- 자동완성 안내문구 (선거) -->\n",
      "<div class=\"api_atcmp_wrap _alert\" style=\"display:none;\">\n",
      "<div class=\"api_atcmp_alert\">\n",
      "<span class=\"ico_alert spat\"></span>\n",
      "<p class=\"dsc_txt\"><em class=\"_passage\"></em><br/>\n",
      "<a class=\"_link\" href=\"\" onclick=\"clickcr(this,'sug.vote','','',event);\" target=\"_blank\">자세히보기</a></p>\n",
      "</div>\n",
      "</div>\n",
      "<!-- //자동완성 안내문구 (선거) -->\n",
      "<!-- [D] IE 계열, wmode=\"window\" flash와 겹치지 않기 위함 -->\n",
      "<iframe border=\"0\" hspace=\"0\" style=\"display:none;display:block\\9;display:block\\0/;position:absolute;left:0;top:0;width:100%;height:100%;z-index:-1;\" title=\"빈 프레임\" vspace=\"0\"></iframe>\n",
      "</div>\n",
      "<!--자동완성 레이어 -->\n",
      "<!--자동완성 템플릿 추가-->\n",
      "<!-- 신규 공통 템플릿 -->\n",
      "<script id=\"_atcmp_answer_0\" type=\"text/template\">\n",
      "    <div class=\"add_opt _item\" data-sm=\"@2@\" data-keyword=\"@1@\" data-template_id=\"@0@\" data-acir=\"@rank@\" data-os=\"@8@\" data-bid=\"@9@\" data-eid=\"@3@\" data-pkid=\"@10@\" data-mra=\"@11@\" >\n",
      "        <a href=\"#\" class=\"opt_dsc\">\n",
      "            <span class=\"dsc_thmb\" style=\"@style7@\">@image7@</span>\n",
      "            <span class=\"dsc_group\">\n",
      "                <span class=\"dsc_cate\">@6@</span>\n",
      "                <strong class=\"dsc_word\">@1@</strong>\n",
      "                <span class=\"dsc_sub\" style=\"@style12@\">@12@</span>\n",
      "            </span>\n",
      "        </a>\n",
      "    </div>\n",
      "</script>\n",
      "<!-- 로또당첨번호 -->\n",
      "<script id=\"_atcmp_answer_3\" type=\"text/template\">\n",
      "    <div class=\"add_opt _item\" data-sm=\"@2@\" data-keyword=\"@1@\" data-template_id=\"@0@\" data-acir=\"@rank@\">\n",
      "        <a href=\"javascript:;\" class=\"opt_lotto\">\n",
      "            <span class=\"lotto_num_area\">\n",
      "                <span class=\"spat lotto_num lotto_num@6@\">@6@</span><span class=\"spat lotto_num lotto_num@7@\">@7@</span><span class=\"spat lotto_num lotto_num@8@\">@8@</span><span class=\"spat lotto_num lotto_num@9@\">@9@</span><span class=\"spat lotto_num lotto_num@10@\">@10@</span><span class=\"spat lotto_num lotto_num@11@\">@11@</span><span class=\"spat lotto_bonus\">+</span><span class=\"spat lotto_num lotto_num@12@\">@12@</span>\n",
      "            </span>\n",
      "            <span class=\"lotto_sub\">@5@회차<em class=\"lotto_date\">(@13@.)</em></span>\n",
      "        </a>\n",
      "    </div>\n",
      "</script>\n",
      "<!-- 환율:엔화환율 -->\n",
      "<script id=\"_atcmp_answer_9\" type=\"text/template\">\n",
      "    <div class=\"add_opt _item\" data-sm=\"@2@\" data-keyword=\"@1@\" data-template_id=\"@0@\" data-acir=\"@rank@\">\n",
      "        <a href=\"javascript:;\" class=\"opt_exchange opt_exchange_@11@\">\n",
      "            <span class=\"opt_nation\">\n",
      "                <img src=\"https://ssl.pstatic.net/sstatic/keypage/lifesrch/exchange/ico_@12@1.gif\" alt=\"\" />\n",
      "                @14@<span class=\"tx_nation\">@money@</span>\n",
      "            </span>\n",
      "            <span class=\"opt_amount\">\n",
      "                <span class=\"amount\"><strong>@6@</strong>원</span><span class=\"changes\"><i class=\"bullet\">@10@</i> @8@ (@9@%)<span class=\"opt_time\"><time datetime=\"@fulldate@\">@7@</time></span></span>\n",
      "            </span>\n",
      "        </a>\n",
      "    </div>\n",
      "</script>\n",
      "<!-- 해외날씨 : 파리날씨 -->\n",
      "<script id=\"_atcmp_answer_10\" type=\"text/template\">\n",
      "    <div class=\"add_opt _item\" data-sm=\"@2@\" data-keyword=\"@1@\" data-template_id=\"@0@\" data-acir=\"@rank@\">\n",
      "        <a href=\"javascript:;\" class=\"opt_weather\">\n",
      "            <span class=\"opt_weather_thmb\">\n",
      "                <img src=\"https://ssl.pstatic.net/sstatic/search/pc/img/wt_@6@.png\" width=\"56\" height=\"56\" alt=\"@7@\">\n",
      "            </span>\n",
      "            <span class=\"opt_weather_group\">\n",
      "                <span class=\"opt_weather_state\">@7@</span>\n",
      "                <span class=\"opt_weather_state\">기온 <em class=\"opt_deg\">@8@</em><span class=\"opt_unit\">℃</span></span>\n",
      "                <span class=\"opt_weather_state\">@9@ <em>@10@</em><span class=\"opt_unit\">@11@</span></span>\n",
      "\t\t\t\t<span class=\"opt_weather_state\"><span class=\"opt_time\"><time datetime=\"@fulldate@\">@5@</time></span></span>\n",
      "            </span>\n",
      "        </a>\n",
      "    </div>\n",
      "</script>\n",
      "<!-- 국내날씨 : 서울날씨 -->\n",
      "<script id=\"_atcmp_answer_11\" type=\"text/template\">\n",
      "    <div class=\"add_opt _item\" data-sm=\"@2@\" data-keyword=\"@1@\" data-template_id=\"@0@\" data-acir=\"@rank@\">\n",
      "        <a href=\"javascript:;\" class=\"opt_weather\">\n",
      "            <span class=\"opt_weather_thmb\">\n",
      "                <img src=\"https://ssl.pstatic.net/sstatic/search/pc/img/wt_@6@.png\" width=\"56\" height=\"56\" alt=\"@7@\">\n",
      "            </span>\n",
      "            <span class=\"opt_weather_group\">\n",
      "                <span class=\"opt_weather_state\">@7@</span>\n",
      "                <span class=\"opt_weather_state\">기온 <em class=\"opt_deg\">@8@</em><span class=\"opt_unit\">℃</span></span>\n",
      "                <span class=\"opt_weather_state\">@9@ <em>@10@</em><span class=\"opt_unit\">@11@</span></span>\n",
      "\t\t\t\t<span class=\"opt_weather_state\"><span class=\"opt_time\"><time datetime=\"@fulldate@\">@5@</time></span></span>\n",
      "            </span>\n",
      "        </a>\n",
      "    </div>\n",
      "</script>\n",
      "<!-- 바로가기 -->\n",
      "<script id=\"_atcmp_answer_17\" type=\"text/template\">\n",
      "    <div class=\"add_opt _item\" data-sm=\"@2@\" data-keyword=\"@1@\" data-template_id=\"@0@\" data-acir=\"@rank@\">\n",
      "        <a href=\"@5@\" target=\"_blank\" class=\"opt_shortcut\">\n",
      "            <span class=\"opt_url\">@display_link@</span>\n",
      "            <span class=\"opt_txt\">사이트로 바로 이동</span>\n",
      "        </a>\n",
      "    </div>\n",
      "</script>\n",
      "<!-- 해외날씨 : 국내날씨 형태로 제공하기 위한 새로운 템플릿(10번으로 ID변경됨) -->\n",
      "<script id=\"_atcmp_answer_20\" type=\"text/template\"></script>\n",
      "<!-- 문맥검색 -->\n",
      "<script id=\"_atcmp_intend\" type=\"text/template\">\n",
      "    <div class=\"add_opt type_context _item\" data-sm=\"asct\" data-keyword=\"@transquery@\" data-acir=\"@rank@\">\n",
      "        <a href=\"#\" class=\"opt_context\">\n",
      "            <span class=\"opt_tit\"><strong>@query@</strong></span>\n",
      "            <span class=\"opt_sub\">@intend@</span>\n",
      "        </a>\n",
      "    </div>\n",
      "</script>\n",
      "<!-- 결과 키워드 템플릿 (좌측 결과목록 템플릿:정답형 템플릿 아님) -->\n",
      "<script id=\"_atcmp_result_item_tpl\" type=\"text/template\">\n",
      "    <li class=\"_item @url_class@\" data-acr=\"@rank@\">\n",
      "        <a href=\"#\" class=\"atcmp_keyword\" onclick=\"return false;\" title=\"\"><span class=\"atcmp_keyword_txt\">@txt@<span class=\"spat ic_expand\"></span></span></a>\n",
      "        <a href=\"@url@\" target=\"_blank\" class=\"mquick\">바로이동</a>\n",
      "        <span style=\"display:none\">@in_txt@</span>\n",
      "    </li>\n",
      "</script>\n",
      "<!-- 일반 자동완성 하이라이팅 템플릿 -->\n",
      "<script id=\"_atcmp_keyword_highlight_tpl\" type=\"text/template\">\n",
      "    @mismatch_before@<strong>@match@</strong>@mismatch_after@\n",
      "</script>\n",
      "<!-- 부분 자동완성 하이라이팅 템플릿 -->\n",
      "<script id=\"_atcmp_keyword_partial_match_highlight_tpl\" type=\"text/template\">\n",
      "    @mismatch_before@<strong>@match@</strong>@mismatch_after@\n",
      "</script>\n",
      "<!--자동완성 템플릿 추가-->\n",
      "</div>]\n"
     ]
    }
   ],
   "source": [
    "list1 = bsObj.find_all('div', {\"class\" :\"search\", \"id\": \"search\"})\n",
    "print(list1)\n"
   ]
  },
  {
   "cell_type": "code",
   "execution_count": null,
   "metadata": {},
   "outputs": [],
   "source": []
  }
 ],
 "metadata": {
  "kernelspec": {
   "display_name": "Python 3",
   "language": "python",
   "name": "python3"
  },
  "language_info": {
   "codemirror_mode": {
    "name": "ipython",
    "version": 3
   },
   "file_extension": ".py",
   "mimetype": "text/x-python",
   "name": "python",
   "nbconvert_exporter": "python",
   "pygments_lexer": "ipython3",
   "version": "3.7.2"
  }
 },
 "nbformat": 4,
 "nbformat_minor": 2
}
