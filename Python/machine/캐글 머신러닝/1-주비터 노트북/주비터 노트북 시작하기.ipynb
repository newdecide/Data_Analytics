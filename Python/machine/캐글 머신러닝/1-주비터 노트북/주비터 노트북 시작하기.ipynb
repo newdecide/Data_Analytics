{
 "cells": [
  {
   "cell_type": "markdown",
   "metadata": {},
   "source": [
    "# 주피터 노트북 튜토리얼\n",
    "## 1. 헬로 주피터 노트북 출력하기\n",
    "\n",
    "안녕하세요."
   ]
  },
  {
   "cell_type": "code",
   "execution_count": 2,
   "metadata": {},
   "outputs": [
    {
     "name": "stdout",
     "output_type": "stream",
     "text": [
      "헬로 주피터 노트북\n"
     ]
    }
   ],
   "source": [
    "print(\"헬로 주피터 노트북\")"
   ]
  },
  {
   "cell_type": "code",
   "execution_count": 3,
   "metadata": {},
   "outputs": [
    {
     "name": "stdout",
     "output_type": "stream",
     "text": [
      "헬로 주피터 노트북\n"
     ]
    }
   ],
   "source": [
    "print(\"헬로 주피터 노트북\")"
   ]
  },
  {
   "cell_type": "markdown",
   "metadata": {},
   "source": [
    "## 2. 목록 만들기\n",
    "\n",
    "- 리스트1\n",
    "- 리스트2\n",
    "- 리스트3\n",
    "\n",
    "## 3. 그림 가져오기\n",
    "\n",
    "<img src=\"https://cdn-images-1.medium.com/max/1200/0*7pYNAASjwKSNuhQM.\"> "
   ]
  },
  {
   "cell_type": "code",
   "execution_count": null,
   "metadata": {},
   "outputs": [],
   "source": []
  }
 ],
 "metadata": {
  "kernelspec": {
   "display_name": "Python 3",
   "language": "python",
   "name": "python3"
  },
  "language_info": {
   "codemirror_mode": {
    "name": "ipython",
    "version": 3
   },
   "file_extension": ".py",
   "mimetype": "text/x-python",
   "name": "python",
   "nbconvert_exporter": "python",
   "pygments_lexer": "ipython3",
   "version": "3.7.2"
  }
 },
 "nbformat": 4,
 "nbformat_minor": 2
}
