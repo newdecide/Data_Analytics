{
 "cells": [
  {
   "cell_type": "code",
   "execution_count": 2,
   "metadata": {},
   "outputs": [
    {
     "ename": "SyntaxError",
     "evalue": "invalid syntax (<ipython-input-2-b30dcb30e86c>, line 14)",
     "output_type": "error",
     "traceback": [
      "\u001b[0;36m  File \u001b[0;32m\"<ipython-input-2-b30dcb30e86c>\"\u001b[0;36m, line \u001b[0;32m14\u001b[0m\n\u001b[0;31m    import\u001b[0m\n\u001b[0m           ^\u001b[0m\n\u001b[0;31mSyntaxError\u001b[0m\u001b[0;31m:\u001b[0m invalid syntax\n"
     ]
    }
   ],
   "source": [
    "#모듈(조립PC, 레고블록, 벽돌, 자동차 부품 등)\n",
    "#대상의 부분 혹은 조작 \n",
    "#작은 프로그램 조각들\n",
    "#모듈들을 모아서 하나의 큰 프로그램을 개발\n",
    "#Built-in Modul => 설치된 것.\n",
    "\n",
    "#import 호출하라 뜻.\n",
    "#패키지 from ~(이것)\n",
    "#같은 폴더내 .py가 있을때 사용가능\n",
    "\n",
    "#Namespace 모듈 안에는 함수와 클래스 \n",
    "#as(Alias)\n",
    "#\n",
    "\n",
    "#Built-in Modules Examples\n"
   ]
  },
  {
   "cell_type": "code",
   "execution_count": 3,
   "metadata": {},
   "outputs": [],
   "source": [
    "#Package\n",
    "#대형 프로젝트를 만드는 코드의 묶음을 말함.\n",
    "\n",
    "#가상환경(Virtual Environment)\n",
    "#필요한 패키지만 설치하는 환경.\n",
    "#패키지 관리도구를 사용해야함. \n",
    "\n",
    "#virtualenv, conda가 있음. \n"
   ]
  },
  {
   "cell_type": "code",
   "execution_count": 4,
   "metadata": {},
   "outputs": [],
   "source": [
    "#Conda 가상환경\n",
    "\n",
    "#실행입력 및 설치가 된 것을 확인 할 수 있음.\n",
    "#conda create -n myproject python=3.5 \n",
    "#which python = \n",
    "#(win) activate my_project\n",
    "#(mac) souce activate my_project\n",
    "\n",
    "#패키지 설치\n",
    "#conda install <패키지명>\n",
    "#conda install matplotlib\n",
    "\n",
    "#(win)vc컴파일러가 들어간다는 것을 알 수 있음\n"
   ]
  },
  {
   "cell_type": "code",
   "execution_count": null,
   "metadata": {},
   "outputs": [],
   "source": []
  }
 ],
 "metadata": {
  "kernelspec": {
   "display_name": "Python 3",
   "language": "python",
   "name": "python3"
  },
  "language_info": {
   "codemirror_mode": {
    "name": "ipython",
    "version": 3
   },
   "file_extension": ".py",
   "mimetype": "text/x-python",
   "name": "python",
   "nbconvert_exporter": "python",
   "pygments_lexer": "ipython3",
   "version": "3.5.2"
  }
 },
 "nbformat": 4,
 "nbformat_minor": 2
}
