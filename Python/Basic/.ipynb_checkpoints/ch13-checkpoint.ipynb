{
 "cells": [
  {
   "cell_type": "code",
   "execution_count": null,
   "metadata": {},
   "outputs": [],
   "source": [
    "#아톰 텍스트 에디터 tablr(엑셀 형식) 패키지.\n",
    "#CSV파일 사용하기. \n",
    "\n",
    "#logging\n",
    "\n",
    "#실제 프로그램을 실행할 땐 여러 설정이 필요. \n",
    "#데이터 파일 위치, 파일 저장 장소, Operation Type 등\n",
    "\n",
    "#Debug, service\n",
    "#Configparser - 파일에\n",
    "#Argparser - 실행\n",
    "\n",
    "#딕트 타입 해결\n",
    "#Config file\n",
    "#볼 마우스 등\n",
    "#ini ifg \n",
    "\n",
    "#Argparser\n",
    "#짧은 이름, 긴이름, 표시명, 도움, 타입\n",
    "\n"
   ]
  }
 ],
 "metadata": {
  "kernelspec": {
   "display_name": "Python 3",
   "language": "python",
   "name": "python3"
  },
  "language_info": {
   "codemirror_mode": {
    "name": "ipython",
    "version": 3
   },
   "file_extension": ".py",
   "mimetype": "text/x-python",
   "name": "python",
   "nbconvert_exporter": "python",
   "pygments_lexer": "ipython3",
   "version": "3.5.2"
  }
 },
 "nbformat": 4,
 "nbformat_minor": 2
}
