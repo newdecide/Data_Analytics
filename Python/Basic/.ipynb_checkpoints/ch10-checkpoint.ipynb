{
 "cells": [
  {
   "cell_type": "code",
   "execution_count": 8,
   "metadata": {},
   "outputs": [],
   "source": [
    "#객체 지향\n",
    "#클래스와 객체를 이해\n",
    "#수강신청에 대한 내용과 과정을 이해해보자. 로그인, 등록을 해보는 것 등.\n",
    "#하나의 코드로 바꾸어서 행동을 바꾸는 것. \n",
    "#주체(교수,학생, 관리자), 행동(수강신청, 과목), 데이터(수강과목, 강의과목)\n",
    "#객체: 실생활에서 일종의 물건, 속성(변수)과 행동(함수)을 가짐\n",
    "\n",
    "#인공지능 축구 프로그램 작성\n",
    "#객체 종류: 팀, 선수, 심판, 공\n",
    "#속성: 선수: 선수이름, 포지션, 소속팀\n",
    "#      팀: 팀이름, 팀연고지, 팀소속 선수\n",
    "#행동: 선수 - 공을 차다, 패스하다.\n",
    "\n",
    "#클래스(팀) 구현체:인스턴스(객체)\n",
    "#플라톤 이데아 개념과 동일함. \n",
    "\n",
    "#예약어, 이름, 상속받는 객체명\n",
    "#snake_case: 띄어스기 \"_\" / camelcase: 띄어쓰기 부분에 대문자\n",
    "#__ 특수한 예약 함수나 변수에 사용\n",
    "#self(자기 자신에 대한 것)\n",
    "\n",
    "class SoccerPlayer(object):\n",
    "    def __init__(self, name, position, back_number):\n",
    "        self.name = name\n",
    "        self.position = position\n",
    "        self.back_number = back_number\n",
    "        \n",
    "    def change_back_number(self, new_number):\n",
    "        print(\"선수의 등번호를 변경합니다. : From %d to %d\" %{self.back_number, new_number})\n",
    "        self.back_number = back_number\n",
    "        \n",
    "    def __str__(self):\n",
    "        return \"Hello, My name is %s I play in %s in center\" %{self.name, self.position}\n",
    "    \n"
   ]
  },
  {
   "cell_type": "code",
   "execution_count": 7,
   "metadata": {},
   "outputs": [
    {
     "ename": "TypeError",
     "evalue": "not enough arguments for format string",
     "output_type": "error",
     "traceback": [
      "\u001b[0;31m---------------------------------------------------------------------------\u001b[0m",
      "\u001b[0;31mTypeError\u001b[0m                                 Traceback (most recent call last)",
      "\u001b[0;32m<ipython-input-7-fcec8336db8d>\u001b[0m in \u001b[0;36m<module>\u001b[0;34m\u001b[0m\n\u001b[1;32m      1\u001b[0m \u001b[0mjinhyun\u001b[0m \u001b[0;34m=\u001b[0m \u001b[0mSoccerPlayer\u001b[0m\u001b[0;34m(\u001b[0m\u001b[0;34m\"Jinhyun\"\u001b[0m\u001b[0;34m,\u001b[0m \u001b[0;34m\"MF\"\u001b[0m\u001b[0;34m,\u001b[0m \u001b[0;36m10\u001b[0m\u001b[0;34m)\u001b[0m\u001b[0;34m\u001b[0m\u001b[0m\n\u001b[0;32m----> 2\u001b[0;31m \u001b[0mprint\u001b[0m\u001b[0;34m(\u001b[0m\u001b[0mjinhyun\u001b[0m\u001b[0;34m)\u001b[0m\u001b[0;34m\u001b[0m\u001b[0m\n\u001b[0m",
      "\u001b[0;32m<ipython-input-6-77454e931490>\u001b[0m in \u001b[0;36m__str__\u001b[0;34m(self)\u001b[0m\n\u001b[1;32m     31\u001b[0m \u001b[0;34m\u001b[0m\u001b[0m\n\u001b[1;32m     32\u001b[0m     \u001b[0;32mdef\u001b[0m \u001b[0m__str__\u001b[0m\u001b[0;34m(\u001b[0m\u001b[0mself\u001b[0m\u001b[0;34m)\u001b[0m\u001b[0;34m:\u001b[0m\u001b[0;34m\u001b[0m\u001b[0m\n\u001b[0;32m---> 33\u001b[0;31m         \u001b[0;32mreturn\u001b[0m \u001b[0;34m\"Hello, My name is %s. I play in %s in center\"\u001b[0m \u001b[0;34m%\u001b[0m\u001b[0;34m{\u001b[0m\u001b[0mself\u001b[0m\u001b[0;34m.\u001b[0m\u001b[0mname\u001b[0m\u001b[0;34m,\u001b[0m \u001b[0mself\u001b[0m\u001b[0;34m.\u001b[0m\u001b[0mposition\u001b[0m\u001b[0;34m}\u001b[0m\u001b[0;34m\u001b[0m\u001b[0m\n\u001b[0m\u001b[1;32m     34\u001b[0m \u001b[0;34m\u001b[0m\u001b[0m\n",
      "\u001b[0;31mTypeError\u001b[0m: not enough arguments for format string"
     ]
    }
   ],
   "source": [
    "jinhyun = SoccerPlayer(\"Jinhyun\", \"MF\", 10)\n",
    "print(jinhyun)"
   ]
  },
  {
   "cell_type": "code",
   "execution_count": null,
   "metadata": {},
   "outputs": [],
   "source": []
  }
 ],
 "metadata": {
  "kernelspec": {
   "display_name": "Python 3",
   "language": "python",
   "name": "python3"
  },
  "language_info": {
   "codemirror_mode": {
    "name": "ipython",
    "version": 3
   },
   "file_extension": ".py",
   "mimetype": "text/x-python",
   "name": "python",
   "nbconvert_exporter": "python",
   "pygments_lexer": "ipython3",
   "version": "3.5.2"
  }
 },
 "nbformat": 4,
 "nbformat_minor": 2
}
