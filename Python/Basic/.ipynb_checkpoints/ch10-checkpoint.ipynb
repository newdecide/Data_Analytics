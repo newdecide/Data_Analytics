{
 "cells": [
  {
   "cell_type": "code",
   "execution_count": 8,
   "metadata": {},
   "outputs": [],
   "source": [
    "#객체 지향\n",
    "#클래스와 객체를 이해\n",
    "#수강신청에 대한 내용과 과정을 이해해보자. 로그인, 등록을 해보는 것 등.\n",
    "#하나의 코드로 바꾸어서 행동을 바꾸는 것. \n",
    "#주체(교수,학생, 관리자), 행동(수강신청, 과목), 데이터(수강과목, 강의과목)\n",
    "#객체: 실생활에서 일종의 물건, 속성(변수)과 행동(함수)을 가짐\n",
    "\n",
    "#인공지능 축구 프로그램 작성\n",
    "#객체 종류: 팀, 선수, 심판, 공\n",
    "#속성: 선수: 선수이름, 포지션, 소속팀\n",
    "#      팀: 팀이름, 팀연고지, 팀소속 선수\n",
    "#행동: 선수 - 공을 차다, 패스하다.\n",
    "\n",
    "#클래스(팀) 구현체:인스턴스(객체)\n",
    "#플라톤 이데아 개념과 동일함. \n",
    "\n",
    "#예약어, 이름, 상속받는 객체명\n",
    "#snake_case: 띄어스기 \"_\" / camelcase: 띄어쓰기 부분에 대문자\n",
    "#__ 특수한 예약 함수나 변수에 사용\n",
    "#self(자기 자신에 대한 것)\n",
    "\n",
    "class SoccerPlayer(object):\n",
    "    def __init__(self, name, position, back_number):\n",
    "        self.name = name\n",
    "        self.position = position\n",
    "        self.back_number = back_number\n",
    "        \n",
    "    def change_back_number(self, new_number):\n",
    "        print(\"선수의 등번호를 변경합니다. : From %d to %d\" %{self.back_number, new_number})\n",
    "        self.back_number = back_number\n",
    "        \n",
    "    def __str__(self):\n",
    "        return \"Hello, My name is %s I play in %s in center\" %{self.name, self.position}\n",
    "    \n"
   ]
  },
  {
   "cell_type": "code",
   "execution_count": 1,
   "metadata": {},
   "outputs": [
    {
     "ename": "NameError",
     "evalue": "name 'object0' is not defined",
     "output_type": "error",
     "traceback": [
      "\u001b[0;31m---------------------------------------------------------------------------\u001b[0m",
      "\u001b[0;31mNameError\u001b[0m                                 Traceback (most recent call last)",
      "\u001b[0;32m<ipython-input-1-ea981cfb81a4>\u001b[0m in \u001b[0;36m<module>\u001b[0;34m\u001b[0m\n\u001b[0;32m----> 1\u001b[0;31m \u001b[0;32mclass\u001b[0m \u001b[0mNote\u001b[0m\u001b[0;34m(\u001b[0m\u001b[0mobject0\u001b[0m\u001b[0;34m)\u001b[0m\u001b[0;34m:\u001b[0m\u001b[0;34m\u001b[0m\u001b[0m\n\u001b[0m\u001b[1;32m      2\u001b[0m     \u001b[0;32mdef\u001b[0m \u001b[0m__init__\u001b[0m\u001b[0;34m(\u001b[0m\u001b[0mself\u001b[0m\u001b[0;34m,\u001b[0m \u001b[0mcontent\u001b[0m \u001b[0;34m=\u001b[0m \u001b[0;32mNone\u001b[0m\u001b[0;34m)\u001b[0m\u001b[0;34m:\u001b[0m\u001b[0;34m\u001b[0m\u001b[0m\n\u001b[1;32m      3\u001b[0m         \u001b[0mself\u001b[0m\u001b[0;34m.\u001b[0m\u001b[0mcontent\u001b[0m \u001b[0;34m=\u001b[0m \u001b[0mcontent\u001b[0m\u001b[0;34m\u001b[0m\u001b[0m\n\u001b[1;32m      4\u001b[0m     \u001b[0;32mdef\u001b[0m \u001b[0mwrite_content\u001b[0m\u001b[0;34m(\u001b[0m\u001b[0mself\u001b[0m\u001b[0;34m,\u001b[0m \u001b[0mcontent\u001b[0m\u001b[0;34m)\u001b[0m\u001b[0;34m:\u001b[0m\u001b[0;34m\u001b[0m\u001b[0m\n\u001b[1;32m      5\u001b[0m         \u001b[0mself\u001b[0m\u001b[0;34m.\u001b[0m\u001b[0mcontent\u001b[0m \u001b[0;34m=\u001b[0m \u001b[0mcontent\u001b[0m\u001b[0;34m\u001b[0m\u001b[0m\n",
      "\u001b[0;31mNameError\u001b[0m: name 'object0' is not defined"
     ]
    }
   ],
   "source": [
    "class Note(object0):\n",
    "    def __init__(self, content = None):\n",
    "        self.content = content\n",
    "    def write_content(self, content):\n",
    "        self.content = content\n",
    "    \n",
    "   \n",
    "\n",
    "    "
   ]
  },
  {
   "cell_type": "code",
   "execution_count": 3,
   "metadata": {},
   "outputs": [
    {
     "ename": "IndentationError",
     "evalue": "expected an indented block (<ipython-input-3-be785d40c590>, line 3)",
     "output_type": "error",
     "traceback": [
      "\u001b[0;36m  File \u001b[0;32m\"<ipython-input-3-be785d40c590>\"\u001b[0;36m, line \u001b[0;32m3\u001b[0m\n\u001b[0;31m    self.name = name\u001b[0m\n\u001b[0m       ^\u001b[0m\n\u001b[0;31mIndentationError\u001b[0m\u001b[0;31m:\u001b[0m expected an indented block\n"
     ]
    }
   ],
   "source": [
    "class Subject(object):\n",
    "    def __init__(self, name, score):\n",
    "    self.name = name\n",
    "    self.score = score\n",
    "\n",
    "class Math(Subject):\n",
    "    def say(self):\n",
    "    print(\"힘내\")"
   ]
  },
  {
   "cell_type": "code",
   "execution_count": 9,
   "metadata": {},
   "outputs": [
    {
     "ename": "AttributeError",
     "evalue": "'Inventory' object has no attribute 'add_new_item'",
     "output_type": "error",
     "traceback": [
      "\u001b[0;31m---------------------------------------------------------------------------\u001b[0m",
      "\u001b[0;31mAttributeError\u001b[0m                            Traceback (most recent call last)",
      "\u001b[0;32m<ipython-input-9-95ee431a722e>\u001b[0m in \u001b[0;36m<module>\u001b[0;34m\u001b[0m\n\u001b[1;32m     21\u001b[0m \u001b[0;34m\u001b[0m\u001b[0m\n\u001b[1;32m     22\u001b[0m \u001b[0mmy_inventory\u001b[0m \u001b[0;34m=\u001b[0m \u001b[0mInventory\u001b[0m\u001b[0;34m(\u001b[0m\u001b[0;34m)\u001b[0m\u001b[0;34m\u001b[0m\u001b[0m\n\u001b[0;32m---> 23\u001b[0;31m \u001b[0mmy_inventory\u001b[0m\u001b[0;34m.\u001b[0m\u001b[0madd_new_item\u001b[0m\u001b[0;34m(\u001b[0m\u001b[0mProduct\u001b[0m\u001b[0;34m(\u001b[0m\u001b[0;34m)\u001b[0m\u001b[0;34m)\u001b[0m\u001b[0;34m\u001b[0m\u001b[0m\n\u001b[0m\u001b[1;32m     24\u001b[0m \u001b[0mmy_inventory\u001b[0m\u001b[0;34m.\u001b[0m\u001b[0madd_new_item\u001b[0m\u001b[0;34m(\u001b[0m\u001b[0mProduct\u001b[0m\u001b[0;34m(\u001b[0m\u001b[0;34m)\u001b[0m\u001b[0;34m)\u001b[0m\u001b[0;34m\u001b[0m\u001b[0m\n\u001b[1;32m     25\u001b[0m \u001b[0mprint\u001b[0m\u001b[0;34m(\u001b[0m\u001b[0mmy_inventory\u001b[0m\u001b[0;34m.\u001b[0m\u001b[0mget_number_of_items\u001b[0m\u001b[0;34m(\u001b[0m\u001b[0;34m)\u001b[0m\u001b[0;34m)\u001b[0m\u001b[0;34m\u001b[0m\u001b[0m\n",
      "\u001b[0;31mAttributeError\u001b[0m: 'Inventory' object has no attribute 'add_new_item'"
     ]
    }
   ],
   "source": [
    "class Product(object):\n",
    "    pass\n",
    "\n",
    "class Inventory(object):\n",
    "    def __init__(self):\n",
    "        self.__items = []\n",
    "\n",
    "def add_new_item(self, product):\n",
    "    if type(product) == Product:\n",
    "        self.__items.append(product)\n",
    "        print(\"new item added\")\n",
    "    else:\n",
    "        raise ValueError(\"Invalid Item\")\n",
    "\n",
    "def get_number_of_items(self):\n",
    "    return len(self.__items)\n",
    "\n",
    "    @property\n",
    "    def items(self):\n",
    "        return self.__items\n",
    "\n",
    "my_inventory = Inventory()\n",
    "my_inventory.add_new_item(Product())\n",
    "my_inventory.add_new_item(Product())\n",
    "print(my_inventory.get_number_of_items())\n",
    "\n",
    "items = my_inventory.items\n",
    "items.append(Product())\n",
    "print(my_inventory.get_number_of_items())"
   ]
  },
  {
   "cell_type": "code",
   "execution_count": null,
   "metadata": {},
   "outputs": [],
   "source": []
  }
 ],
 "metadata": {
  "kernelspec": {
   "display_name": "Python 3",
   "language": "python",
   "name": "python3"
  },
  "language_info": {
   "codemirror_mode": {
    "name": "ipython",
    "version": 3
   },
   "file_extension": ".py",
   "mimetype": "text/x-python",
   "name": "python",
   "nbconvert_exporter": "python",
   "pygments_lexer": "ipython3",
   "version": "3.5.2"
  }
 },
 "nbformat": 4,
 "nbformat_minor": 2
}
