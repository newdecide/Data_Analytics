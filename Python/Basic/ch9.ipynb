{
 "cells": [
  {
   "cell_type": "code",
   "execution_count": 1,
   "metadata": {},
   "outputs": [
    {
     "name": "stdout",
     "output_type": "stream",
     "text": [
      "5\n"
     ]
    }
   ],
   "source": [
    "def f(x,y):\n",
    "    return x+y\n",
    "\n",
    "print(f(1,4))"
   ]
  },
  {
   "cell_type": "code",
   "execution_count": 2,
   "metadata": {},
   "outputs": [
    {
     "name": "stdout",
     "output_type": "stream",
     "text": [
      "5\n"
     ]
    }
   ],
   "source": [
    "#람다함수\n",
    "f = lambda x,y: x+y\n",
    "print(f(1,4))"
   ]
  },
  {
   "cell_type": "code",
   "execution_count": 5,
   "metadata": {},
   "outputs": [
    {
     "name": "stdout",
     "output_type": "stream",
     "text": [
      "<function <lambda> at 0x106aeeea0> (1, 4)\n",
      "<function <lambda> at 0x106b11048> (1, 4)\n"
     ]
    }
   ],
   "source": [
    "f = lambda x,y: x+y\n",
    "print(f,(1,4))\n",
    "\n",
    "f = lambda x:x **2\n",
    "print(f,(1,4))"
   ]
  },
  {
   "cell_type": "code",
   "execution_count": 10,
   "metadata": {},
   "outputs": [
    {
     "name": "stdout",
     "output_type": "stream",
     "text": [
      "[1, 4, 9, 16, 25]\n",
      "2\n",
      "4\n",
      "6\n",
      "8\n",
      "10\n"
     ]
    }
   ],
   "source": [
    "#map & Reduce / 분산 컴퓨팅 환경에서 대용량 데이터를 활용할 때 사용함.\n",
    "#2002~3년 출현한 개념(빅데이터)\n",
    "#sequence 자료형 각 속성에 동일한 함수를 적용\n",
    "\n",
    "#map 함수\n",
    "ex =[1,2,3,4,5]\n",
    "f = lambda x: x**2\n",
    "print(list(map(f,ex)))\n",
    "\n",
    "list(map(lambda x: x+x, ex))\n",
    "\n",
    "\n",
    "#map if는 else를 꼭 써야함.\n",
    "list(map(lambda x: x**2 if x% 2 == 0 else x, ex))\n",
    "\n",
    "#list를 붙여줘야 함. 제네레이터 함수 실행시점의 값을 생성, 메모리 효율적. \n",
    "#메모리 주소가 뜨게 되는 것 => 생성이 되지 않는 것\n",
    "#실행시점에 생길때만 값이 나옴(next, for, list으로 나오는 것.) \n",
    "\n",
    "\n",
    "#zip 함수랑 동일함. \n",
    "for x,y in zip(ex,ex):\n",
    "    print(x+y)\n"
   ]
  },
  {
   "cell_type": "code",
   "execution_count": 11,
   "metadata": {},
   "outputs": [
    {
     "name": "stdout",
     "output_type": "stream",
     "text": [
      "15\n"
     ]
    }
   ],
   "source": [
    "#Reduce function\n",
    "from functools import reduce\n",
    "print(reduce(lambda x,y: x+y, [1,2,3,4,5]))\n",
    "\n",
    "#python3 코드의 직관성이 떨어져서 사용을 권장하지 않음.."
   ]
  },
  {
   "cell_type": "code",
   "execution_count": 3,
   "metadata": {},
   "outputs": [
    {
     "name": "stdout",
     "output_type": "stream",
     "text": [
      "1 (2, 3, 4, 5, 6)\n",
      "<class 'tuple'>\n",
      "1 {'d': 4, 'b': 2, 'c': 3}\n",
      "<class 'dict'>\n"
     ]
    }
   ],
   "source": [
    "#Asterisk\n",
    "\n",
    "def asterisk_test(a, *args):\n",
    "    print(a, args)\n",
    "    print(type(args))\n",
    "\n",
    "asterisk_test(1,2,3,4,5,6)\n",
    "\n",
    "def asterisk_test(a, **kargs):\n",
    "    print(a, kargs)\n",
    "    print(type(kargs))\n",
    "    \n",
    "asterisk_test(1, b=2, c=3, d=4)"
   ]
  },
  {
   "cell_type": "code",
   "execution_count": 4,
   "metadata": {},
   "outputs": [
    {
     "name": "stdout",
     "output_type": "stream",
     "text": [
      "1 (2, 3, 4, 5, 6)\n",
      "<class 'tuple'>\n"
     ]
    }
   ],
   "source": [
    "#튜플로 변화는 것을 알 수 있음.\n",
    "def asterisk_test(a, *args):\n",
    "    print(a, args)\n",
    "    print(type(args))\n",
    "asterisk_test(1, *(2,3,4,5,6))\n"
   ]
  },
  {
   "cell_type": "code",
   "execution_count": 5,
   "metadata": {},
   "outputs": [
    {
     "name": "stdout",
     "output_type": "stream",
     "text": [
      "[7, 10]\n"
     ]
    }
   ],
   "source": [
    "#선형대수(매트릭스)\n",
    "#선형: 직선 또는 그와 비슷한 성질을 가진 대상\n",
    "#대수학: 문자에 숫자를 대입하여 푸는 문제\n",
    "#f(x) = ax +b\n",
    "#Vector \n",
    "#크기와 운반을 가지는 것. \n",
    "\n",
    "u = [2,2]\n",
    "v = [2,3]\n",
    "z = [3,5]\n",
    "\n",
    "result = [sum(t) for t in zip(u,v,z)]\n",
    "print(result)"
   ]
  },
  {
   "cell_type": "code",
   "execution_count": 12,
   "metadata": {},
   "outputs": [
    {
     "name": "stdout",
     "output_type": "stream",
     "text": [
      "a1 b1\n",
      "a2 b2\n",
      "a3 b3\n"
     ]
    }
   ],
   "source": [
    "alist=['a1','a2','a3']\n",
    "blist=['b1','b2','b3']\n",
    "for a, b in zip(alist,blist):\n",
    "    print(a,b)"
   ]
  },
  {
   "cell_type": "code",
   "execution_count": 13,
   "metadata": {},
   "outputs": [
    {
     "name": "stdout",
     "output_type": "stream",
     "text": [
      "[(0, 'apple'), (1, 'banana'), (2, 'grape')]\n"
     ]
    }
   ],
   "source": [
    "mylist = ['apple','banana','grape']\n",
    "result = list(enumerate(mylist))\n",
    "print (result)"
   ]
  },
  {
   "cell_type": "code",
   "execution_count": 14,
   "metadata": {},
   "outputs": [
    {
     "name": "stdout",
     "output_type": "stream",
     "text": [
      "orange-pink-brown-black-white\n"
     ]
    }
   ],
   "source": [
    "colors=['orange','pink','brown','black','white']\n",
    "result='-'.join(colors)\n",
    "print(result)"
   ]
  },
  {
   "cell_type": "code",
   "execution_count": 15,
   "metadata": {},
   "outputs": [
    {
     "name": "stdout",
     "output_type": "stream",
     "text": [
      "10\n"
     ]
    }
   ],
   "source": [
    "Mydict = { '1' : 1, '2' : 2 }\n",
    "Copy = Mydict\n",
    "Mydict['1'] = 5\n",
    "result= Mydict['1'] + Copy['1']\n",
    "print (result)"
   ]
  },
  {
   "cell_type": "code",
   "execution_count": 20,
   "metadata": {},
   "outputs": [
    {
     "name": "stdout",
     "output_type": "stream",
     "text": [
      "dict_items([('icecream', 59), ('greentea', 32), ('coffee', 25), ('chocolate', 17)])\n",
      "dict_keys(['icecream', 'greentea', 'coffee', 'chocolate'])\n"
     ]
    }
   ],
   "source": [
    "cs50_cafe = {\"greentea\":32, \"coffee\":25, \"chocolate\":17, \"icecream\":59}\n",
    "\n",
    "a = cs50_cafe.items()\n",
    "b = cs50_cafe.keys()\n",
    "c = cs50_cafe.values()\n",
    "\n",
    "print(a)\n",
    "print(b)\n"
   ]
  },
  {
   "cell_type": "code",
   "execution_count": null,
   "metadata": {},
   "outputs": [],
   "source": []
  }
 ],
 "metadata": {
  "kernelspec": {
   "display_name": "Python 3",
   "language": "python",
   "name": "python3"
  },
  "language_info": {
   "codemirror_mode": {
    "name": "ipython",
    "version": 3
   },
   "file_extension": ".py",
   "mimetype": "text/x-python",
   "name": "python",
   "nbconvert_exporter": "python",
   "pygments_lexer": "ipython3",
   "version": "3.5.2"
  }
 },
 "nbformat": 4,
 "nbformat_minor": 2
}
