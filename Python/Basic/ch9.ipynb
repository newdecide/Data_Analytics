{
 "cells": [
  {
   "cell_type": "code",
   "execution_count": 1,
   "metadata": {},
   "outputs": [
    {
     "name": "stdout",
     "output_type": "stream",
     "text": [
      "5\n"
     ]
    }
   ],
   "source": [
    "def f(x,y):\n",
    "    return x+y\n",
    "\n",
    "print(f(1,4))"
   ]
  },
  {
   "cell_type": "code",
   "execution_count": 2,
   "metadata": {},
   "outputs": [
    {
     "name": "stdout",
     "output_type": "stream",
     "text": [
      "5\n"
     ]
    }
   ],
   "source": [
    "#람다함수\n",
    "f = lambda x,y: x+y\n",
    "print(f(1,4))"
   ]
  },
  {
   "cell_type": "code",
   "execution_count": 5,
   "metadata": {},
   "outputs": [
    {
     "name": "stdout",
     "output_type": "stream",
     "text": [
      "<function <lambda> at 0x106aeeea0> (1, 4)\n",
      "<function <lambda> at 0x106b11048> (1, 4)\n"
     ]
    }
   ],
   "source": [
    "f = lambda x,y: x+y\n",
    "print(f,(1,4))\n",
    "\n",
    "f = lambda x:x **2\n",
    "print(f,(1,4))"
   ]
  },
  {
   "cell_type": "code",
   "execution_count": 10,
   "metadata": {},
   "outputs": [
    {
     "name": "stdout",
     "output_type": "stream",
     "text": [
      "[1, 4, 9, 16, 25]\n",
      "2\n",
      "4\n",
      "6\n",
      "8\n",
      "10\n"
     ]
    }
   ],
   "source": [
    "#map & Reduce / 분산 컴퓨팅 환경에서 대용량 데이터를 활용할 때 사용함.\n",
    "#2002~3년 출현한 개념(빅데이터)\n",
    "#sequence 자료형 각 속성에 동일한 함수를 적용\n",
    "\n",
    "#map 함수\n",
    "ex =[1,2,3,4,5]\n",
    "f = lambda x: x**2\n",
    "print(list(map(f,ex)))\n",
    "\n",
    "list(map(lambda x: x+x, ex))\n",
    "\n",
    "\n",
    "#map if는 else를 꼭 써야함.\n",
    "list(map(lambda x: x**2 if x% 2 == 0 else x, ex))\n",
    "\n",
    "#list를 붙여줘야 함. 제네레이터 함수 실행시점의 값을 생성, 메모리 효율적. \n",
    "#메모리 주소가 뜨게 되는 것 => 생성이 되지 않는 것\n",
    "#실행시점에 생길때만 값이 나옴(next, for, list으로 나오는 것.) \n",
    "\n",
    "\n",
    "#zip 함수랑 동일함. \n",
    "for x,y in zip(ex,ex):\n",
    "    print(x+y)\n"
   ]
  },
  {
   "cell_type": "code",
   "execution_count": 11,
   "metadata": {},
   "outputs": [
    {
     "name": "stdout",
     "output_type": "stream",
     "text": [
      "15\n"
     ]
    }
   ],
   "source": [
    "#Reduce function\n",
    "from functools import reduce\n",
    "print(reduce(lambda x,y: x+y, [1,2,3,4,5]))\n",
    "\n",
    "#python3 코드의 직관성이 떨어져서 사용을 권장하지 않음.."
   ]
  },
  {
   "cell_type": "code",
   "execution_count": null,
   "metadata": {},
   "outputs": [],
   "source": []
  }
 ],
 "metadata": {
  "kernelspec": {
   "display_name": "Python 3",
   "language": "python",
   "name": "python3"
  },
  "language_info": {
   "codemirror_mode": {
    "name": "ipython",
    "version": 3
   },
   "file_extension": ".py",
   "mimetype": "text/x-python",
   "name": "python",
   "nbconvert_exporter": "python",
   "pygments_lexer": "ipython3",
   "version": "3.5.2"
  }
 },
 "nbformat": 4,
 "nbformat_minor": 2
}
