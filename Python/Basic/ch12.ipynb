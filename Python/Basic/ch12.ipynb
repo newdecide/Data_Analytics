{
 "cells": [
  {
   "cell_type": "code",
   "execution_count": 1,
   "metadata": {},
   "outputs": [],
   "source": [
    "#프로그램을 사용하다가 오류가 날때. \n",
    "#주소를 입력하지 않고 배송요청 \n",
    "#저장도 안했는데 컴퓨터 전원이 나감\n",
    "\n",
    "#Exception \n",
    "#예상이 가능한 예외\n",
    "#사전에 인지가능, 사용자가 잘못된 입력, 파일 호출시 파일이 없음\n",
    "#개발자가 반드시 명시적으로 적어야함\n",
    "\n",
    "#예상 불가능한 예외\n",
    "#인터프리터 과정에서 발생하는 예외, 개발자실수\n",
    "#리스트 범위를 넘어가는 값 호출, 정수 0으로 나눔\n",
    "\n",
    "#예외 처리(Exception Handling)\n",
    "#예외가 발생할 경우 후속조치등 대처 필요. \n",
    "#프로그램은 제푸이다 "
   ]
  },
  {
   "cell_type": "code",
   "execution_count": 4,
   "metadata": {},
   "outputs": [
    {
     "name": "stdout",
     "output_type": "stream",
     "text": [
      "Not\n",
      "10.0\n",
      "5.0\n",
      "3.3333333333333335\n",
      "2.5\n",
      "2.0\n",
      "1.6666666666666667\n",
      "1.4285714285714286\n",
      "1.25\n",
      "1.1111111111111112\n"
     ]
    }
   ],
   "source": [
    "#에러\n",
    "for i in range(10):\n",
    "    try:\n",
    "        print(10/i)\n",
    "    except ZeroDivisionError:\n",
    "        (print(\"Not\"))"
   ]
  },
  {
   "cell_type": "code",
   "execution_count": 7,
   "metadata": {},
   "outputs": [
    {
     "name": "stdout",
     "output_type": "stream",
     "text": [
      "d\n",
      "1 10\n",
      "10.0\n",
      "2 5\n",
      "5.0\n",
      "3 3\n",
      "3.3333333333333335\n",
      "4 2\n",
      "2.5\n",
      "5 2\n",
      "2.0\n",
      "6 1\n",
      "1.6666666666666667\n",
      "7 1\n",
      "1.4285714285714286\n",
      "8 1\n",
      "1.25\n",
      "9 1\n",
      "1.1111111111111112\n"
     ]
    }
   ],
   "source": [
    "#indexError\n",
    "#NameError: 존재하지 않은 변수\n",
    "#ZeroDivisionError\n",
    "#VlaueError\n",
    "#FileNotFoundError: 파일이 없음\n",
    "\n",
    "for i in range(10):\n",
    "    try:\n",
    "        print(i, 10//i)\n",
    "    except ZeroDivisionError:\n",
    "        print(\"d\")\n",
    "    else:\n",
    "        print(10/i)\n",
    "        \n",
    "        "
   ]
  },
  {
   "cell_type": "code",
   "execution_count": 8,
   "metadata": {},
   "outputs": [
    {
     "name": "stdout",
     "output_type": "stream",
     "text": [
      "d\n",
      "종료됨\n",
      "1 10\n",
      "종료됨\n",
      "2 5\n",
      "종료됨\n",
      "3 3\n",
      "종료됨\n",
      "4 2\n",
      "종료됨\n",
      "5 2\n",
      "종료됨\n",
      "6 1\n",
      "종료됨\n",
      "7 1\n",
      "종료됨\n",
      "8 1\n",
      "종료됨\n",
      "9 1\n",
      "종료됨\n"
     ]
    }
   ],
   "source": [
    "\n",
    "for i in range(10):\n",
    "    try:\n",
    "        print(i, 10//i)\n",
    "    except ZeroDivisionError:\n",
    "        print(\"d\")\n",
    "    finally:\n",
    "        print(\"종료됨\")\n",
    "        \n",
    "        "
   ]
  },
  {
   "cell_type": "code",
   "execution_count": 9,
   "metadata": {},
   "outputs": [],
   "source": [
    "#rasie  : 필요에 따라 강제로 exception 발생\n",
    "#assert : 조건에 만족하지 않을 경우 예외발생\n"
   ]
  },
  {
   "cell_type": "code",
   "execution_count": 10,
   "metadata": {},
   "outputs": [
    {
     "ename": "SyntaxError",
     "evalue": "invalid syntax (<ipython-input-10-5cadf3cb2c2d>, line 50)",
     "output_type": "error",
     "traceback": [
      "\u001b[0;36m  File \u001b[0;32m\"<ipython-input-10-5cadf3cb2c2d>\"\u001b[0;36m, line \u001b[0;32m50\u001b[0m\n\u001b[0;31m    mode a\u001b[0m\n\u001b[0m         ^\u001b[0m\n\u001b[0;31mSyntaxError\u001b[0m\u001b[0;31m:\u001b[0m invalid syntax\n"
     ]
    }
   ],
   "source": [
    "#File Handing Overview\n",
    "#zsh(색깔 구분)\n",
    "\n",
    "#파일의 종류\n",
    "#바이너리: 이진법, 메모장 해설불가\n",
    "#텍스트: 눈으로 볼 수 있는 것\n",
    "\n",
    "#file I/O\n",
    "\n",
    "#실행\n",
    "#f = open\"파일모드\", 접근모드)\n",
    "#종료\n",
    "#f.close()\n",
    "#r:읽고, w: 쓰고, a:추가\n",
    "\n",
    "#File Read\n",
    "#read() txt 파일 안에 있는 내용을 문자열로 반환\n",
    "\n",
    "#f = open(\"파일 \", \"r\", 인코딩: utpy)\n",
    "# context = f.read ()\n",
    "#print(context)\n",
    "#f.close\n",
    "\n",
    "\n",
    "# with open(\"파일 \", \"r\", 인코딩: utpy) as f:\n",
    "# context = f.read()\n",
    "# print(context)\n",
    "# f.close\n",
    "\n",
    "#readlines() => 한줄씩 반환\n",
    "#두줄을 end=\"\"\n",
    "\n",
    "#특정 문장만 \n",
    "#with open(\"i_hanve.txt\", \"r\") as my_file:\n",
    "# i = 0\n",
    "# while 1:\n",
    "#        line = myfile.readline()\n",
    "#        if not line:\n",
    "#            break\n",
    "#        print(str(i) +\"===\"+ line.replace(\"\\n\",\"\"))\n",
    "#        i=i+1\n",
    "\n",
    "#파일 쓰기\n",
    "f = open(\"tun.txt\",\"w\", encoding=\"utf8\")\n",
    "for i in range(1,11):\n",
    "    data = \"%번째 줄입니다. \\n\" %i\n",
    "    f.write(data)\n",
    "f.close\n",
    "\n",
    "mode a\n",
    "with open(\"tun.txt\",\"a\", encoding=\"utf8\")\n",
    "for i in range(1,11):\n",
    "    data = \"%번째 줄입니다. \\n\" %i\n",
    "    f.write(data)\n",
    "        \n",
    "        "
   ]
  },
  {
   "cell_type": "code",
   "execution_count": 11,
   "metadata": {},
   "outputs": [],
   "source": [
    "import os\n",
    "os.mkdir(\"log_1\")\n",
    "#존재하는 확인후 생성 / 상대경로라는 것(현재 위치) 절대경로: 특정 나오는 것. \n",
    "if not os.path.isdir(\"log\"):\n",
    "    os.mkdir(\"log\")\n",
    "    \n"
   ]
  },
  {
   "cell_type": "code",
   "execution_count": 12,
   "metadata": {},
   "outputs": [
    {
     "ename": "ValueError",
     "evalue": "invalid mode: 'Wb'",
     "output_type": "error",
     "traceback": [
      "\u001b[0;31m---------------------------------------------------------------------------\u001b[0m",
      "\u001b[0;31mValueError\u001b[0m                                Traceback (most recent call last)",
      "\u001b[0;32m<ipython-input-12-e5620a27f865>\u001b[0m in \u001b[0;36m<module>\u001b[0;34m\u001b[0m\n\u001b[1;32m      3\u001b[0m \u001b[0;34m\u001b[0m\u001b[0m\n\u001b[1;32m      4\u001b[0m \u001b[0;32mimport\u001b[0m \u001b[0mpickle\u001b[0m\u001b[0;34m\u001b[0m\u001b[0m\n\u001b[0;32m----> 5\u001b[0;31m \u001b[0mf\u001b[0m \u001b[0;34m=\u001b[0m \u001b[0mopen\u001b[0m\u001b[0;34m(\u001b[0m\u001b[0;34m\"list.pickle\"\u001b[0m\u001b[0;34m,\u001b[0m \u001b[0;34m\"Wb\"\u001b[0m\u001b[0;34m)\u001b[0m\u001b[0;34m\u001b[0m\u001b[0m\n\u001b[0m\u001b[1;32m      6\u001b[0m \u001b[0mtest\u001b[0m \u001b[0;34m=\u001b[0m \u001b[0;34m[\u001b[0m\u001b[0;36m1\u001b[0m\u001b[0;34m,\u001b[0m\u001b[0;36m2\u001b[0m\u001b[0;34m,\u001b[0m\u001b[0;36m3\u001b[0m\u001b[0;34m,\u001b[0m\u001b[0;36m4\u001b[0m\u001b[0;34m,\u001b[0m\u001b[0;36m5\u001b[0m\u001b[0;34m]\u001b[0m\u001b[0;34m\u001b[0m\u001b[0m\n\u001b[1;32m      7\u001b[0m \u001b[0mpickle\u001b[0m\u001b[0;34m.\u001b[0m\u001b[0mdump\u001b[0m\u001b[0;34m(\u001b[0m\u001b[0mtest\u001b[0m\u001b[0;34m,\u001b[0m \u001b[0mf\u001b[0m\u001b[0;34m)\u001b[0m\u001b[0;34m\u001b[0m\u001b[0m\n",
      "\u001b[0;31mValueError\u001b[0m: invalid mode: 'Wb'"
     ]
    }
   ],
   "source": [
    "#Log 파일 생성\n",
    "#picker 영속화 하는 것\n",
    "\n",
    "import pickle\n",
    "f = open(\"list.pickle\", \"Wb\")\n",
    "test = [1,2,3,4,5]\n",
    "pickle.dump(test, f)\n",
    "f.close()\n",
    "\n",
    "del test\n",
    "\n",
    "f=open(\"list.pickle\", \"rb\")\n",
    "test_pickle\n",
    "\n"
   ]
  },
  {
   "cell_type": "code",
   "execution_count": 13,
   "metadata": {},
   "outputs": [],
   "source": [
    "#유사 = 가깝다. \n",
    "#one-hot encoding 문자를 백터로 변경\n",
    "#유사성 측성: 피타고라스 정리, "
   ]
  },
  {
   "cell_type": "code",
   "execution_count": 18,
   "metadata": {},
   "outputs": [
    {
     "name": "stdout",
     "output_type": "stream",
     "text": [
      "2\n"
     ]
    }
   ],
   "source": [
    "def score_of_quiz(your_score):\n",
    "    k = 0\n",
    "    try:\n",
    "        for i in your_score:\n",
    "            if 2//i == 0:\n",
    "                k += 1\n",
    "        return k\n",
    "    except ZeroDivisionError: \n",
    "        return 0\n",
    "    finally:\n",
    "        return k\n",
    "score_of_you = [3, 4, 0]\n",
    "result = score_of_quiz(score_of_you)\n",
    "print(result)"
   ]
  },
  {
   "cell_type": "code",
   "execution_count": 19,
   "metadata": {},
   "outputs": [
    {
     "name": "stdout",
     "output_type": "stream",
     "text": [
      "Not divided by 0\n",
      "3\n",
      "1\n"
     ]
    }
   ],
   "source": [
    "for i in range(3):\n",
    "    try:\n",
    "        print (int(3/i))\n",
    "    except ZeroDivisionError:\n",
    "        print (\"Not divided by 0\")"
   ]
  },
  {
   "cell_type": "code",
   "execution_count": null,
   "metadata": {},
   "outputs": [],
   "source": []
  }
 ],
 "metadata": {
  "kernelspec": {
   "display_name": "Python 3",
   "language": "python",
   "name": "python3"
  },
  "language_info": {
   "codemirror_mode": {
    "name": "ipython",
    "version": 3
   },
   "file_extension": ".py",
   "mimetype": "text/x-python",
   "name": "python",
   "nbconvert_exporter": "python",
   "pygments_lexer": "ipython3",
   "version": "3.5.2"
  }
 },
 "nbformat": 4,
 "nbformat_minor": 2
}
