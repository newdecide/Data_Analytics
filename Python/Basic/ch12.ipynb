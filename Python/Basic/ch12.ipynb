{
 "cells": [
  {
   "cell_type": "code",
   "execution_count": null,
   "metadata": {},
   "outputs": [],
   "source": [
    "#프로그램을 사용하다가 오류가 날때. \n",
    "#주소를 입력하지 않고 배송요청 \n",
    "#저장도 안했는데 컴퓨터 전원이 나감\n",
    "\n",
    "#Exception \n",
    "#예상이 가능한 예외\n",
    "#사전에 인지가능, 사용자가 잘못된 입력, 파일 호출시 파일이 없음\n",
    "#개발자가 반드시 명시적으로 적어야함\n",
    "\n",
    "#예상 불가능한 예외\n",
    "#인터프리터 과정에서 발생하는 예외, 개발자실수\n",
    "#리스트 범위를 넘어가는 값 호출, 정수 0으로 나눔\n",
    "\n",
    "#예외 처리(Exception Handling)\n",
    "#예외가 발생할 경우 후속조치등 대처 필요. \n",
    "#프로그램은 제푸이다 "
   ]
  }
 ],
 "metadata": {
  "kernelspec": {
   "display_name": "Python 3",
   "language": "python",
   "name": "python3"
  },
  "language_info": {
   "codemirror_mode": {
    "name": "ipython",
    "version": 3
   },
   "file_extension": ".py",
   "mimetype": "text/x-python",
   "name": "python",
   "nbconvert_exporter": "python",
   "pygments_lexer": "ipython3",
   "version": "3.5.2"
  }
 },
 "nbformat": 4,
 "nbformat_minor": 2
}
